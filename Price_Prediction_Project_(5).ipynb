{
  "cells": [
    {
      "cell_type": "code",
      "execution_count": 2,
      "metadata": {
        "id": "kPOT0-XLFEuZ"
      },
      "outputs": [],
      "source": [
        "#!pip install -q --upgrade ipython\n",
        "#!pip install -q --upgrade ipykernel"
      ]
    },
    {
      "cell_type": "code",
      "execution_count": 3,
      "metadata": {
        "id": "2NqmiZdad2sG"
      },
      "outputs": [],
      "source": [
        "#!pip uninstall tornado\n",
        "#!pip install tornado==4.5.3"
      ]
    },
    {
      "cell_type": "code",
      "execution_count": 4,
      "metadata": {
        "id": "Cx22Sv4hLPAT"
      },
      "outputs": [],
      "source": [
        "import pandas as pd\n",
        "import numpy as np\n",
        "import seaborn as sns\n",
        "import plotly.express as px\n",
        "import plotly.graph_objects as go\n",
        "import matplotlib.pyplot as plt"
      ]
    },
    {
      "cell_type": "code",
      "execution_count": 5,
      "metadata": {
        "id": "6eL--CLZAgbP",
        "colab": {
          "base_uri": "https://localhost:8080/"
        },
        "outputId": "909e7424-006c-4834-8355-a10049dd27a5"
      },
      "outputs": [
        {
          "output_type": "stream",
          "name": "stdout",
          "text": [
            "Mounted at /content/drive\n"
          ]
        }
      ],
      "source": [
        "from google.colab import drive\n",
        "drive.mount('/content/drive')\n",
        "import pandas as pd\n",
        "df1 = pd.read_csv('/content/drive/MyDrive/Project Dataset/audi.csv')\n",
        "df2 = pd.read_csv('/content/drive/MyDrive/Project Dataset/bmw.csv')\n",
        "df3 = pd.read_csv('/content/drive/MyDrive/Project Dataset/cclass.csv')\n",
        "df4 = pd.read_csv('/content/drive/MyDrive/Project Dataset/focus.csv')\n",
        "df5 = pd.read_csv('/content/drive/MyDrive/Project Dataset/ford.csv')\n",
        "df6 = pd.read_csv('/content/drive/MyDrive/Project Dataset/hyundi.csv')\n",
        "df7 = pd.read_csv('/content/drive/MyDrive/Project Dataset/merc.csv')\n",
        "df8 = pd.read_csv('/content/drive/MyDrive/Project Dataset/skoda.csv')\n",
        "df9 = pd.read_csv('/content/drive/MyDrive/Project Dataset/toyota.csv')\n",
        "df10 = pd.read_csv('/content/drive/MyDrive/Project Dataset/vauxhall.csv')\n",
        "df11 = pd.read_csv('/content/drive/MyDrive/Project Dataset/vw.csv')\n",
        "\n",
        "\n",
        "\n"
      ]
    },
    {
      "cell_type": "code",
      "execution_count": 6,
      "metadata": {
        "id": "6YypJLGxHGth"
      },
      "outputs": [],
      "source": [
        "df1['Brands'] = 'AUDI'\n",
        "df2['Brands'] = 'BMW'\n",
        "df3['Brands'] = 'CCLASS'\n",
        "df4['Brands'] = 'FOCUS'\n",
        "df5['Brands'] = 'FORD'\n",
        "df6['Brands'] = 'HYUNDI'\n",
        "df7['Brands'] = 'MERC'\n",
        "df8['Brands'] = 'SKODA'\n",
        "df9['Brands'] = 'TOYOTA'\n",
        "df10['Brands'] = 'VAUXHALL'\n",
        "df11['Brands'] = 'VW'\n"
      ]
    },
    {
      "cell_type": "code",
      "execution_count": 7,
      "metadata": {
        "id": "v2SnzjSfTiq3",
        "colab": {
          "base_uri": "https://localhost:8080/"
        },
        "outputId": "101d9a1b-218a-40f6-9794-4d25db1791ee"
      },
      "outputs": [
        {
          "output_type": "execute_result",
          "data": {
            "text/plain": [
              "(108540, 11)"
            ]
          },
          "metadata": {},
          "execution_count": 7
        }
      ],
      "source": [
        "# concated all the datasets into one single dataset df.\n",
        "cars_list = [df1, df2, df3, df4, df5, df6, df7, df8, df9, df10, df11]\n",
        "cars = pd.concat(cars_list) \n",
        "cars.shape # to check the dimentions of the dataset."
      ]
    },
    {
      "cell_type": "code",
      "execution_count": 8,
      "metadata": {
        "id": "-iChGmryTnqO",
        "colab": {
          "base_uri": "https://localhost:8080/",
          "height": 206
        },
        "outputId": "f943eb37-a54a-49b6-a9fb-05d0ad0b3ab0"
      },
      "outputs": [
        {
          "output_type": "execute_result",
          "data": {
            "text/plain": [
              "  model  year  price transmission  mileage fuelType    tax   mpg  engineSize  \\\n",
              "0    A1  2017  12500       Manual    15735   Petrol  150.0  55.4         1.4   \n",
              "1    A6  2016  16500    Automatic    36203   Diesel   20.0  64.2         2.0   \n",
              "2    A1  2016  11000       Manual    29946   Petrol   30.0  55.4         1.4   \n",
              "3    A4  2017  16800    Automatic    25952   Diesel  145.0  67.3         2.0   \n",
              "4    A3  2019  17300       Manual     1998   Petrol  145.0  49.6         1.0   \n",
              "\n",
              "  Brands  tax(£)  \n",
              "0   AUDI     NaN  \n",
              "1   AUDI     NaN  \n",
              "2   AUDI     NaN  \n",
              "3   AUDI     NaN  \n",
              "4   AUDI     NaN  "
            ],
            "text/html": [
              "\n",
              "  <div id=\"df-5347b103-3ff9-4f6c-bb5f-86a6a713d3c6\">\n",
              "    <div class=\"colab-df-container\">\n",
              "      <div>\n",
              "<style scoped>\n",
              "    .dataframe tbody tr th:only-of-type {\n",
              "        vertical-align: middle;\n",
              "    }\n",
              "\n",
              "    .dataframe tbody tr th {\n",
              "        vertical-align: top;\n",
              "    }\n",
              "\n",
              "    .dataframe thead th {\n",
              "        text-align: right;\n",
              "    }\n",
              "</style>\n",
              "<table border=\"1\" class=\"dataframe\">\n",
              "  <thead>\n",
              "    <tr style=\"text-align: right;\">\n",
              "      <th></th>\n",
              "      <th>model</th>\n",
              "      <th>year</th>\n",
              "      <th>price</th>\n",
              "      <th>transmission</th>\n",
              "      <th>mileage</th>\n",
              "      <th>fuelType</th>\n",
              "      <th>tax</th>\n",
              "      <th>mpg</th>\n",
              "      <th>engineSize</th>\n",
              "      <th>Brands</th>\n",
              "      <th>tax(£)</th>\n",
              "    </tr>\n",
              "  </thead>\n",
              "  <tbody>\n",
              "    <tr>\n",
              "      <th>0</th>\n",
              "      <td>A1</td>\n",
              "      <td>2017</td>\n",
              "      <td>12500</td>\n",
              "      <td>Manual</td>\n",
              "      <td>15735</td>\n",
              "      <td>Petrol</td>\n",
              "      <td>150.0</td>\n",
              "      <td>55.4</td>\n",
              "      <td>1.4</td>\n",
              "      <td>AUDI</td>\n",
              "      <td>NaN</td>\n",
              "    </tr>\n",
              "    <tr>\n",
              "      <th>1</th>\n",
              "      <td>A6</td>\n",
              "      <td>2016</td>\n",
              "      <td>16500</td>\n",
              "      <td>Automatic</td>\n",
              "      <td>36203</td>\n",
              "      <td>Diesel</td>\n",
              "      <td>20.0</td>\n",
              "      <td>64.2</td>\n",
              "      <td>2.0</td>\n",
              "      <td>AUDI</td>\n",
              "      <td>NaN</td>\n",
              "    </tr>\n",
              "    <tr>\n",
              "      <th>2</th>\n",
              "      <td>A1</td>\n",
              "      <td>2016</td>\n",
              "      <td>11000</td>\n",
              "      <td>Manual</td>\n",
              "      <td>29946</td>\n",
              "      <td>Petrol</td>\n",
              "      <td>30.0</td>\n",
              "      <td>55.4</td>\n",
              "      <td>1.4</td>\n",
              "      <td>AUDI</td>\n",
              "      <td>NaN</td>\n",
              "    </tr>\n",
              "    <tr>\n",
              "      <th>3</th>\n",
              "      <td>A4</td>\n",
              "      <td>2017</td>\n",
              "      <td>16800</td>\n",
              "      <td>Automatic</td>\n",
              "      <td>25952</td>\n",
              "      <td>Diesel</td>\n",
              "      <td>145.0</td>\n",
              "      <td>67.3</td>\n",
              "      <td>2.0</td>\n",
              "      <td>AUDI</td>\n",
              "      <td>NaN</td>\n",
              "    </tr>\n",
              "    <tr>\n",
              "      <th>4</th>\n",
              "      <td>A3</td>\n",
              "      <td>2019</td>\n",
              "      <td>17300</td>\n",
              "      <td>Manual</td>\n",
              "      <td>1998</td>\n",
              "      <td>Petrol</td>\n",
              "      <td>145.0</td>\n",
              "      <td>49.6</td>\n",
              "      <td>1.0</td>\n",
              "      <td>AUDI</td>\n",
              "      <td>NaN</td>\n",
              "    </tr>\n",
              "  </tbody>\n",
              "</table>\n",
              "</div>\n",
              "      <button class=\"colab-df-convert\" onclick=\"convertToInteractive('df-5347b103-3ff9-4f6c-bb5f-86a6a713d3c6')\"\n",
              "              title=\"Convert this dataframe to an interactive table.\"\n",
              "              style=\"display:none;\">\n",
              "        \n",
              "  <svg xmlns=\"http://www.w3.org/2000/svg\" height=\"24px\"viewBox=\"0 0 24 24\"\n",
              "       width=\"24px\">\n",
              "    <path d=\"M0 0h24v24H0V0z\" fill=\"none\"/>\n",
              "    <path d=\"M18.56 5.44l.94 2.06.94-2.06 2.06-.94-2.06-.94-.94-2.06-.94 2.06-2.06.94zm-11 1L8.5 8.5l.94-2.06 2.06-.94-2.06-.94L8.5 2.5l-.94 2.06-2.06.94zm10 10l.94 2.06.94-2.06 2.06-.94-2.06-.94-.94-2.06-.94 2.06-2.06.94z\"/><path d=\"M17.41 7.96l-1.37-1.37c-.4-.4-.92-.59-1.43-.59-.52 0-1.04.2-1.43.59L10.3 9.45l-7.72 7.72c-.78.78-.78 2.05 0 2.83L4 21.41c.39.39.9.59 1.41.59.51 0 1.02-.2 1.41-.59l7.78-7.78 2.81-2.81c.8-.78.8-2.07 0-2.86zM5.41 20L4 18.59l7.72-7.72 1.47 1.35L5.41 20z\"/>\n",
              "  </svg>\n",
              "      </button>\n",
              "      \n",
              "  <style>\n",
              "    .colab-df-container {\n",
              "      display:flex;\n",
              "      flex-wrap:wrap;\n",
              "      gap: 12px;\n",
              "    }\n",
              "\n",
              "    .colab-df-convert {\n",
              "      background-color: #E8F0FE;\n",
              "      border: none;\n",
              "      border-radius: 50%;\n",
              "      cursor: pointer;\n",
              "      display: none;\n",
              "      fill: #1967D2;\n",
              "      height: 32px;\n",
              "      padding: 0 0 0 0;\n",
              "      width: 32px;\n",
              "    }\n",
              "\n",
              "    .colab-df-convert:hover {\n",
              "      background-color: #E2EBFA;\n",
              "      box-shadow: 0px 1px 2px rgba(60, 64, 67, 0.3), 0px 1px 3px 1px rgba(60, 64, 67, 0.15);\n",
              "      fill: #174EA6;\n",
              "    }\n",
              "\n",
              "    [theme=dark] .colab-df-convert {\n",
              "      background-color: #3B4455;\n",
              "      fill: #D2E3FC;\n",
              "    }\n",
              "\n",
              "    [theme=dark] .colab-df-convert:hover {\n",
              "      background-color: #434B5C;\n",
              "      box-shadow: 0px 1px 3px 1px rgba(0, 0, 0, 0.15);\n",
              "      filter: drop-shadow(0px 1px 2px rgba(0, 0, 0, 0.3));\n",
              "      fill: #FFFFFF;\n",
              "    }\n",
              "  </style>\n",
              "\n",
              "      <script>\n",
              "        const buttonEl =\n",
              "          document.querySelector('#df-5347b103-3ff9-4f6c-bb5f-86a6a713d3c6 button.colab-df-convert');\n",
              "        buttonEl.style.display =\n",
              "          google.colab.kernel.accessAllowed ? 'block' : 'none';\n",
              "\n",
              "        async function convertToInteractive(key) {\n",
              "          const element = document.querySelector('#df-5347b103-3ff9-4f6c-bb5f-86a6a713d3c6');\n",
              "          const dataTable =\n",
              "            await google.colab.kernel.invokeFunction('convertToInteractive',\n",
              "                                                     [key], {});\n",
              "          if (!dataTable) return;\n",
              "\n",
              "          const docLinkHtml = 'Like what you see? Visit the ' +\n",
              "            '<a target=\"_blank\" href=https://colab.research.google.com/notebooks/data_table.ipynb>data table notebook</a>'\n",
              "            + ' to learn more about interactive tables.';\n",
              "          element.innerHTML = '';\n",
              "          dataTable['output_type'] = 'display_data';\n",
              "          await google.colab.output.renderOutput(dataTable, element);\n",
              "          const docLink = document.createElement('div');\n",
              "          docLink.innerHTML = docLinkHtml;\n",
              "          element.appendChild(docLink);\n",
              "        }\n",
              "      </script>\n",
              "    </div>\n",
              "  </div>\n",
              "  "
            ]
          },
          "metadata": {},
          "execution_count": 8
        }
      ],
      "source": [
        "cars.head() # displays first 5 rows in the dataset."
      ]
    },
    {
      "cell_type": "code",
      "execution_count": 9,
      "metadata": {
        "id": "vwiiKQF7JsmZ",
        "colab": {
          "base_uri": "https://localhost:8080/",
          "height": 423
        },
        "outputId": "29ea146c-d3fc-40de-b232-3ac27fa08bef"
      },
      "outputs": [
        {
          "output_type": "execute_result",
          "data": {
            "text/plain": [
              "      Brands model  year  price transmission  mileage fuelType    tax   mpg  \\\n",
              "0       AUDI    A1  2017  12500       Manual    15735   Petrol  150.0  55.4   \n",
              "1       AUDI    A6  2016  16500    Automatic    36203   Diesel   20.0  64.2   \n",
              "2       AUDI    A1  2016  11000       Manual    29946   Petrol   30.0  55.4   \n",
              "3       AUDI    A4  2017  16800    Automatic    25952   Diesel  145.0  67.3   \n",
              "4       AUDI    A3  2019  17300       Manual     1998   Petrol  145.0  49.6   \n",
              "...      ...   ...   ...    ...          ...      ...      ...    ...   ...   \n",
              "15152     VW   Eos  2012   5990       Manual    74000   Diesel  125.0  58.9   \n",
              "15153     VW   Fox  2008   1799       Manual    88102   Petrol  145.0  46.3   \n",
              "15154     VW   Fox  2009   1590       Manual    70000   Petrol  200.0  42.0   \n",
              "15155     VW   Fox  2006   1250       Manual    82704   Petrol  150.0  46.3   \n",
              "15156     VW   Fox  2007   2295       Manual    74000   Petrol  145.0  46.3   \n",
              "\n",
              "       engineSize  tax(£)  \n",
              "0             1.4     NaN  \n",
              "1             2.0     NaN  \n",
              "2             1.4     NaN  \n",
              "3             2.0     NaN  \n",
              "4             1.0     NaN  \n",
              "...           ...     ...  \n",
              "15152         2.0     NaN  \n",
              "15153         1.2     NaN  \n",
              "15154         1.4     NaN  \n",
              "15155         1.2     NaN  \n",
              "15156         1.2     NaN  \n",
              "\n",
              "[108540 rows x 11 columns]"
            ],
            "text/html": [
              "\n",
              "  <div id=\"df-4cddc99c-b406-437f-99e3-043df778faa0\">\n",
              "    <div class=\"colab-df-container\">\n",
              "      <div>\n",
              "<style scoped>\n",
              "    .dataframe tbody tr th:only-of-type {\n",
              "        vertical-align: middle;\n",
              "    }\n",
              "\n",
              "    .dataframe tbody tr th {\n",
              "        vertical-align: top;\n",
              "    }\n",
              "\n",
              "    .dataframe thead th {\n",
              "        text-align: right;\n",
              "    }\n",
              "</style>\n",
              "<table border=\"1\" class=\"dataframe\">\n",
              "  <thead>\n",
              "    <tr style=\"text-align: right;\">\n",
              "      <th></th>\n",
              "      <th>Brands</th>\n",
              "      <th>model</th>\n",
              "      <th>year</th>\n",
              "      <th>price</th>\n",
              "      <th>transmission</th>\n",
              "      <th>mileage</th>\n",
              "      <th>fuelType</th>\n",
              "      <th>tax</th>\n",
              "      <th>mpg</th>\n",
              "      <th>engineSize</th>\n",
              "      <th>tax(£)</th>\n",
              "    </tr>\n",
              "  </thead>\n",
              "  <tbody>\n",
              "    <tr>\n",
              "      <th>0</th>\n",
              "      <td>AUDI</td>\n",
              "      <td>A1</td>\n",
              "      <td>2017</td>\n",
              "      <td>12500</td>\n",
              "      <td>Manual</td>\n",
              "      <td>15735</td>\n",
              "      <td>Petrol</td>\n",
              "      <td>150.0</td>\n",
              "      <td>55.4</td>\n",
              "      <td>1.4</td>\n",
              "      <td>NaN</td>\n",
              "    </tr>\n",
              "    <tr>\n",
              "      <th>1</th>\n",
              "      <td>AUDI</td>\n",
              "      <td>A6</td>\n",
              "      <td>2016</td>\n",
              "      <td>16500</td>\n",
              "      <td>Automatic</td>\n",
              "      <td>36203</td>\n",
              "      <td>Diesel</td>\n",
              "      <td>20.0</td>\n",
              "      <td>64.2</td>\n",
              "      <td>2.0</td>\n",
              "      <td>NaN</td>\n",
              "    </tr>\n",
              "    <tr>\n",
              "      <th>2</th>\n",
              "      <td>AUDI</td>\n",
              "      <td>A1</td>\n",
              "      <td>2016</td>\n",
              "      <td>11000</td>\n",
              "      <td>Manual</td>\n",
              "      <td>29946</td>\n",
              "      <td>Petrol</td>\n",
              "      <td>30.0</td>\n",
              "      <td>55.4</td>\n",
              "      <td>1.4</td>\n",
              "      <td>NaN</td>\n",
              "    </tr>\n",
              "    <tr>\n",
              "      <th>3</th>\n",
              "      <td>AUDI</td>\n",
              "      <td>A4</td>\n",
              "      <td>2017</td>\n",
              "      <td>16800</td>\n",
              "      <td>Automatic</td>\n",
              "      <td>25952</td>\n",
              "      <td>Diesel</td>\n",
              "      <td>145.0</td>\n",
              "      <td>67.3</td>\n",
              "      <td>2.0</td>\n",
              "      <td>NaN</td>\n",
              "    </tr>\n",
              "    <tr>\n",
              "      <th>4</th>\n",
              "      <td>AUDI</td>\n",
              "      <td>A3</td>\n",
              "      <td>2019</td>\n",
              "      <td>17300</td>\n",
              "      <td>Manual</td>\n",
              "      <td>1998</td>\n",
              "      <td>Petrol</td>\n",
              "      <td>145.0</td>\n",
              "      <td>49.6</td>\n",
              "      <td>1.0</td>\n",
              "      <td>NaN</td>\n",
              "    </tr>\n",
              "    <tr>\n",
              "      <th>...</th>\n",
              "      <td>...</td>\n",
              "      <td>...</td>\n",
              "      <td>...</td>\n",
              "      <td>...</td>\n",
              "      <td>...</td>\n",
              "      <td>...</td>\n",
              "      <td>...</td>\n",
              "      <td>...</td>\n",
              "      <td>...</td>\n",
              "      <td>...</td>\n",
              "      <td>...</td>\n",
              "    </tr>\n",
              "    <tr>\n",
              "      <th>15152</th>\n",
              "      <td>VW</td>\n",
              "      <td>Eos</td>\n",
              "      <td>2012</td>\n",
              "      <td>5990</td>\n",
              "      <td>Manual</td>\n",
              "      <td>74000</td>\n",
              "      <td>Diesel</td>\n",
              "      <td>125.0</td>\n",
              "      <td>58.9</td>\n",
              "      <td>2.0</td>\n",
              "      <td>NaN</td>\n",
              "    </tr>\n",
              "    <tr>\n",
              "      <th>15153</th>\n",
              "      <td>VW</td>\n",
              "      <td>Fox</td>\n",
              "      <td>2008</td>\n",
              "      <td>1799</td>\n",
              "      <td>Manual</td>\n",
              "      <td>88102</td>\n",
              "      <td>Petrol</td>\n",
              "      <td>145.0</td>\n",
              "      <td>46.3</td>\n",
              "      <td>1.2</td>\n",
              "      <td>NaN</td>\n",
              "    </tr>\n",
              "    <tr>\n",
              "      <th>15154</th>\n",
              "      <td>VW</td>\n",
              "      <td>Fox</td>\n",
              "      <td>2009</td>\n",
              "      <td>1590</td>\n",
              "      <td>Manual</td>\n",
              "      <td>70000</td>\n",
              "      <td>Petrol</td>\n",
              "      <td>200.0</td>\n",
              "      <td>42.0</td>\n",
              "      <td>1.4</td>\n",
              "      <td>NaN</td>\n",
              "    </tr>\n",
              "    <tr>\n",
              "      <th>15155</th>\n",
              "      <td>VW</td>\n",
              "      <td>Fox</td>\n",
              "      <td>2006</td>\n",
              "      <td>1250</td>\n",
              "      <td>Manual</td>\n",
              "      <td>82704</td>\n",
              "      <td>Petrol</td>\n",
              "      <td>150.0</td>\n",
              "      <td>46.3</td>\n",
              "      <td>1.2</td>\n",
              "      <td>NaN</td>\n",
              "    </tr>\n",
              "    <tr>\n",
              "      <th>15156</th>\n",
              "      <td>VW</td>\n",
              "      <td>Fox</td>\n",
              "      <td>2007</td>\n",
              "      <td>2295</td>\n",
              "      <td>Manual</td>\n",
              "      <td>74000</td>\n",
              "      <td>Petrol</td>\n",
              "      <td>145.0</td>\n",
              "      <td>46.3</td>\n",
              "      <td>1.2</td>\n",
              "      <td>NaN</td>\n",
              "    </tr>\n",
              "  </tbody>\n",
              "</table>\n",
              "<p>108540 rows × 11 columns</p>\n",
              "</div>\n",
              "      <button class=\"colab-df-convert\" onclick=\"convertToInteractive('df-4cddc99c-b406-437f-99e3-043df778faa0')\"\n",
              "              title=\"Convert this dataframe to an interactive table.\"\n",
              "              style=\"display:none;\">\n",
              "        \n",
              "  <svg xmlns=\"http://www.w3.org/2000/svg\" height=\"24px\"viewBox=\"0 0 24 24\"\n",
              "       width=\"24px\">\n",
              "    <path d=\"M0 0h24v24H0V0z\" fill=\"none\"/>\n",
              "    <path d=\"M18.56 5.44l.94 2.06.94-2.06 2.06-.94-2.06-.94-.94-2.06-.94 2.06-2.06.94zm-11 1L8.5 8.5l.94-2.06 2.06-.94-2.06-.94L8.5 2.5l-.94 2.06-2.06.94zm10 10l.94 2.06.94-2.06 2.06-.94-2.06-.94-.94-2.06-.94 2.06-2.06.94z\"/><path d=\"M17.41 7.96l-1.37-1.37c-.4-.4-.92-.59-1.43-.59-.52 0-1.04.2-1.43.59L10.3 9.45l-7.72 7.72c-.78.78-.78 2.05 0 2.83L4 21.41c.39.39.9.59 1.41.59.51 0 1.02-.2 1.41-.59l7.78-7.78 2.81-2.81c.8-.78.8-2.07 0-2.86zM5.41 20L4 18.59l7.72-7.72 1.47 1.35L5.41 20z\"/>\n",
              "  </svg>\n",
              "      </button>\n",
              "      \n",
              "  <style>\n",
              "    .colab-df-container {\n",
              "      display:flex;\n",
              "      flex-wrap:wrap;\n",
              "      gap: 12px;\n",
              "    }\n",
              "\n",
              "    .colab-df-convert {\n",
              "      background-color: #E8F0FE;\n",
              "      border: none;\n",
              "      border-radius: 50%;\n",
              "      cursor: pointer;\n",
              "      display: none;\n",
              "      fill: #1967D2;\n",
              "      height: 32px;\n",
              "      padding: 0 0 0 0;\n",
              "      width: 32px;\n",
              "    }\n",
              "\n",
              "    .colab-df-convert:hover {\n",
              "      background-color: #E2EBFA;\n",
              "      box-shadow: 0px 1px 2px rgba(60, 64, 67, 0.3), 0px 1px 3px 1px rgba(60, 64, 67, 0.15);\n",
              "      fill: #174EA6;\n",
              "    }\n",
              "\n",
              "    [theme=dark] .colab-df-convert {\n",
              "      background-color: #3B4455;\n",
              "      fill: #D2E3FC;\n",
              "    }\n",
              "\n",
              "    [theme=dark] .colab-df-convert:hover {\n",
              "      background-color: #434B5C;\n",
              "      box-shadow: 0px 1px 3px 1px rgba(0, 0, 0, 0.15);\n",
              "      filter: drop-shadow(0px 1px 2px rgba(0, 0, 0, 0.3));\n",
              "      fill: #FFFFFF;\n",
              "    }\n",
              "  </style>\n",
              "\n",
              "      <script>\n",
              "        const buttonEl =\n",
              "          document.querySelector('#df-4cddc99c-b406-437f-99e3-043df778faa0 button.colab-df-convert');\n",
              "        buttonEl.style.display =\n",
              "          google.colab.kernel.accessAllowed ? 'block' : 'none';\n",
              "\n",
              "        async function convertToInteractive(key) {\n",
              "          const element = document.querySelector('#df-4cddc99c-b406-437f-99e3-043df778faa0');\n",
              "          const dataTable =\n",
              "            await google.colab.kernel.invokeFunction('convertToInteractive',\n",
              "                                                     [key], {});\n",
              "          if (!dataTable) return;\n",
              "\n",
              "          const docLinkHtml = 'Like what you see? Visit the ' +\n",
              "            '<a target=\"_blank\" href=https://colab.research.google.com/notebooks/data_table.ipynb>data table notebook</a>'\n",
              "            + ' to learn more about interactive tables.';\n",
              "          element.innerHTML = '';\n",
              "          dataTable['output_type'] = 'display_data';\n",
              "          await google.colab.output.renderOutput(dataTable, element);\n",
              "          const docLink = document.createElement('div');\n",
              "          docLink.innerHTML = docLinkHtml;\n",
              "          element.appendChild(docLink);\n",
              "        }\n",
              "      </script>\n",
              "    </div>\n",
              "  </div>\n",
              "  "
            ]
          },
          "metadata": {},
          "execution_count": 9
        }
      ],
      "source": [
        "first_column=cars.pop('Brands')\n",
        "cars.insert(0,'Brands',first_column)\n",
        "cars\n"
      ]
    },
    {
      "cell_type": "code",
      "execution_count": 10,
      "metadata": {
        "id": "U79ysn1Im9Lp"
      },
      "outputs": [],
      "source": [
        "cars['Brands-model'] = cars['Brands'] + ' -' + cars['model']"
      ]
    },
    {
      "cell_type": "code",
      "execution_count": 11,
      "metadata": {
        "id": "ngZfnxC3nqSl",
        "colab": {
          "base_uri": "https://localhost:8080/",
          "height": 423
        },
        "outputId": "f0c0353b-4ac8-4a0e-9ef2-79efd1b367f5"
      },
      "outputs": [
        {
          "output_type": "execute_result",
          "data": {
            "text/plain": [
              "      Brands model  year  price transmission  mileage fuelType    tax   mpg  \\\n",
              "0       AUDI    A1  2017  12500       Manual    15735   Petrol  150.0  55.4   \n",
              "1       AUDI    A6  2016  16500    Automatic    36203   Diesel   20.0  64.2   \n",
              "2       AUDI    A1  2016  11000       Manual    29946   Petrol   30.0  55.4   \n",
              "3       AUDI    A4  2017  16800    Automatic    25952   Diesel  145.0  67.3   \n",
              "4       AUDI    A3  2019  17300       Manual     1998   Petrol  145.0  49.6   \n",
              "...      ...   ...   ...    ...          ...      ...      ...    ...   ...   \n",
              "15152     VW   Eos  2012   5990       Manual    74000   Diesel  125.0  58.9   \n",
              "15153     VW   Fox  2008   1799       Manual    88102   Petrol  145.0  46.3   \n",
              "15154     VW   Fox  2009   1590       Manual    70000   Petrol  200.0  42.0   \n",
              "15155     VW   Fox  2006   1250       Manual    82704   Petrol  150.0  46.3   \n",
              "15156     VW   Fox  2007   2295       Manual    74000   Petrol  145.0  46.3   \n",
              "\n",
              "       engineSize  tax(£) Brands-model  \n",
              "0             1.4     NaN    AUDI - A1  \n",
              "1             2.0     NaN    AUDI - A6  \n",
              "2             1.4     NaN    AUDI - A1  \n",
              "3             2.0     NaN    AUDI - A4  \n",
              "4             1.0     NaN    AUDI - A3  \n",
              "...           ...     ...          ...  \n",
              "15152         2.0     NaN     VW - Eos  \n",
              "15153         1.2     NaN     VW - Fox  \n",
              "15154         1.4     NaN     VW - Fox  \n",
              "15155         1.2     NaN     VW - Fox  \n",
              "15156         1.2     NaN     VW - Fox  \n",
              "\n",
              "[108540 rows x 12 columns]"
            ],
            "text/html": [
              "\n",
              "  <div id=\"df-4987a6e1-706f-4fc9-ac31-74002c06416b\">\n",
              "    <div class=\"colab-df-container\">\n",
              "      <div>\n",
              "<style scoped>\n",
              "    .dataframe tbody tr th:only-of-type {\n",
              "        vertical-align: middle;\n",
              "    }\n",
              "\n",
              "    .dataframe tbody tr th {\n",
              "        vertical-align: top;\n",
              "    }\n",
              "\n",
              "    .dataframe thead th {\n",
              "        text-align: right;\n",
              "    }\n",
              "</style>\n",
              "<table border=\"1\" class=\"dataframe\">\n",
              "  <thead>\n",
              "    <tr style=\"text-align: right;\">\n",
              "      <th></th>\n",
              "      <th>Brands</th>\n",
              "      <th>model</th>\n",
              "      <th>year</th>\n",
              "      <th>price</th>\n",
              "      <th>transmission</th>\n",
              "      <th>mileage</th>\n",
              "      <th>fuelType</th>\n",
              "      <th>tax</th>\n",
              "      <th>mpg</th>\n",
              "      <th>engineSize</th>\n",
              "      <th>tax(£)</th>\n",
              "      <th>Brands-model</th>\n",
              "    </tr>\n",
              "  </thead>\n",
              "  <tbody>\n",
              "    <tr>\n",
              "      <th>0</th>\n",
              "      <td>AUDI</td>\n",
              "      <td>A1</td>\n",
              "      <td>2017</td>\n",
              "      <td>12500</td>\n",
              "      <td>Manual</td>\n",
              "      <td>15735</td>\n",
              "      <td>Petrol</td>\n",
              "      <td>150.0</td>\n",
              "      <td>55.4</td>\n",
              "      <td>1.4</td>\n",
              "      <td>NaN</td>\n",
              "      <td>AUDI - A1</td>\n",
              "    </tr>\n",
              "    <tr>\n",
              "      <th>1</th>\n",
              "      <td>AUDI</td>\n",
              "      <td>A6</td>\n",
              "      <td>2016</td>\n",
              "      <td>16500</td>\n",
              "      <td>Automatic</td>\n",
              "      <td>36203</td>\n",
              "      <td>Diesel</td>\n",
              "      <td>20.0</td>\n",
              "      <td>64.2</td>\n",
              "      <td>2.0</td>\n",
              "      <td>NaN</td>\n",
              "      <td>AUDI - A6</td>\n",
              "    </tr>\n",
              "    <tr>\n",
              "      <th>2</th>\n",
              "      <td>AUDI</td>\n",
              "      <td>A1</td>\n",
              "      <td>2016</td>\n",
              "      <td>11000</td>\n",
              "      <td>Manual</td>\n",
              "      <td>29946</td>\n",
              "      <td>Petrol</td>\n",
              "      <td>30.0</td>\n",
              "      <td>55.4</td>\n",
              "      <td>1.4</td>\n",
              "      <td>NaN</td>\n",
              "      <td>AUDI - A1</td>\n",
              "    </tr>\n",
              "    <tr>\n",
              "      <th>3</th>\n",
              "      <td>AUDI</td>\n",
              "      <td>A4</td>\n",
              "      <td>2017</td>\n",
              "      <td>16800</td>\n",
              "      <td>Automatic</td>\n",
              "      <td>25952</td>\n",
              "      <td>Diesel</td>\n",
              "      <td>145.0</td>\n",
              "      <td>67.3</td>\n",
              "      <td>2.0</td>\n",
              "      <td>NaN</td>\n",
              "      <td>AUDI - A4</td>\n",
              "    </tr>\n",
              "    <tr>\n",
              "      <th>4</th>\n",
              "      <td>AUDI</td>\n",
              "      <td>A3</td>\n",
              "      <td>2019</td>\n",
              "      <td>17300</td>\n",
              "      <td>Manual</td>\n",
              "      <td>1998</td>\n",
              "      <td>Petrol</td>\n",
              "      <td>145.0</td>\n",
              "      <td>49.6</td>\n",
              "      <td>1.0</td>\n",
              "      <td>NaN</td>\n",
              "      <td>AUDI - A3</td>\n",
              "    </tr>\n",
              "    <tr>\n",
              "      <th>...</th>\n",
              "      <td>...</td>\n",
              "      <td>...</td>\n",
              "      <td>...</td>\n",
              "      <td>...</td>\n",
              "      <td>...</td>\n",
              "      <td>...</td>\n",
              "      <td>...</td>\n",
              "      <td>...</td>\n",
              "      <td>...</td>\n",
              "      <td>...</td>\n",
              "      <td>...</td>\n",
              "      <td>...</td>\n",
              "    </tr>\n",
              "    <tr>\n",
              "      <th>15152</th>\n",
              "      <td>VW</td>\n",
              "      <td>Eos</td>\n",
              "      <td>2012</td>\n",
              "      <td>5990</td>\n",
              "      <td>Manual</td>\n",
              "      <td>74000</td>\n",
              "      <td>Diesel</td>\n",
              "      <td>125.0</td>\n",
              "      <td>58.9</td>\n",
              "      <td>2.0</td>\n",
              "      <td>NaN</td>\n",
              "      <td>VW - Eos</td>\n",
              "    </tr>\n",
              "    <tr>\n",
              "      <th>15153</th>\n",
              "      <td>VW</td>\n",
              "      <td>Fox</td>\n",
              "      <td>2008</td>\n",
              "      <td>1799</td>\n",
              "      <td>Manual</td>\n",
              "      <td>88102</td>\n",
              "      <td>Petrol</td>\n",
              "      <td>145.0</td>\n",
              "      <td>46.3</td>\n",
              "      <td>1.2</td>\n",
              "      <td>NaN</td>\n",
              "      <td>VW - Fox</td>\n",
              "    </tr>\n",
              "    <tr>\n",
              "      <th>15154</th>\n",
              "      <td>VW</td>\n",
              "      <td>Fox</td>\n",
              "      <td>2009</td>\n",
              "      <td>1590</td>\n",
              "      <td>Manual</td>\n",
              "      <td>70000</td>\n",
              "      <td>Petrol</td>\n",
              "      <td>200.0</td>\n",
              "      <td>42.0</td>\n",
              "      <td>1.4</td>\n",
              "      <td>NaN</td>\n",
              "      <td>VW - Fox</td>\n",
              "    </tr>\n",
              "    <tr>\n",
              "      <th>15155</th>\n",
              "      <td>VW</td>\n",
              "      <td>Fox</td>\n",
              "      <td>2006</td>\n",
              "      <td>1250</td>\n",
              "      <td>Manual</td>\n",
              "      <td>82704</td>\n",
              "      <td>Petrol</td>\n",
              "      <td>150.0</td>\n",
              "      <td>46.3</td>\n",
              "      <td>1.2</td>\n",
              "      <td>NaN</td>\n",
              "      <td>VW - Fox</td>\n",
              "    </tr>\n",
              "    <tr>\n",
              "      <th>15156</th>\n",
              "      <td>VW</td>\n",
              "      <td>Fox</td>\n",
              "      <td>2007</td>\n",
              "      <td>2295</td>\n",
              "      <td>Manual</td>\n",
              "      <td>74000</td>\n",
              "      <td>Petrol</td>\n",
              "      <td>145.0</td>\n",
              "      <td>46.3</td>\n",
              "      <td>1.2</td>\n",
              "      <td>NaN</td>\n",
              "      <td>VW - Fox</td>\n",
              "    </tr>\n",
              "  </tbody>\n",
              "</table>\n",
              "<p>108540 rows × 12 columns</p>\n",
              "</div>\n",
              "      <button class=\"colab-df-convert\" onclick=\"convertToInteractive('df-4987a6e1-706f-4fc9-ac31-74002c06416b')\"\n",
              "              title=\"Convert this dataframe to an interactive table.\"\n",
              "              style=\"display:none;\">\n",
              "        \n",
              "  <svg xmlns=\"http://www.w3.org/2000/svg\" height=\"24px\"viewBox=\"0 0 24 24\"\n",
              "       width=\"24px\">\n",
              "    <path d=\"M0 0h24v24H0V0z\" fill=\"none\"/>\n",
              "    <path d=\"M18.56 5.44l.94 2.06.94-2.06 2.06-.94-2.06-.94-.94-2.06-.94 2.06-2.06.94zm-11 1L8.5 8.5l.94-2.06 2.06-.94-2.06-.94L8.5 2.5l-.94 2.06-2.06.94zm10 10l.94 2.06.94-2.06 2.06-.94-2.06-.94-.94-2.06-.94 2.06-2.06.94z\"/><path d=\"M17.41 7.96l-1.37-1.37c-.4-.4-.92-.59-1.43-.59-.52 0-1.04.2-1.43.59L10.3 9.45l-7.72 7.72c-.78.78-.78 2.05 0 2.83L4 21.41c.39.39.9.59 1.41.59.51 0 1.02-.2 1.41-.59l7.78-7.78 2.81-2.81c.8-.78.8-2.07 0-2.86zM5.41 20L4 18.59l7.72-7.72 1.47 1.35L5.41 20z\"/>\n",
              "  </svg>\n",
              "      </button>\n",
              "      \n",
              "  <style>\n",
              "    .colab-df-container {\n",
              "      display:flex;\n",
              "      flex-wrap:wrap;\n",
              "      gap: 12px;\n",
              "    }\n",
              "\n",
              "    .colab-df-convert {\n",
              "      background-color: #E8F0FE;\n",
              "      border: none;\n",
              "      border-radius: 50%;\n",
              "      cursor: pointer;\n",
              "      display: none;\n",
              "      fill: #1967D2;\n",
              "      height: 32px;\n",
              "      padding: 0 0 0 0;\n",
              "      width: 32px;\n",
              "    }\n",
              "\n",
              "    .colab-df-convert:hover {\n",
              "      background-color: #E2EBFA;\n",
              "      box-shadow: 0px 1px 2px rgba(60, 64, 67, 0.3), 0px 1px 3px 1px rgba(60, 64, 67, 0.15);\n",
              "      fill: #174EA6;\n",
              "    }\n",
              "\n",
              "    [theme=dark] .colab-df-convert {\n",
              "      background-color: #3B4455;\n",
              "      fill: #D2E3FC;\n",
              "    }\n",
              "\n",
              "    [theme=dark] .colab-df-convert:hover {\n",
              "      background-color: #434B5C;\n",
              "      box-shadow: 0px 1px 3px 1px rgba(0, 0, 0, 0.15);\n",
              "      filter: drop-shadow(0px 1px 2px rgba(0, 0, 0, 0.3));\n",
              "      fill: #FFFFFF;\n",
              "    }\n",
              "  </style>\n",
              "\n",
              "      <script>\n",
              "        const buttonEl =\n",
              "          document.querySelector('#df-4987a6e1-706f-4fc9-ac31-74002c06416b button.colab-df-convert');\n",
              "        buttonEl.style.display =\n",
              "          google.colab.kernel.accessAllowed ? 'block' : 'none';\n",
              "\n",
              "        async function convertToInteractive(key) {\n",
              "          const element = document.querySelector('#df-4987a6e1-706f-4fc9-ac31-74002c06416b');\n",
              "          const dataTable =\n",
              "            await google.colab.kernel.invokeFunction('convertToInteractive',\n",
              "                                                     [key], {});\n",
              "          if (!dataTable) return;\n",
              "\n",
              "          const docLinkHtml = 'Like what you see? Visit the ' +\n",
              "            '<a target=\"_blank\" href=https://colab.research.google.com/notebooks/data_table.ipynb>data table notebook</a>'\n",
              "            + ' to learn more about interactive tables.';\n",
              "          element.innerHTML = '';\n",
              "          dataTable['output_type'] = 'display_data';\n",
              "          await google.colab.output.renderOutput(dataTable, element);\n",
              "          const docLink = document.createElement('div');\n",
              "          docLink.innerHTML = docLinkHtml;\n",
              "          element.appendChild(docLink);\n",
              "        }\n",
              "      </script>\n",
              "    </div>\n",
              "  </div>\n",
              "  "
            ]
          },
          "metadata": {},
          "execution_count": 11
        }
      ],
      "source": [
        "cars"
      ]
    },
    {
      "cell_type": "code",
      "execution_count": 12,
      "metadata": {
        "id": "eMBJB4g18fWc",
        "colab": {
          "base_uri": "https://localhost:8080/",
          "height": 423
        },
        "outputId": "e40061f4-039c-45aa-822c-82c8d47c0e65"
      },
      "outputs": [
        {
          "output_type": "execute_result",
          "data": {
            "text/plain": [
              "      Brands-model Brands model  year  price transmission  mileage fuelType  \\\n",
              "0        AUDI - A1   AUDI    A1  2017  12500       Manual    15735   Petrol   \n",
              "1        AUDI - A6   AUDI    A6  2016  16500    Automatic    36203   Diesel   \n",
              "2        AUDI - A1   AUDI    A1  2016  11000       Manual    29946   Petrol   \n",
              "3        AUDI - A4   AUDI    A4  2017  16800    Automatic    25952   Diesel   \n",
              "4        AUDI - A3   AUDI    A3  2019  17300       Manual     1998   Petrol   \n",
              "...            ...    ...   ...   ...    ...          ...      ...      ...   \n",
              "15152     VW - Eos     VW   Eos  2012   5990       Manual    74000   Diesel   \n",
              "15153     VW - Fox     VW   Fox  2008   1799       Manual    88102   Petrol   \n",
              "15154     VW - Fox     VW   Fox  2009   1590       Manual    70000   Petrol   \n",
              "15155     VW - Fox     VW   Fox  2006   1250       Manual    82704   Petrol   \n",
              "15156     VW - Fox     VW   Fox  2007   2295       Manual    74000   Petrol   \n",
              "\n",
              "         tax   mpg  engineSize  tax(£)  \n",
              "0      150.0  55.4         1.4     NaN  \n",
              "1       20.0  64.2         2.0     NaN  \n",
              "2       30.0  55.4         1.4     NaN  \n",
              "3      145.0  67.3         2.0     NaN  \n",
              "4      145.0  49.6         1.0     NaN  \n",
              "...      ...   ...         ...     ...  \n",
              "15152  125.0  58.9         2.0     NaN  \n",
              "15153  145.0  46.3         1.2     NaN  \n",
              "15154  200.0  42.0         1.4     NaN  \n",
              "15155  150.0  46.3         1.2     NaN  \n",
              "15156  145.0  46.3         1.2     NaN  \n",
              "\n",
              "[108540 rows x 12 columns]"
            ],
            "text/html": [
              "\n",
              "  <div id=\"df-5c077a6a-b859-4012-ab49-935764ff9e4c\">\n",
              "    <div class=\"colab-df-container\">\n",
              "      <div>\n",
              "<style scoped>\n",
              "    .dataframe tbody tr th:only-of-type {\n",
              "        vertical-align: middle;\n",
              "    }\n",
              "\n",
              "    .dataframe tbody tr th {\n",
              "        vertical-align: top;\n",
              "    }\n",
              "\n",
              "    .dataframe thead th {\n",
              "        text-align: right;\n",
              "    }\n",
              "</style>\n",
              "<table border=\"1\" class=\"dataframe\">\n",
              "  <thead>\n",
              "    <tr style=\"text-align: right;\">\n",
              "      <th></th>\n",
              "      <th>Brands-model</th>\n",
              "      <th>Brands</th>\n",
              "      <th>model</th>\n",
              "      <th>year</th>\n",
              "      <th>price</th>\n",
              "      <th>transmission</th>\n",
              "      <th>mileage</th>\n",
              "      <th>fuelType</th>\n",
              "      <th>tax</th>\n",
              "      <th>mpg</th>\n",
              "      <th>engineSize</th>\n",
              "      <th>tax(£)</th>\n",
              "    </tr>\n",
              "  </thead>\n",
              "  <tbody>\n",
              "    <tr>\n",
              "      <th>0</th>\n",
              "      <td>AUDI - A1</td>\n",
              "      <td>AUDI</td>\n",
              "      <td>A1</td>\n",
              "      <td>2017</td>\n",
              "      <td>12500</td>\n",
              "      <td>Manual</td>\n",
              "      <td>15735</td>\n",
              "      <td>Petrol</td>\n",
              "      <td>150.0</td>\n",
              "      <td>55.4</td>\n",
              "      <td>1.4</td>\n",
              "      <td>NaN</td>\n",
              "    </tr>\n",
              "    <tr>\n",
              "      <th>1</th>\n",
              "      <td>AUDI - A6</td>\n",
              "      <td>AUDI</td>\n",
              "      <td>A6</td>\n",
              "      <td>2016</td>\n",
              "      <td>16500</td>\n",
              "      <td>Automatic</td>\n",
              "      <td>36203</td>\n",
              "      <td>Diesel</td>\n",
              "      <td>20.0</td>\n",
              "      <td>64.2</td>\n",
              "      <td>2.0</td>\n",
              "      <td>NaN</td>\n",
              "    </tr>\n",
              "    <tr>\n",
              "      <th>2</th>\n",
              "      <td>AUDI - A1</td>\n",
              "      <td>AUDI</td>\n",
              "      <td>A1</td>\n",
              "      <td>2016</td>\n",
              "      <td>11000</td>\n",
              "      <td>Manual</td>\n",
              "      <td>29946</td>\n",
              "      <td>Petrol</td>\n",
              "      <td>30.0</td>\n",
              "      <td>55.4</td>\n",
              "      <td>1.4</td>\n",
              "      <td>NaN</td>\n",
              "    </tr>\n",
              "    <tr>\n",
              "      <th>3</th>\n",
              "      <td>AUDI - A4</td>\n",
              "      <td>AUDI</td>\n",
              "      <td>A4</td>\n",
              "      <td>2017</td>\n",
              "      <td>16800</td>\n",
              "      <td>Automatic</td>\n",
              "      <td>25952</td>\n",
              "      <td>Diesel</td>\n",
              "      <td>145.0</td>\n",
              "      <td>67.3</td>\n",
              "      <td>2.0</td>\n",
              "      <td>NaN</td>\n",
              "    </tr>\n",
              "    <tr>\n",
              "      <th>4</th>\n",
              "      <td>AUDI - A3</td>\n",
              "      <td>AUDI</td>\n",
              "      <td>A3</td>\n",
              "      <td>2019</td>\n",
              "      <td>17300</td>\n",
              "      <td>Manual</td>\n",
              "      <td>1998</td>\n",
              "      <td>Petrol</td>\n",
              "      <td>145.0</td>\n",
              "      <td>49.6</td>\n",
              "      <td>1.0</td>\n",
              "      <td>NaN</td>\n",
              "    </tr>\n",
              "    <tr>\n",
              "      <th>...</th>\n",
              "      <td>...</td>\n",
              "      <td>...</td>\n",
              "      <td>...</td>\n",
              "      <td>...</td>\n",
              "      <td>...</td>\n",
              "      <td>...</td>\n",
              "      <td>...</td>\n",
              "      <td>...</td>\n",
              "      <td>...</td>\n",
              "      <td>...</td>\n",
              "      <td>...</td>\n",
              "      <td>...</td>\n",
              "    </tr>\n",
              "    <tr>\n",
              "      <th>15152</th>\n",
              "      <td>VW - Eos</td>\n",
              "      <td>VW</td>\n",
              "      <td>Eos</td>\n",
              "      <td>2012</td>\n",
              "      <td>5990</td>\n",
              "      <td>Manual</td>\n",
              "      <td>74000</td>\n",
              "      <td>Diesel</td>\n",
              "      <td>125.0</td>\n",
              "      <td>58.9</td>\n",
              "      <td>2.0</td>\n",
              "      <td>NaN</td>\n",
              "    </tr>\n",
              "    <tr>\n",
              "      <th>15153</th>\n",
              "      <td>VW - Fox</td>\n",
              "      <td>VW</td>\n",
              "      <td>Fox</td>\n",
              "      <td>2008</td>\n",
              "      <td>1799</td>\n",
              "      <td>Manual</td>\n",
              "      <td>88102</td>\n",
              "      <td>Petrol</td>\n",
              "      <td>145.0</td>\n",
              "      <td>46.3</td>\n",
              "      <td>1.2</td>\n",
              "      <td>NaN</td>\n",
              "    </tr>\n",
              "    <tr>\n",
              "      <th>15154</th>\n",
              "      <td>VW - Fox</td>\n",
              "      <td>VW</td>\n",
              "      <td>Fox</td>\n",
              "      <td>2009</td>\n",
              "      <td>1590</td>\n",
              "      <td>Manual</td>\n",
              "      <td>70000</td>\n",
              "      <td>Petrol</td>\n",
              "      <td>200.0</td>\n",
              "      <td>42.0</td>\n",
              "      <td>1.4</td>\n",
              "      <td>NaN</td>\n",
              "    </tr>\n",
              "    <tr>\n",
              "      <th>15155</th>\n",
              "      <td>VW - Fox</td>\n",
              "      <td>VW</td>\n",
              "      <td>Fox</td>\n",
              "      <td>2006</td>\n",
              "      <td>1250</td>\n",
              "      <td>Manual</td>\n",
              "      <td>82704</td>\n",
              "      <td>Petrol</td>\n",
              "      <td>150.0</td>\n",
              "      <td>46.3</td>\n",
              "      <td>1.2</td>\n",
              "      <td>NaN</td>\n",
              "    </tr>\n",
              "    <tr>\n",
              "      <th>15156</th>\n",
              "      <td>VW - Fox</td>\n",
              "      <td>VW</td>\n",
              "      <td>Fox</td>\n",
              "      <td>2007</td>\n",
              "      <td>2295</td>\n",
              "      <td>Manual</td>\n",
              "      <td>74000</td>\n",
              "      <td>Petrol</td>\n",
              "      <td>145.0</td>\n",
              "      <td>46.3</td>\n",
              "      <td>1.2</td>\n",
              "      <td>NaN</td>\n",
              "    </tr>\n",
              "  </tbody>\n",
              "</table>\n",
              "<p>108540 rows × 12 columns</p>\n",
              "</div>\n",
              "      <button class=\"colab-df-convert\" onclick=\"convertToInteractive('df-5c077a6a-b859-4012-ab49-935764ff9e4c')\"\n",
              "              title=\"Convert this dataframe to an interactive table.\"\n",
              "              style=\"display:none;\">\n",
              "        \n",
              "  <svg xmlns=\"http://www.w3.org/2000/svg\" height=\"24px\"viewBox=\"0 0 24 24\"\n",
              "       width=\"24px\">\n",
              "    <path d=\"M0 0h24v24H0V0z\" fill=\"none\"/>\n",
              "    <path d=\"M18.56 5.44l.94 2.06.94-2.06 2.06-.94-2.06-.94-.94-2.06-.94 2.06-2.06.94zm-11 1L8.5 8.5l.94-2.06 2.06-.94-2.06-.94L8.5 2.5l-.94 2.06-2.06.94zm10 10l.94 2.06.94-2.06 2.06-.94-2.06-.94-.94-2.06-.94 2.06-2.06.94z\"/><path d=\"M17.41 7.96l-1.37-1.37c-.4-.4-.92-.59-1.43-.59-.52 0-1.04.2-1.43.59L10.3 9.45l-7.72 7.72c-.78.78-.78 2.05 0 2.83L4 21.41c.39.39.9.59 1.41.59.51 0 1.02-.2 1.41-.59l7.78-7.78 2.81-2.81c.8-.78.8-2.07 0-2.86zM5.41 20L4 18.59l7.72-7.72 1.47 1.35L5.41 20z\"/>\n",
              "  </svg>\n",
              "      </button>\n",
              "      \n",
              "  <style>\n",
              "    .colab-df-container {\n",
              "      display:flex;\n",
              "      flex-wrap:wrap;\n",
              "      gap: 12px;\n",
              "    }\n",
              "\n",
              "    .colab-df-convert {\n",
              "      background-color: #E8F0FE;\n",
              "      border: none;\n",
              "      border-radius: 50%;\n",
              "      cursor: pointer;\n",
              "      display: none;\n",
              "      fill: #1967D2;\n",
              "      height: 32px;\n",
              "      padding: 0 0 0 0;\n",
              "      width: 32px;\n",
              "    }\n",
              "\n",
              "    .colab-df-convert:hover {\n",
              "      background-color: #E2EBFA;\n",
              "      box-shadow: 0px 1px 2px rgba(60, 64, 67, 0.3), 0px 1px 3px 1px rgba(60, 64, 67, 0.15);\n",
              "      fill: #174EA6;\n",
              "    }\n",
              "\n",
              "    [theme=dark] .colab-df-convert {\n",
              "      background-color: #3B4455;\n",
              "      fill: #D2E3FC;\n",
              "    }\n",
              "\n",
              "    [theme=dark] .colab-df-convert:hover {\n",
              "      background-color: #434B5C;\n",
              "      box-shadow: 0px 1px 3px 1px rgba(0, 0, 0, 0.15);\n",
              "      filter: drop-shadow(0px 1px 2px rgba(0, 0, 0, 0.3));\n",
              "      fill: #FFFFFF;\n",
              "    }\n",
              "  </style>\n",
              "\n",
              "      <script>\n",
              "        const buttonEl =\n",
              "          document.querySelector('#df-5c077a6a-b859-4012-ab49-935764ff9e4c button.colab-df-convert');\n",
              "        buttonEl.style.display =\n",
              "          google.colab.kernel.accessAllowed ? 'block' : 'none';\n",
              "\n",
              "        async function convertToInteractive(key) {\n",
              "          const element = document.querySelector('#df-5c077a6a-b859-4012-ab49-935764ff9e4c');\n",
              "          const dataTable =\n",
              "            await google.colab.kernel.invokeFunction('convertToInteractive',\n",
              "                                                     [key], {});\n",
              "          if (!dataTable) return;\n",
              "\n",
              "          const docLinkHtml = 'Like what you see? Visit the ' +\n",
              "            '<a target=\"_blank\" href=https://colab.research.google.com/notebooks/data_table.ipynb>data table notebook</a>'\n",
              "            + ' to learn more about interactive tables.';\n",
              "          element.innerHTML = '';\n",
              "          dataTable['output_type'] = 'display_data';\n",
              "          await google.colab.output.renderOutput(dataTable, element);\n",
              "          const docLink = document.createElement('div');\n",
              "          docLink.innerHTML = docLinkHtml;\n",
              "          element.appendChild(docLink);\n",
              "        }\n",
              "      </script>\n",
              "    </div>\n",
              "  </div>\n",
              "  "
            ]
          },
          "metadata": {},
          "execution_count": 12
        }
      ],
      "source": [
        "first_column1=cars.pop('Brands-model')\n",
        "cars.insert(0,'Brands-model',first_column1)\n",
        "cars\n"
      ]
    },
    {
      "cell_type": "code",
      "execution_count": 13,
      "metadata": {
        "id": "T6rsuBU6tuQF",
        "colab": {
          "base_uri": "https://localhost:8080/"
        },
        "outputId": "e683ffb8-d7cf-4b62-8265-72f767f2f5a7"
      },
      "outputs": [
        {
          "output_type": "stream",
          "name": "stdout",
          "text": [
            "<class 'pandas.core.frame.DataFrame'>\n",
            "Int64Index: 108540 entries, 0 to 15156\n",
            "Data columns (total 12 columns):\n",
            " #   Column        Non-Null Count   Dtype  \n",
            "---  ------        --------------   -----  \n",
            " 0   Brands-model  108540 non-null  object \n",
            " 1   Brands        108540 non-null  object \n",
            " 2   model         108540 non-null  object \n",
            " 3   year          108540 non-null  int64  \n",
            " 4   price         108540 non-null  int64  \n",
            " 5   transmission  108540 non-null  object \n",
            " 6   mileage       108540 non-null  int64  \n",
            " 7   fuelType      108540 non-null  object \n",
            " 8   tax           94327 non-null   float64\n",
            " 9   mpg           99187 non-null   float64\n",
            " 10  engineSize    108540 non-null  float64\n",
            " 11  tax(£)        4860 non-null    float64\n",
            "dtypes: float64(4), int64(3), object(5)\n",
            "memory usage: 10.8+ MB\n"
          ]
        }
      ],
      "source": [
        "cars.info()"
      ]
    },
    {
      "cell_type": "code",
      "execution_count": 14,
      "metadata": {
        "id": "sdvoY-5zM-yZ",
        "colab": {
          "base_uri": "https://localhost:8080/",
          "height": 425
        },
        "outputId": "edfb0795-583d-43a3-f4a1-14ba0f6e5cd1"
      },
      "outputs": [
        {
          "output_type": "execute_result",
          "data": {
            "text/plain": [
              "               column_name  percent_missing\n",
              "Brands-model  Brands-model         0.000000\n",
              "Brands              Brands         0.000000\n",
              "model                model         0.000000\n",
              "year                  year         0.000000\n",
              "price                price         0.000000\n",
              "transmission  transmission         0.000000\n",
              "mileage            mileage         0.000000\n",
              "fuelType          fuelType         0.000000\n",
              "tax                    tax        13.094712\n",
              "mpg                    mpg         8.617100\n",
              "engineSize      engineSize         0.000000\n",
              "tax(£)              tax(£)        95.522388"
            ],
            "text/html": [
              "\n",
              "  <div id=\"df-98fb76da-b831-4c15-86f6-172da51944c1\">\n",
              "    <div class=\"colab-df-container\">\n",
              "      <div>\n",
              "<style scoped>\n",
              "    .dataframe tbody tr th:only-of-type {\n",
              "        vertical-align: middle;\n",
              "    }\n",
              "\n",
              "    .dataframe tbody tr th {\n",
              "        vertical-align: top;\n",
              "    }\n",
              "\n",
              "    .dataframe thead th {\n",
              "        text-align: right;\n",
              "    }\n",
              "</style>\n",
              "<table border=\"1\" class=\"dataframe\">\n",
              "  <thead>\n",
              "    <tr style=\"text-align: right;\">\n",
              "      <th></th>\n",
              "      <th>column_name</th>\n",
              "      <th>percent_missing</th>\n",
              "    </tr>\n",
              "  </thead>\n",
              "  <tbody>\n",
              "    <tr>\n",
              "      <th>Brands-model</th>\n",
              "      <td>Brands-model</td>\n",
              "      <td>0.000000</td>\n",
              "    </tr>\n",
              "    <tr>\n",
              "      <th>Brands</th>\n",
              "      <td>Brands</td>\n",
              "      <td>0.000000</td>\n",
              "    </tr>\n",
              "    <tr>\n",
              "      <th>model</th>\n",
              "      <td>model</td>\n",
              "      <td>0.000000</td>\n",
              "    </tr>\n",
              "    <tr>\n",
              "      <th>year</th>\n",
              "      <td>year</td>\n",
              "      <td>0.000000</td>\n",
              "    </tr>\n",
              "    <tr>\n",
              "      <th>price</th>\n",
              "      <td>price</td>\n",
              "      <td>0.000000</td>\n",
              "    </tr>\n",
              "    <tr>\n",
              "      <th>transmission</th>\n",
              "      <td>transmission</td>\n",
              "      <td>0.000000</td>\n",
              "    </tr>\n",
              "    <tr>\n",
              "      <th>mileage</th>\n",
              "      <td>mileage</td>\n",
              "      <td>0.000000</td>\n",
              "    </tr>\n",
              "    <tr>\n",
              "      <th>fuelType</th>\n",
              "      <td>fuelType</td>\n",
              "      <td>0.000000</td>\n",
              "    </tr>\n",
              "    <tr>\n",
              "      <th>tax</th>\n",
              "      <td>tax</td>\n",
              "      <td>13.094712</td>\n",
              "    </tr>\n",
              "    <tr>\n",
              "      <th>mpg</th>\n",
              "      <td>mpg</td>\n",
              "      <td>8.617100</td>\n",
              "    </tr>\n",
              "    <tr>\n",
              "      <th>engineSize</th>\n",
              "      <td>engineSize</td>\n",
              "      <td>0.000000</td>\n",
              "    </tr>\n",
              "    <tr>\n",
              "      <th>tax(£)</th>\n",
              "      <td>tax(£)</td>\n",
              "      <td>95.522388</td>\n",
              "    </tr>\n",
              "  </tbody>\n",
              "</table>\n",
              "</div>\n",
              "      <button class=\"colab-df-convert\" onclick=\"convertToInteractive('df-98fb76da-b831-4c15-86f6-172da51944c1')\"\n",
              "              title=\"Convert this dataframe to an interactive table.\"\n",
              "              style=\"display:none;\">\n",
              "        \n",
              "  <svg xmlns=\"http://www.w3.org/2000/svg\" height=\"24px\"viewBox=\"0 0 24 24\"\n",
              "       width=\"24px\">\n",
              "    <path d=\"M0 0h24v24H0V0z\" fill=\"none\"/>\n",
              "    <path d=\"M18.56 5.44l.94 2.06.94-2.06 2.06-.94-2.06-.94-.94-2.06-.94 2.06-2.06.94zm-11 1L8.5 8.5l.94-2.06 2.06-.94-2.06-.94L8.5 2.5l-.94 2.06-2.06.94zm10 10l.94 2.06.94-2.06 2.06-.94-2.06-.94-.94-2.06-.94 2.06-2.06.94z\"/><path d=\"M17.41 7.96l-1.37-1.37c-.4-.4-.92-.59-1.43-.59-.52 0-1.04.2-1.43.59L10.3 9.45l-7.72 7.72c-.78.78-.78 2.05 0 2.83L4 21.41c.39.39.9.59 1.41.59.51 0 1.02-.2 1.41-.59l7.78-7.78 2.81-2.81c.8-.78.8-2.07 0-2.86zM5.41 20L4 18.59l7.72-7.72 1.47 1.35L5.41 20z\"/>\n",
              "  </svg>\n",
              "      </button>\n",
              "      \n",
              "  <style>\n",
              "    .colab-df-container {\n",
              "      display:flex;\n",
              "      flex-wrap:wrap;\n",
              "      gap: 12px;\n",
              "    }\n",
              "\n",
              "    .colab-df-convert {\n",
              "      background-color: #E8F0FE;\n",
              "      border: none;\n",
              "      border-radius: 50%;\n",
              "      cursor: pointer;\n",
              "      display: none;\n",
              "      fill: #1967D2;\n",
              "      height: 32px;\n",
              "      padding: 0 0 0 0;\n",
              "      width: 32px;\n",
              "    }\n",
              "\n",
              "    .colab-df-convert:hover {\n",
              "      background-color: #E2EBFA;\n",
              "      box-shadow: 0px 1px 2px rgba(60, 64, 67, 0.3), 0px 1px 3px 1px rgba(60, 64, 67, 0.15);\n",
              "      fill: #174EA6;\n",
              "    }\n",
              "\n",
              "    [theme=dark] .colab-df-convert {\n",
              "      background-color: #3B4455;\n",
              "      fill: #D2E3FC;\n",
              "    }\n",
              "\n",
              "    [theme=dark] .colab-df-convert:hover {\n",
              "      background-color: #434B5C;\n",
              "      box-shadow: 0px 1px 3px 1px rgba(0, 0, 0, 0.15);\n",
              "      filter: drop-shadow(0px 1px 2px rgba(0, 0, 0, 0.3));\n",
              "      fill: #FFFFFF;\n",
              "    }\n",
              "  </style>\n",
              "\n",
              "      <script>\n",
              "        const buttonEl =\n",
              "          document.querySelector('#df-98fb76da-b831-4c15-86f6-172da51944c1 button.colab-df-convert');\n",
              "        buttonEl.style.display =\n",
              "          google.colab.kernel.accessAllowed ? 'block' : 'none';\n",
              "\n",
              "        async function convertToInteractive(key) {\n",
              "          const element = document.querySelector('#df-98fb76da-b831-4c15-86f6-172da51944c1');\n",
              "          const dataTable =\n",
              "            await google.colab.kernel.invokeFunction('convertToInteractive',\n",
              "                                                     [key], {});\n",
              "          if (!dataTable) return;\n",
              "\n",
              "          const docLinkHtml = 'Like what you see? Visit the ' +\n",
              "            '<a target=\"_blank\" href=https://colab.research.google.com/notebooks/data_table.ipynb>data table notebook</a>'\n",
              "            + ' to learn more about interactive tables.';\n",
              "          element.innerHTML = '';\n",
              "          dataTable['output_type'] = 'display_data';\n",
              "          await google.colab.output.renderOutput(dataTable, element);\n",
              "          const docLink = document.createElement('div');\n",
              "          docLink.innerHTML = docLinkHtml;\n",
              "          element.appendChild(docLink);\n",
              "        }\n",
              "      </script>\n",
              "    </div>\n",
              "  </div>\n",
              "  "
            ]
          },
          "metadata": {},
          "execution_count": 14
        }
      ],
      "source": [
        "# checking missing nulls percentage and displaying it.\n",
        "Null_percent_missing = cars. isnull(). sum() * 100 / len(cars)\n",
        "# defining column name \n",
        "missing_value_df = pd.DataFrame({'column_name': cars. columns,\n",
        "'percent_missing': Null_percent_missing})\n",
        "missing_value_df"
      ]
    },
    {
      "cell_type": "code",
      "execution_count": 15,
      "metadata": {
        "id": "8j7sn1zfISno",
        "colab": {
          "base_uri": "https://localhost:8080/",
          "height": 423
        },
        "outputId": "20f40af5-3067-47a5-8e16-2bc78770543f"
      },
      "outputs": [
        {
          "output_type": "execute_result",
          "data": {
            "text/plain": [
              "      Brands-model Brands model  year  price transmission  mileage fuelType  \\\n",
              "0        AUDI - A1   AUDI    A1  2017  12500       Manual    15735   Petrol   \n",
              "1        AUDI - A6   AUDI    A6  2016  16500    Automatic    36203   Diesel   \n",
              "2        AUDI - A1   AUDI    A1  2016  11000       Manual    29946   Petrol   \n",
              "3        AUDI - A4   AUDI    A4  2017  16800    Automatic    25952   Diesel   \n",
              "4        AUDI - A3   AUDI    A3  2019  17300       Manual     1998   Petrol   \n",
              "...            ...    ...   ...   ...    ...          ...      ...      ...   \n",
              "15152     VW - Eos     VW   Eos  2012   5990       Manual    74000   Diesel   \n",
              "15153     VW - Fox     VW   Fox  2008   1799       Manual    88102   Petrol   \n",
              "15154     VW - Fox     VW   Fox  2009   1590       Manual    70000   Petrol   \n",
              "15155     VW - Fox     VW   Fox  2006   1250       Manual    82704   Petrol   \n",
              "15156     VW - Fox     VW   Fox  2007   2295       Manual    74000   Petrol   \n",
              "\n",
              "         tax   mpg  engineSize  \n",
              "0      150.0  55.4         1.4  \n",
              "1       20.0  64.2         2.0  \n",
              "2       30.0  55.4         1.4  \n",
              "3      145.0  67.3         2.0  \n",
              "4      145.0  49.6         1.0  \n",
              "...      ...   ...         ...  \n",
              "15152  125.0  58.9         2.0  \n",
              "15153  145.0  46.3         1.2  \n",
              "15154  200.0  42.0         1.4  \n",
              "15155  150.0  46.3         1.2  \n",
              "15156  145.0  46.3         1.2  \n",
              "\n",
              "[108540 rows x 11 columns]"
            ],
            "text/html": [
              "\n",
              "  <div id=\"df-94305044-a2e5-4225-8b4d-269a6ec9e5a3\">\n",
              "    <div class=\"colab-df-container\">\n",
              "      <div>\n",
              "<style scoped>\n",
              "    .dataframe tbody tr th:only-of-type {\n",
              "        vertical-align: middle;\n",
              "    }\n",
              "\n",
              "    .dataframe tbody tr th {\n",
              "        vertical-align: top;\n",
              "    }\n",
              "\n",
              "    .dataframe thead th {\n",
              "        text-align: right;\n",
              "    }\n",
              "</style>\n",
              "<table border=\"1\" class=\"dataframe\">\n",
              "  <thead>\n",
              "    <tr style=\"text-align: right;\">\n",
              "      <th></th>\n",
              "      <th>Brands-model</th>\n",
              "      <th>Brands</th>\n",
              "      <th>model</th>\n",
              "      <th>year</th>\n",
              "      <th>price</th>\n",
              "      <th>transmission</th>\n",
              "      <th>mileage</th>\n",
              "      <th>fuelType</th>\n",
              "      <th>tax</th>\n",
              "      <th>mpg</th>\n",
              "      <th>engineSize</th>\n",
              "    </tr>\n",
              "  </thead>\n",
              "  <tbody>\n",
              "    <tr>\n",
              "      <th>0</th>\n",
              "      <td>AUDI - A1</td>\n",
              "      <td>AUDI</td>\n",
              "      <td>A1</td>\n",
              "      <td>2017</td>\n",
              "      <td>12500</td>\n",
              "      <td>Manual</td>\n",
              "      <td>15735</td>\n",
              "      <td>Petrol</td>\n",
              "      <td>150.0</td>\n",
              "      <td>55.4</td>\n",
              "      <td>1.4</td>\n",
              "    </tr>\n",
              "    <tr>\n",
              "      <th>1</th>\n",
              "      <td>AUDI - A6</td>\n",
              "      <td>AUDI</td>\n",
              "      <td>A6</td>\n",
              "      <td>2016</td>\n",
              "      <td>16500</td>\n",
              "      <td>Automatic</td>\n",
              "      <td>36203</td>\n",
              "      <td>Diesel</td>\n",
              "      <td>20.0</td>\n",
              "      <td>64.2</td>\n",
              "      <td>2.0</td>\n",
              "    </tr>\n",
              "    <tr>\n",
              "      <th>2</th>\n",
              "      <td>AUDI - A1</td>\n",
              "      <td>AUDI</td>\n",
              "      <td>A1</td>\n",
              "      <td>2016</td>\n",
              "      <td>11000</td>\n",
              "      <td>Manual</td>\n",
              "      <td>29946</td>\n",
              "      <td>Petrol</td>\n",
              "      <td>30.0</td>\n",
              "      <td>55.4</td>\n",
              "      <td>1.4</td>\n",
              "    </tr>\n",
              "    <tr>\n",
              "      <th>3</th>\n",
              "      <td>AUDI - A4</td>\n",
              "      <td>AUDI</td>\n",
              "      <td>A4</td>\n",
              "      <td>2017</td>\n",
              "      <td>16800</td>\n",
              "      <td>Automatic</td>\n",
              "      <td>25952</td>\n",
              "      <td>Diesel</td>\n",
              "      <td>145.0</td>\n",
              "      <td>67.3</td>\n",
              "      <td>2.0</td>\n",
              "    </tr>\n",
              "    <tr>\n",
              "      <th>4</th>\n",
              "      <td>AUDI - A3</td>\n",
              "      <td>AUDI</td>\n",
              "      <td>A3</td>\n",
              "      <td>2019</td>\n",
              "      <td>17300</td>\n",
              "      <td>Manual</td>\n",
              "      <td>1998</td>\n",
              "      <td>Petrol</td>\n",
              "      <td>145.0</td>\n",
              "      <td>49.6</td>\n",
              "      <td>1.0</td>\n",
              "    </tr>\n",
              "    <tr>\n",
              "      <th>...</th>\n",
              "      <td>...</td>\n",
              "      <td>...</td>\n",
              "      <td>...</td>\n",
              "      <td>...</td>\n",
              "      <td>...</td>\n",
              "      <td>...</td>\n",
              "      <td>...</td>\n",
              "      <td>...</td>\n",
              "      <td>...</td>\n",
              "      <td>...</td>\n",
              "      <td>...</td>\n",
              "    </tr>\n",
              "    <tr>\n",
              "      <th>15152</th>\n",
              "      <td>VW - Eos</td>\n",
              "      <td>VW</td>\n",
              "      <td>Eos</td>\n",
              "      <td>2012</td>\n",
              "      <td>5990</td>\n",
              "      <td>Manual</td>\n",
              "      <td>74000</td>\n",
              "      <td>Diesel</td>\n",
              "      <td>125.0</td>\n",
              "      <td>58.9</td>\n",
              "      <td>2.0</td>\n",
              "    </tr>\n",
              "    <tr>\n",
              "      <th>15153</th>\n",
              "      <td>VW - Fox</td>\n",
              "      <td>VW</td>\n",
              "      <td>Fox</td>\n",
              "      <td>2008</td>\n",
              "      <td>1799</td>\n",
              "      <td>Manual</td>\n",
              "      <td>88102</td>\n",
              "      <td>Petrol</td>\n",
              "      <td>145.0</td>\n",
              "      <td>46.3</td>\n",
              "      <td>1.2</td>\n",
              "    </tr>\n",
              "    <tr>\n",
              "      <th>15154</th>\n",
              "      <td>VW - Fox</td>\n",
              "      <td>VW</td>\n",
              "      <td>Fox</td>\n",
              "      <td>2009</td>\n",
              "      <td>1590</td>\n",
              "      <td>Manual</td>\n",
              "      <td>70000</td>\n",
              "      <td>Petrol</td>\n",
              "      <td>200.0</td>\n",
              "      <td>42.0</td>\n",
              "      <td>1.4</td>\n",
              "    </tr>\n",
              "    <tr>\n",
              "      <th>15155</th>\n",
              "      <td>VW - Fox</td>\n",
              "      <td>VW</td>\n",
              "      <td>Fox</td>\n",
              "      <td>2006</td>\n",
              "      <td>1250</td>\n",
              "      <td>Manual</td>\n",
              "      <td>82704</td>\n",
              "      <td>Petrol</td>\n",
              "      <td>150.0</td>\n",
              "      <td>46.3</td>\n",
              "      <td>1.2</td>\n",
              "    </tr>\n",
              "    <tr>\n",
              "      <th>15156</th>\n",
              "      <td>VW - Fox</td>\n",
              "      <td>VW</td>\n",
              "      <td>Fox</td>\n",
              "      <td>2007</td>\n",
              "      <td>2295</td>\n",
              "      <td>Manual</td>\n",
              "      <td>74000</td>\n",
              "      <td>Petrol</td>\n",
              "      <td>145.0</td>\n",
              "      <td>46.3</td>\n",
              "      <td>1.2</td>\n",
              "    </tr>\n",
              "  </tbody>\n",
              "</table>\n",
              "<p>108540 rows × 11 columns</p>\n",
              "</div>\n",
              "      <button class=\"colab-df-convert\" onclick=\"convertToInteractive('df-94305044-a2e5-4225-8b4d-269a6ec9e5a3')\"\n",
              "              title=\"Convert this dataframe to an interactive table.\"\n",
              "              style=\"display:none;\">\n",
              "        \n",
              "  <svg xmlns=\"http://www.w3.org/2000/svg\" height=\"24px\"viewBox=\"0 0 24 24\"\n",
              "       width=\"24px\">\n",
              "    <path d=\"M0 0h24v24H0V0z\" fill=\"none\"/>\n",
              "    <path d=\"M18.56 5.44l.94 2.06.94-2.06 2.06-.94-2.06-.94-.94-2.06-.94 2.06-2.06.94zm-11 1L8.5 8.5l.94-2.06 2.06-.94-2.06-.94L8.5 2.5l-.94 2.06-2.06.94zm10 10l.94 2.06.94-2.06 2.06-.94-2.06-.94-.94-2.06-.94 2.06-2.06.94z\"/><path d=\"M17.41 7.96l-1.37-1.37c-.4-.4-.92-.59-1.43-.59-.52 0-1.04.2-1.43.59L10.3 9.45l-7.72 7.72c-.78.78-.78 2.05 0 2.83L4 21.41c.39.39.9.59 1.41.59.51 0 1.02-.2 1.41-.59l7.78-7.78 2.81-2.81c.8-.78.8-2.07 0-2.86zM5.41 20L4 18.59l7.72-7.72 1.47 1.35L5.41 20z\"/>\n",
              "  </svg>\n",
              "      </button>\n",
              "      \n",
              "  <style>\n",
              "    .colab-df-container {\n",
              "      display:flex;\n",
              "      flex-wrap:wrap;\n",
              "      gap: 12px;\n",
              "    }\n",
              "\n",
              "    .colab-df-convert {\n",
              "      background-color: #E8F0FE;\n",
              "      border: none;\n",
              "      border-radius: 50%;\n",
              "      cursor: pointer;\n",
              "      display: none;\n",
              "      fill: #1967D2;\n",
              "      height: 32px;\n",
              "      padding: 0 0 0 0;\n",
              "      width: 32px;\n",
              "    }\n",
              "\n",
              "    .colab-df-convert:hover {\n",
              "      background-color: #E2EBFA;\n",
              "      box-shadow: 0px 1px 2px rgba(60, 64, 67, 0.3), 0px 1px 3px 1px rgba(60, 64, 67, 0.15);\n",
              "      fill: #174EA6;\n",
              "    }\n",
              "\n",
              "    [theme=dark] .colab-df-convert {\n",
              "      background-color: #3B4455;\n",
              "      fill: #D2E3FC;\n",
              "    }\n",
              "\n",
              "    [theme=dark] .colab-df-convert:hover {\n",
              "      background-color: #434B5C;\n",
              "      box-shadow: 0px 1px 3px 1px rgba(0, 0, 0, 0.15);\n",
              "      filter: drop-shadow(0px 1px 2px rgba(0, 0, 0, 0.3));\n",
              "      fill: #FFFFFF;\n",
              "    }\n",
              "  </style>\n",
              "\n",
              "      <script>\n",
              "        const buttonEl =\n",
              "          document.querySelector('#df-94305044-a2e5-4225-8b4d-269a6ec9e5a3 button.colab-df-convert');\n",
              "        buttonEl.style.display =\n",
              "          google.colab.kernel.accessAllowed ? 'block' : 'none';\n",
              "\n",
              "        async function convertToInteractive(key) {\n",
              "          const element = document.querySelector('#df-94305044-a2e5-4225-8b4d-269a6ec9e5a3');\n",
              "          const dataTable =\n",
              "            await google.colab.kernel.invokeFunction('convertToInteractive',\n",
              "                                                     [key], {});\n",
              "          if (!dataTable) return;\n",
              "\n",
              "          const docLinkHtml = 'Like what you see? Visit the ' +\n",
              "            '<a target=\"_blank\" href=https://colab.research.google.com/notebooks/data_table.ipynb>data table notebook</a>'\n",
              "            + ' to learn more about interactive tables.';\n",
              "          element.innerHTML = '';\n",
              "          dataTable['output_type'] = 'display_data';\n",
              "          await google.colab.output.renderOutput(dataTable, element);\n",
              "          const docLink = document.createElement('div');\n",
              "          docLink.innerHTML = docLinkHtml;\n",
              "          element.appendChild(docLink);\n",
              "        }\n",
              "      </script>\n",
              "    </div>\n",
              "  </div>\n",
              "  "
            ]
          },
          "metadata": {},
          "execution_count": 15
        }
      ],
      "source": [
        "# Dropped tax(£) as it has more that 95% missing values.\n",
        "cars_new=cars.dropna(how='any',axis=1,thresh=cars.shape[0]*0.25) \n",
        "#cars_new= cars_new.dropna() # we droped perticular rows which have null because for catagories of each perticular there all nulls.\n",
        "cars_new\n"
      ]
    },
    {
      "cell_type": "code",
      "execution_count": 16,
      "metadata": {
        "id": "yY9rSMt0xIKu",
        "colab": {
          "base_uri": "https://localhost:8080/"
        },
        "outputId": "5ec87c82-be57-4f61-d72e-da195751d5f8"
      },
      "outputs": [
        {
          "output_type": "stream",
          "name": "stderr",
          "text": [
            "/usr/local/lib/python3.7/dist-packages/pandas/core/generic.py:6619: SettingWithCopyWarning: \n",
            "A value is trying to be set on a copy of a slice from a DataFrame\n",
            "\n",
            "See the caveats in the documentation: https://pandas.pydata.org/pandas-docs/stable/user_guide/indexing.html#returning-a-view-versus-a-copy\n",
            "  return self._update_inplace(result)\n"
          ]
        }
      ],
      "source": [
        "# Converted Catagorical variables into Numrical variables \n",
        "cars_new ['transmission'].replace(['Manual', 'Automatic','Semi-Auto','Others'],\n",
        "                        [0,1,2,3], inplace=True)\n",
        "cars_new ['fuelType'].replace(['Petrol','Diesel','Hybrid','Other','Electric'],\n",
        "                        [0,1,2,3,4], inplace=True)"
      ]
    },
    {
      "cell_type": "code",
      "execution_count": 17,
      "metadata": {
        "id": "E2aCRk08uw1r",
        "colab": {
          "base_uri": "https://localhost:8080/",
          "height": 423
        },
        "outputId": "3ea3f781-aa4f-477f-e98d-b3f5a35e4eee"
      },
      "outputs": [
        {
          "output_type": "execute_result",
          "data": {
            "text/plain": [
              "      Brands-model Brands model  year  price transmission  mileage  fuelType  \\\n",
              "0        AUDI - A1   AUDI    A1  2017  12500            0    15735         0   \n",
              "1        AUDI - A6   AUDI    A6  2016  16500            1    36203         1   \n",
              "2        AUDI - A1   AUDI    A1  2016  11000            0    29946         0   \n",
              "3        AUDI - A4   AUDI    A4  2017  16800            1    25952         1   \n",
              "4        AUDI - A3   AUDI    A3  2019  17300            0     1998         0   \n",
              "...            ...    ...   ...   ...    ...          ...      ...       ...   \n",
              "15152     VW - Eos     VW   Eos  2012   5990            0    74000         1   \n",
              "15153     VW - Fox     VW   Fox  2008   1799            0    88102         0   \n",
              "15154     VW - Fox     VW   Fox  2009   1590            0    70000         0   \n",
              "15155     VW - Fox     VW   Fox  2006   1250            0    82704         0   \n",
              "15156     VW - Fox     VW   Fox  2007   2295            0    74000         0   \n",
              "\n",
              "         tax   mpg  engineSize  \n",
              "0      150.0  55.4         1.4  \n",
              "1       20.0  64.2         2.0  \n",
              "2       30.0  55.4         1.4  \n",
              "3      145.0  67.3         2.0  \n",
              "4      145.0  49.6         1.0  \n",
              "...      ...   ...         ...  \n",
              "15152  125.0  58.9         2.0  \n",
              "15153  145.0  46.3         1.2  \n",
              "15154  200.0  42.0         1.4  \n",
              "15155  150.0  46.3         1.2  \n",
              "15156  145.0  46.3         1.2  \n",
              "\n",
              "[106259 rows x 11 columns]"
            ],
            "text/html": [
              "\n",
              "  <div id=\"df-86bab91b-2a75-49ff-8bfc-cf7606eff73b\">\n",
              "    <div class=\"colab-df-container\">\n",
              "      <div>\n",
              "<style scoped>\n",
              "    .dataframe tbody tr th:only-of-type {\n",
              "        vertical-align: middle;\n",
              "    }\n",
              "\n",
              "    .dataframe tbody tr th {\n",
              "        vertical-align: top;\n",
              "    }\n",
              "\n",
              "    .dataframe thead th {\n",
              "        text-align: right;\n",
              "    }\n",
              "</style>\n",
              "<table border=\"1\" class=\"dataframe\">\n",
              "  <thead>\n",
              "    <tr style=\"text-align: right;\">\n",
              "      <th></th>\n",
              "      <th>Brands-model</th>\n",
              "      <th>Brands</th>\n",
              "      <th>model</th>\n",
              "      <th>year</th>\n",
              "      <th>price</th>\n",
              "      <th>transmission</th>\n",
              "      <th>mileage</th>\n",
              "      <th>fuelType</th>\n",
              "      <th>tax</th>\n",
              "      <th>mpg</th>\n",
              "      <th>engineSize</th>\n",
              "    </tr>\n",
              "  </thead>\n",
              "  <tbody>\n",
              "    <tr>\n",
              "      <th>0</th>\n",
              "      <td>AUDI - A1</td>\n",
              "      <td>AUDI</td>\n",
              "      <td>A1</td>\n",
              "      <td>2017</td>\n",
              "      <td>12500</td>\n",
              "      <td>0</td>\n",
              "      <td>15735</td>\n",
              "      <td>0</td>\n",
              "      <td>150.0</td>\n",
              "      <td>55.4</td>\n",
              "      <td>1.4</td>\n",
              "    </tr>\n",
              "    <tr>\n",
              "      <th>1</th>\n",
              "      <td>AUDI - A6</td>\n",
              "      <td>AUDI</td>\n",
              "      <td>A6</td>\n",
              "      <td>2016</td>\n",
              "      <td>16500</td>\n",
              "      <td>1</td>\n",
              "      <td>36203</td>\n",
              "      <td>1</td>\n",
              "      <td>20.0</td>\n",
              "      <td>64.2</td>\n",
              "      <td>2.0</td>\n",
              "    </tr>\n",
              "    <tr>\n",
              "      <th>2</th>\n",
              "      <td>AUDI - A1</td>\n",
              "      <td>AUDI</td>\n",
              "      <td>A1</td>\n",
              "      <td>2016</td>\n",
              "      <td>11000</td>\n",
              "      <td>0</td>\n",
              "      <td>29946</td>\n",
              "      <td>0</td>\n",
              "      <td>30.0</td>\n",
              "      <td>55.4</td>\n",
              "      <td>1.4</td>\n",
              "    </tr>\n",
              "    <tr>\n",
              "      <th>3</th>\n",
              "      <td>AUDI - A4</td>\n",
              "      <td>AUDI</td>\n",
              "      <td>A4</td>\n",
              "      <td>2017</td>\n",
              "      <td>16800</td>\n",
              "      <td>1</td>\n",
              "      <td>25952</td>\n",
              "      <td>1</td>\n",
              "      <td>145.0</td>\n",
              "      <td>67.3</td>\n",
              "      <td>2.0</td>\n",
              "    </tr>\n",
              "    <tr>\n",
              "      <th>4</th>\n",
              "      <td>AUDI - A3</td>\n",
              "      <td>AUDI</td>\n",
              "      <td>A3</td>\n",
              "      <td>2019</td>\n",
              "      <td>17300</td>\n",
              "      <td>0</td>\n",
              "      <td>1998</td>\n",
              "      <td>0</td>\n",
              "      <td>145.0</td>\n",
              "      <td>49.6</td>\n",
              "      <td>1.0</td>\n",
              "    </tr>\n",
              "    <tr>\n",
              "      <th>...</th>\n",
              "      <td>...</td>\n",
              "      <td>...</td>\n",
              "      <td>...</td>\n",
              "      <td>...</td>\n",
              "      <td>...</td>\n",
              "      <td>...</td>\n",
              "      <td>...</td>\n",
              "      <td>...</td>\n",
              "      <td>...</td>\n",
              "      <td>...</td>\n",
              "      <td>...</td>\n",
              "    </tr>\n",
              "    <tr>\n",
              "      <th>15152</th>\n",
              "      <td>VW - Eos</td>\n",
              "      <td>VW</td>\n",
              "      <td>Eos</td>\n",
              "      <td>2012</td>\n",
              "      <td>5990</td>\n",
              "      <td>0</td>\n",
              "      <td>74000</td>\n",
              "      <td>1</td>\n",
              "      <td>125.0</td>\n",
              "      <td>58.9</td>\n",
              "      <td>2.0</td>\n",
              "    </tr>\n",
              "    <tr>\n",
              "      <th>15153</th>\n",
              "      <td>VW - Fox</td>\n",
              "      <td>VW</td>\n",
              "      <td>Fox</td>\n",
              "      <td>2008</td>\n",
              "      <td>1799</td>\n",
              "      <td>0</td>\n",
              "      <td>88102</td>\n",
              "      <td>0</td>\n",
              "      <td>145.0</td>\n",
              "      <td>46.3</td>\n",
              "      <td>1.2</td>\n",
              "    </tr>\n",
              "    <tr>\n",
              "      <th>15154</th>\n",
              "      <td>VW - Fox</td>\n",
              "      <td>VW</td>\n",
              "      <td>Fox</td>\n",
              "      <td>2009</td>\n",
              "      <td>1590</td>\n",
              "      <td>0</td>\n",
              "      <td>70000</td>\n",
              "      <td>0</td>\n",
              "      <td>200.0</td>\n",
              "      <td>42.0</td>\n",
              "      <td>1.4</td>\n",
              "    </tr>\n",
              "    <tr>\n",
              "      <th>15155</th>\n",
              "      <td>VW - Fox</td>\n",
              "      <td>VW</td>\n",
              "      <td>Fox</td>\n",
              "      <td>2006</td>\n",
              "      <td>1250</td>\n",
              "      <td>0</td>\n",
              "      <td>82704</td>\n",
              "      <td>0</td>\n",
              "      <td>150.0</td>\n",
              "      <td>46.3</td>\n",
              "      <td>1.2</td>\n",
              "    </tr>\n",
              "    <tr>\n",
              "      <th>15156</th>\n",
              "      <td>VW - Fox</td>\n",
              "      <td>VW</td>\n",
              "      <td>Fox</td>\n",
              "      <td>2007</td>\n",
              "      <td>2295</td>\n",
              "      <td>0</td>\n",
              "      <td>74000</td>\n",
              "      <td>0</td>\n",
              "      <td>145.0</td>\n",
              "      <td>46.3</td>\n",
              "      <td>1.2</td>\n",
              "    </tr>\n",
              "  </tbody>\n",
              "</table>\n",
              "<p>106259 rows × 11 columns</p>\n",
              "</div>\n",
              "      <button class=\"colab-df-convert\" onclick=\"convertToInteractive('df-86bab91b-2a75-49ff-8bfc-cf7606eff73b')\"\n",
              "              title=\"Convert this dataframe to an interactive table.\"\n",
              "              style=\"display:none;\">\n",
              "        \n",
              "  <svg xmlns=\"http://www.w3.org/2000/svg\" height=\"24px\"viewBox=\"0 0 24 24\"\n",
              "       width=\"24px\">\n",
              "    <path d=\"M0 0h24v24H0V0z\" fill=\"none\"/>\n",
              "    <path d=\"M18.56 5.44l.94 2.06.94-2.06 2.06-.94-2.06-.94-.94-2.06-.94 2.06-2.06.94zm-11 1L8.5 8.5l.94-2.06 2.06-.94-2.06-.94L8.5 2.5l-.94 2.06-2.06.94zm10 10l.94 2.06.94-2.06 2.06-.94-2.06-.94-.94-2.06-.94 2.06-2.06.94z\"/><path d=\"M17.41 7.96l-1.37-1.37c-.4-.4-.92-.59-1.43-.59-.52 0-1.04.2-1.43.59L10.3 9.45l-7.72 7.72c-.78.78-.78 2.05 0 2.83L4 21.41c.39.39.9.59 1.41.59.51 0 1.02-.2 1.41-.59l7.78-7.78 2.81-2.81c.8-.78.8-2.07 0-2.86zM5.41 20L4 18.59l7.72-7.72 1.47 1.35L5.41 20z\"/>\n",
              "  </svg>\n",
              "      </button>\n",
              "      \n",
              "  <style>\n",
              "    .colab-df-container {\n",
              "      display:flex;\n",
              "      flex-wrap:wrap;\n",
              "      gap: 12px;\n",
              "    }\n",
              "\n",
              "    .colab-df-convert {\n",
              "      background-color: #E8F0FE;\n",
              "      border: none;\n",
              "      border-radius: 50%;\n",
              "      cursor: pointer;\n",
              "      display: none;\n",
              "      fill: #1967D2;\n",
              "      height: 32px;\n",
              "      padding: 0 0 0 0;\n",
              "      width: 32px;\n",
              "    }\n",
              "\n",
              "    .colab-df-convert:hover {\n",
              "      background-color: #E2EBFA;\n",
              "      box-shadow: 0px 1px 2px rgba(60, 64, 67, 0.3), 0px 1px 3px 1px rgba(60, 64, 67, 0.15);\n",
              "      fill: #174EA6;\n",
              "    }\n",
              "\n",
              "    [theme=dark] .colab-df-convert {\n",
              "      background-color: #3B4455;\n",
              "      fill: #D2E3FC;\n",
              "    }\n",
              "\n",
              "    [theme=dark] .colab-df-convert:hover {\n",
              "      background-color: #434B5C;\n",
              "      box-shadow: 0px 1px 3px 1px rgba(0, 0, 0, 0.15);\n",
              "      filter: drop-shadow(0px 1px 2px rgba(0, 0, 0, 0.3));\n",
              "      fill: #FFFFFF;\n",
              "    }\n",
              "  </style>\n",
              "\n",
              "      <script>\n",
              "        const buttonEl =\n",
              "          document.querySelector('#df-86bab91b-2a75-49ff-8bfc-cf7606eff73b button.colab-df-convert');\n",
              "        buttonEl.style.display =\n",
              "          google.colab.kernel.accessAllowed ? 'block' : 'none';\n",
              "\n",
              "        async function convertToInteractive(key) {\n",
              "          const element = document.querySelector('#df-86bab91b-2a75-49ff-8bfc-cf7606eff73b');\n",
              "          const dataTable =\n",
              "            await google.colab.kernel.invokeFunction('convertToInteractive',\n",
              "                                                     [key], {});\n",
              "          if (!dataTable) return;\n",
              "\n",
              "          const docLinkHtml = 'Like what you see? Visit the ' +\n",
              "            '<a target=\"_blank\" href=https://colab.research.google.com/notebooks/data_table.ipynb>data table notebook</a>'\n",
              "            + ' to learn more about interactive tables.';\n",
              "          element.innerHTML = '';\n",
              "          dataTable['output_type'] = 'display_data';\n",
              "          await google.colab.output.renderOutput(dataTable, element);\n",
              "          const docLink = document.createElement('div');\n",
              "          docLink.innerHTML = docLinkHtml;\n",
              "          element.appendChild(docLink);\n",
              "        }\n",
              "      </script>\n",
              "    </div>\n",
              "  </div>\n",
              "  "
            ]
          },
          "metadata": {},
          "execution_count": 17
        }
      ],
      "source": [
        "# removed duplicate values\n",
        "cars_new_updated = cars_new.drop_duplicates()\n",
        "cars_new_updated"
      ]
    },
    {
      "cell_type": "code",
      "execution_count": 18,
      "metadata": {
        "id": "Y4uKfadCBQ_v",
        "colab": {
          "base_uri": "https://localhost:8080/"
        },
        "outputId": "5eecf3bb-eba9-4db8-d81c-928fd2721bad"
      },
      "outputs": [
        {
          "output_type": "stream",
          "name": "stdout",
          "text": [
            "['tax', 'mpg']\n"
          ]
        }
      ],
      "source": [
        "#To find out the columns list which have missing values more than 1000\n",
        "more_10000 = list(cars_new_updated.loc[:,list(cars_new_updated.isnull().sum()>= 1000)].columns)\n",
        "print(more_10000)\n"
      ]
    },
    {
      "cell_type": "code",
      "execution_count": 19,
      "metadata": {
        "id": "aG2tht6WC481",
        "colab": {
          "base_uri": "https://localhost:8080/"
        },
        "outputId": "ebe990f5-5a6f-4814-c810-de415c18be4f"
      },
      "outputs": [
        {
          "output_type": "stream",
          "name": "stderr",
          "text": [
            "/usr/local/lib/python3.7/dist-packages/pandas/core/frame.py:3641: SettingWithCopyWarning: \n",
            "A value is trying to be set on a copy of a slice from a DataFrame.\n",
            "Try using .loc[row_indexer,col_indexer] = value instead\n",
            "\n",
            "See the caveats in the documentation: https://pandas.pydata.org/pandas-docs/stable/user_guide/indexing.html#returning-a-view-versus-a-copy\n",
            "  self[k1] = value[k2]\n"
          ]
        }
      ],
      "source": [
        "# grouping and assigning the mean value with the respective class to the null values.\n",
        "cars_new_updated[more_10000] = cars_new_updated[more_10000].fillna(cars_new_updated.groupby(['model','year','transmission','fuelType'])[more_10000].transform('mean'))\n"
      ]
    },
    {
      "cell_type": "code",
      "execution_count": 20,
      "metadata": {
        "id": "hMKWSlboxm6p"
      },
      "outputs": [],
      "source": [
        "import missingno as msno"
      ]
    },
    {
      "cell_type": "code",
      "execution_count": 21,
      "metadata": {
        "id": "JqVqcwkWxkda",
        "colab": {
          "base_uri": "https://localhost:8080/",
          "height": 686
        },
        "outputId": "7f5e7a1c-ad0f-4a78-f897-486aef780987"
      },
      "outputs": [
        {
          "output_type": "execute_result",
          "data": {
            "text/plain": [
              "<matplotlib.axes._subplots.AxesSubplot at 0x7f1343d44550>"
            ]
          },
          "metadata": {},
          "execution_count": 21
        },
        {
          "output_type": "display_data",
          "data": {
            "text/plain": [
              "<Figure size 1800x720 with 2 Axes>"
            ],
            "image/png": "[encoded data removed]"
          },
          "metadata": {
            "needs_background": "light"
          }
        }
      ],
      "source": [
        "# representation of missing values using MISSING NO library.\n",
        "msno.matrix(cars_new_updated)"
      ]
    },
    {
      "cell_type": "code",
      "execution_count": 22,
      "metadata": {
        "id": "Wua_J1p_o-AM",
        "colab": {
          "base_uri": "https://localhost:8080/"
        },
        "outputId": "3d51af06-556c-40e6-a2e9-d25c0f3437f9"
      },
      "outputs": [
        {
          "output_type": "execute_result",
          "data": {
            "text/plain": [
              "Brands-model       0\n",
              "Brands             0\n",
              "model              0\n",
              "year               0\n",
              "price              0\n",
              "transmission       0\n",
              "mileage            0\n",
              "fuelType           0\n",
              "tax             4784\n",
              "mpg               18\n",
              "engineSize         0\n",
              "dtype: int64"
            ]
          },
          "metadata": {},
          "execution_count": 22
        }
      ],
      "source": [
        "#checking the null values after data processing.\n",
        "cars_new_updated.isnull().sum()"
      ]
    },
    {
      "cell_type": "code",
      "execution_count": 23,
      "metadata": {
        "id": "kR7-TL5DW4w_"
      },
      "outputs": [],
      "source": [
        "# Deleted null values in perticular rows.\n",
        "cars_new_updated = cars_new_updated[cars_new_updated.tax.notnull()]\n"
      ]
    },
    {
      "cell_type": "code",
      "execution_count": 24,
      "metadata": {
        "id": "VW2s48ftXB7Q",
        "colab": {
          "base_uri": "https://localhost:8080/"
        },
        "outputId": "909a6efc-45a1-4146-b6e8-709ad047662a"
      },
      "outputs": [
        {
          "output_type": "execute_result",
          "data": {
            "text/plain": [
              "Brands-model    0\n",
              "Brands          0\n",
              "model           0\n",
              "year            0\n",
              "price           0\n",
              "transmission    0\n",
              "mileage         0\n",
              "fuelType        0\n",
              "tax             0\n",
              "mpg             0\n",
              "engineSize      0\n",
              "dtype: int64"
            ]
          },
          "metadata": {},
          "execution_count": 24
        }
      ],
      "source": [
        "#checking if there are anymore null values \n",
        "cars_new_updated.isnull().sum()"
      ]
    },
    {
      "cell_type": "code",
      "execution_count": 25,
      "metadata": {
        "id": "7U5UPLo0as3y",
        "colab": {
          "base_uri": "https://localhost:8080/"
        },
        "outputId": "e0929df7-dc47-45a1-8ee8-f8e42f1628b7"
      },
      "outputs": [
        {
          "output_type": "execute_result",
          "data": {
            "text/plain": [
              "(101475, 11)"
            ]
          },
          "metadata": {},
          "execution_count": 25
        }
      ],
      "source": [
        "cars_new_updated.shape"
      ]
    },
    {
      "cell_type": "code",
      "execution_count": 26,
      "metadata": {
        "id": "E0KcwGCLygA-",
        "colab": {
          "base_uri": "https://localhost:8080/",
          "height": 423
        },
        "outputId": "b2536f8e-ca46-4b9b-806f-683178ed88eb"
      },
      "outputs": [
        {
          "output_type": "execute_result",
          "data": {
            "text/plain": [
              "      Brands-model Brands model  year  price transmission  mileage  fuelType  \\\n",
              "0        AUDI - A1   AUDI    A1  2017  12500            0    15735         0   \n",
              "1        AUDI - A6   AUDI    A6  2016  16500            1    36203         1   \n",
              "2        AUDI - A1   AUDI    A1  2016  11000            0    29946         0   \n",
              "3        AUDI - A4   AUDI    A4  2017  16800            1    25952         1   \n",
              "4        AUDI - A3   AUDI    A3  2019  17300            0     1998         0   \n",
              "...            ...    ...   ...   ...    ...          ...      ...       ...   \n",
              "15152     VW - Eos     VW   Eos  2012   5990            0    74000         1   \n",
              "15153     VW - Fox     VW   Fox  2008   1799            0    88102         0   \n",
              "15154     VW - Fox     VW   Fox  2009   1590            0    70000         0   \n",
              "15155     VW - Fox     VW   Fox  2006   1250            0    82704         0   \n",
              "15156     VW - Fox     VW   Fox  2007   2295            0    74000         0   \n",
              "\n",
              "         tax   mpg  engineSize  \n",
              "0      150.0  55.4         1.4  \n",
              "1       20.0  64.2         2.0  \n",
              "2       30.0  55.4         1.4  \n",
              "3      145.0  67.3         2.0  \n",
              "4      145.0  49.6         1.0  \n",
              "...      ...   ...         ...  \n",
              "15152  125.0  58.9         2.0  \n",
              "15153  145.0  46.3         1.2  \n",
              "15154  200.0  42.0         1.4  \n",
              "15155  150.0  46.3         1.2  \n",
              "15156  145.0  46.3         1.2  \n",
              "\n",
              "[101475 rows x 11 columns]"
            ],
            "text/html": [
              "\n",
              "  <div id=\"df-365d2097-392a-48a8-88bb-fe9db0573fc4\">\n",
              "    <div class=\"colab-df-container\">\n",
              "      <div>\n",
              "<style scoped>\n",
              "    .dataframe tbody tr th:only-of-type {\n",
              "        vertical-align: middle;\n",
              "    }\n",
              "\n",
              "    .dataframe tbody tr th {\n",
              "        vertical-align: top;\n",
              "    }\n",
              "\n",
              "    .dataframe thead th {\n",
              "        text-align: right;\n",
              "    }\n",
              "</style>\n",
              "<table border=\"1\" class=\"dataframe\">\n",
              "  <thead>\n",
              "    <tr style=\"text-align: right;\">\n",
              "      <th></th>\n",
              "      <th>Brands-model</th>\n",
              "      <th>Brands</th>\n",
              "      <th>model</th>\n",
              "      <th>year</th>\n",
              "      <th>price</th>\n",
              "      <th>transmission</th>\n",
              "      <th>mileage</th>\n",
              "      <th>fuelType</th>\n",
              "      <th>tax</th>\n",
              "      <th>mpg</th>\n",
              "      <th>engineSize</th>\n",
              "    </tr>\n",
              "  </thead>\n",
              "  <tbody>\n",
              "    <tr>\n",
              "      <th>0</th>\n",
              "      <td>AUDI - A1</td>\n",
              "      <td>AUDI</td>\n",
              "      <td>A1</td>\n",
              "      <td>2017</td>\n",
              "      <td>12500</td>\n",
              "      <td>0</td>\n",
              "      <td>15735</td>\n",
              "      <td>0</td>\n",
              "      <td>150.0</td>\n",
              "      <td>55.4</td>\n",
              "      <td>1.4</td>\n",
              "    </tr>\n",
              "    <tr>\n",
              "      <th>1</th>\n",
              "      <td>AUDI - A6</td>\n",
              "      <td>AUDI</td>\n",
              "      <td>A6</td>\n",
              "      <td>2016</td>\n",
              "      <td>16500</td>\n",
              "      <td>1</td>\n",
              "      <td>36203</td>\n",
              "      <td>1</td>\n",
              "      <td>20.0</td>\n",
              "      <td>64.2</td>\n",
              "      <td>2.0</td>\n",
              "    </tr>\n",
              "    <tr>\n",
              "      <th>2</th>\n",
              "      <td>AUDI - A1</td>\n",
              "      <td>AUDI</td>\n",
              "      <td>A1</td>\n",
              "      <td>2016</td>\n",
              "      <td>11000</td>\n",
              "      <td>0</td>\n",
              "      <td>29946</td>\n",
              "      <td>0</td>\n",
              "      <td>30.0</td>\n",
              "      <td>55.4</td>\n",
              "      <td>1.4</td>\n",
              "    </tr>\n",
              "    <tr>\n",
              "      <th>3</th>\n",
              "      <td>AUDI - A4</td>\n",
              "      <td>AUDI</td>\n",
              "      <td>A4</td>\n",
              "      <td>2017</td>\n",
              "      <td>16800</td>\n",
              "      <td>1</td>\n",
              "      <td>25952</td>\n",
              "      <td>1</td>\n",
              "      <td>145.0</td>\n",
              "      <td>67.3</td>\n",
              "      <td>2.0</td>\n",
              "    </tr>\n",
              "    <tr>\n",
              "      <th>4</th>\n",
              "      <td>AUDI - A3</td>\n",
              "      <td>AUDI</td>\n",
              "      <td>A3</td>\n",
              "      <td>2019</td>\n",
              "      <td>17300</td>\n",
              "      <td>0</td>\n",
              "      <td>1998</td>\n",
              "      <td>0</td>\n",
              "      <td>145.0</td>\n",
              "      <td>49.6</td>\n",
              "      <td>1.0</td>\n",
              "    </tr>\n",
              "    <tr>\n",
              "      <th>...</th>\n",
              "      <td>...</td>\n",
              "      <td>...</td>\n",
              "      <td>...</td>\n",
              "      <td>...</td>\n",
              "      <td>...</td>\n",
              "      <td>...</td>\n",
              "      <td>...</td>\n",
              "      <td>...</td>\n",
              "      <td>...</td>\n",
              "      <td>...</td>\n",
              "      <td>...</td>\n",
              "    </tr>\n",
              "    <tr>\n",
              "      <th>15152</th>\n",
              "      <td>VW - Eos</td>\n",
              "      <td>VW</td>\n",
              "      <td>Eos</td>\n",
              "      <td>2012</td>\n",
              "      <td>5990</td>\n",
              "      <td>0</td>\n",
              "      <td>74000</td>\n",
              "      <td>1</td>\n",
              "      <td>125.0</td>\n",
              "      <td>58.9</td>\n",
              "      <td>2.0</td>\n",
              "    </tr>\n",
              "    <tr>\n",
              "      <th>15153</th>\n",
              "      <td>VW - Fox</td>\n",
              "      <td>VW</td>\n",
              "      <td>Fox</td>\n",
              "      <td>2008</td>\n",
              "      <td>1799</td>\n",
              "      <td>0</td>\n",
              "      <td>88102</td>\n",
              "      <td>0</td>\n",
              "      <td>145.0</td>\n",
              "      <td>46.3</td>\n",
              "      <td>1.2</td>\n",
              "    </tr>\n",
              "    <tr>\n",
              "      <th>15154</th>\n",
              "      <td>VW - Fox</td>\n",
              "      <td>VW</td>\n",
              "      <td>Fox</td>\n",
              "      <td>2009</td>\n",
              "      <td>1590</td>\n",
              "      <td>0</td>\n",
              "      <td>70000</td>\n",
              "      <td>0</td>\n",
              "      <td>200.0</td>\n",
              "      <td>42.0</td>\n",
              "      <td>1.4</td>\n",
              "    </tr>\n",
              "    <tr>\n",
              "      <th>15155</th>\n",
              "      <td>VW - Fox</td>\n",
              "      <td>VW</td>\n",
              "      <td>Fox</td>\n",
              "      <td>2006</td>\n",
              "      <td>1250</td>\n",
              "      <td>0</td>\n",
              "      <td>82704</td>\n",
              "      <td>0</td>\n",
              "      <td>150.0</td>\n",
              "      <td>46.3</td>\n",
              "      <td>1.2</td>\n",
              "    </tr>\n",
              "    <tr>\n",
              "      <th>15156</th>\n",
              "      <td>VW - Fox</td>\n",
              "      <td>VW</td>\n",
              "      <td>Fox</td>\n",
              "      <td>2007</td>\n",
              "      <td>2295</td>\n",
              "      <td>0</td>\n",
              "      <td>74000</td>\n",
              "      <td>0</td>\n",
              "      <td>145.0</td>\n",
              "      <td>46.3</td>\n",
              "      <td>1.2</td>\n",
              "    </tr>\n",
              "  </tbody>\n",
              "</table>\n",
              "<p>101475 rows × 11 columns</p>\n",
              "</div>\n",
              "      <button class=\"colab-df-convert\" onclick=\"convertToInteractive('df-365d2097-392a-48a8-88bb-fe9db0573fc4')\"\n",
              "              title=\"Convert this dataframe to an interactive table.\"\n",
              "              style=\"display:none;\">\n",
              "        \n",
              "  <svg xmlns=\"http://www.w3.org/2000/svg\" height=\"24px\"viewBox=\"0 0 24 24\"\n",
              "       width=\"24px\">\n",
              "    <path d=\"M0 0h24v24H0V0z\" fill=\"none\"/>\n",
              "    <path d=\"M18.56 5.44l.94 2.06.94-2.06 2.06-.94-2.06-.94-.94-2.06-.94 2.06-2.06.94zm-11 1L8.5 8.5l.94-2.06 2.06-.94-2.06-.94L8.5 2.5l-.94 2.06-2.06.94zm10 10l.94 2.06.94-2.06 2.06-.94-2.06-.94-.94-2.06-.94 2.06-2.06.94z\"/><path d=\"M17.41 7.96l-1.37-1.37c-.4-.4-.92-.59-1.43-.59-.52 0-1.04.2-1.43.59L10.3 9.45l-7.72 7.72c-.78.78-.78 2.05 0 2.83L4 21.41c.39.39.9.59 1.41.59.51 0 1.02-.2 1.41-.59l7.78-7.78 2.81-2.81c.8-.78.8-2.07 0-2.86zM5.41 20L4 18.59l7.72-7.72 1.47 1.35L5.41 20z\"/>\n",
              "  </svg>\n",
              "      </button>\n",
              "      \n",
              "  <style>\n",
              "    .colab-df-container {\n",
              "      display:flex;\n",
              "      flex-wrap:wrap;\n",
              "      gap: 12px;\n",
              "    }\n",
              "\n",
              "    .colab-df-convert {\n",
              "      background-color: #E8F0FE;\n",
              "      border: none;\n",
              "      border-radius: 50%;\n",
              "      cursor: pointer;\n",
              "      display: none;\n",
              "      fill: #1967D2;\n",
              "      height: 32px;\n",
              "      padding: 0 0 0 0;\n",
              "      width: 32px;\n",
              "    }\n",
              "\n",
              "    .colab-df-convert:hover {\n",
              "      background-color: #E2EBFA;\n",
              "      box-shadow: 0px 1px 2px rgba(60, 64, 67, 0.3), 0px 1px 3px 1px rgba(60, 64, 67, 0.15);\n",
              "      fill: #174EA6;\n",
              "    }\n",
              "\n",
              "    [theme=dark] .colab-df-convert {\n",
              "      background-color: #3B4455;\n",
              "      fill: #D2E3FC;\n",
              "    }\n",
              "\n",
              "    [theme=dark] .colab-df-convert:hover {\n",
              "      background-color: #434B5C;\n",
              "      box-shadow: 0px 1px 3px 1px rgba(0, 0, 0, 0.15);\n",
              "      filter: drop-shadow(0px 1px 2px rgba(0, 0, 0, 0.3));\n",
              "      fill: #FFFFFF;\n",
              "    }\n",
              "  </style>\n",
              "\n",
              "      <script>\n",
              "        const buttonEl =\n",
              "          document.querySelector('#df-365d2097-392a-48a8-88bb-fe9db0573fc4 button.colab-df-convert');\n",
              "        buttonEl.style.display =\n",
              "          google.colab.kernel.accessAllowed ? 'block' : 'none';\n",
              "\n",
              "        async function convertToInteractive(key) {\n",
              "          const element = document.querySelector('#df-365d2097-392a-48a8-88bb-fe9db0573fc4');\n",
              "          const dataTable =\n",
              "            await google.colab.kernel.invokeFunction('convertToInteractive',\n",
              "                                                     [key], {});\n",
              "          if (!dataTable) return;\n",
              "\n",
              "          const docLinkHtml = 'Like what you see? Visit the ' +\n",
              "            '<a target=\"_blank\" href=https://colab.research.google.com/notebooks/data_table.ipynb>data table notebook</a>'\n",
              "            + ' to learn more about interactive tables.';\n",
              "          element.innerHTML = '';\n",
              "          dataTable['output_type'] = 'display_data';\n",
              "          await google.colab.output.renderOutput(dataTable, element);\n",
              "          const docLink = document.createElement('div');\n",
              "          docLink.innerHTML = docLinkHtml;\n",
              "          element.appendChild(docLink);\n",
              "        }\n",
              "      </script>\n",
              "    </div>\n",
              "  </div>\n",
              "  "
            ]
          },
          "metadata": {},
          "execution_count": 26
        }
      ],
      "source": [
        "cars_new_updated"
      ]
    },
    {
      "cell_type": "code",
      "execution_count": 27,
      "metadata": {
        "id": "fdMplm9tpmj4"
      },
      "outputs": [],
      "source": [
        "cars_new_updated=cars_new_updated.loc[cars_new_updated['transmission']!='Other']"
      ]
    },
    {
      "cell_type": "code",
      "execution_count": 28,
      "metadata": {
        "id": "UEn2klTerwbW",
        "colab": {
          "base_uri": "https://localhost:8080/"
        },
        "outputId": "28da69d1-729d-4fd3-a42c-e6c3f17409f2"
      },
      "outputs": [
        {
          "output_type": "stream",
          "name": "stdout",
          "text": [
            "<class 'pandas.core.frame.DataFrame'>\n",
            "Int64Index: 101468 entries, 0 to 15156\n",
            "Data columns (total 11 columns):\n",
            " #   Column        Non-Null Count   Dtype  \n",
            "---  ------        --------------   -----  \n",
            " 0   Brands-model  101468 non-null  object \n",
            " 1   Brands        101468 non-null  object \n",
            " 2   model         101468 non-null  object \n",
            " 3   year          101468 non-null  int64  \n",
            " 4   price         101468 non-null  int64  \n",
            " 5   transmission  101468 non-null  object \n",
            " 6   mileage       101468 non-null  int64  \n",
            " 7   fuelType      101468 non-null  int64  \n",
            " 8   tax           101468 non-null  float64\n",
            " 9   mpg           101468 non-null  float64\n",
            " 10  engineSize    101468 non-null  float64\n",
            "dtypes: float64(3), int64(4), object(4)\n",
            "memory usage: 9.3+ MB\n"
          ]
        }
      ],
      "source": [
        "cars_new_updated.info()"
      ]
    },
    {
      "cell_type": "code",
      "execution_count": 29,
      "metadata": {
        "id": "i5dN_VCDrBNE",
        "colab": {
          "base_uri": "https://localhost:8080/",
          "height": 175
        },
        "outputId": "6a6fb980-a0a5-4f0c-909e-3533cce21cad"
      },
      "outputs": [
        {
          "output_type": "execute_result",
          "data": {
            "text/plain": [
              "             price   mileage  fuelType       tax\n",
              "price     1.000000 -0.431026  0.194344  0.309647\n",
              "mileage  -0.431026  1.000000  0.202716 -0.228630\n",
              "fuelType  0.194344  0.202716  1.000000 -0.180971\n",
              "tax       0.309647 -0.228630 -0.180971  1.000000"
            ],
            "text/html": [
              "\n",
              "  <div id=\"df-27cb05b3-1f64-4637-ad5a-35bca5fb614a\">\n",
              "    <div class=\"colab-df-container\">\n",
              "      <div>\n",
              "<style scoped>\n",
              "    .dataframe tbody tr th:only-of-type {\n",
              "        vertical-align: middle;\n",
              "    }\n",
              "\n",
              "    .dataframe tbody tr th {\n",
              "        vertical-align: top;\n",
              "    }\n",
              "\n",
              "    .dataframe thead th {\n",
              "        text-align: right;\n",
              "    }\n",
              "</style>\n",
              "<table border=\"1\" class=\"dataframe\">\n",
              "  <thead>\n",
              "    <tr style=\"text-align: right;\">\n",
              "      <th></th>\n",
              "      <th>price</th>\n",
              "      <th>mileage</th>\n",
              "      <th>fuelType</th>\n",
              "      <th>tax</th>\n",
              "    </tr>\n",
              "  </thead>\n",
              "  <tbody>\n",
              "    <tr>\n",
              "      <th>price</th>\n",
              "      <td>1.000000</td>\n",
              "      <td>-0.431026</td>\n",
              "      <td>0.194344</td>\n",
              "      <td>0.309647</td>\n",
              "    </tr>\n",
              "    <tr>\n",
              "      <th>mileage</th>\n",
              "      <td>-0.431026</td>\n",
              "      <td>1.000000</td>\n",
              "      <td>0.202716</td>\n",
              "      <td>-0.228630</td>\n",
              "    </tr>\n",
              "    <tr>\n",
              "      <th>fuelType</th>\n",
              "      <td>0.194344</td>\n",
              "      <td>0.202716</td>\n",
              "      <td>1.000000</td>\n",
              "      <td>-0.180971</td>\n",
              "    </tr>\n",
              "    <tr>\n",
              "      <th>tax</th>\n",
              "      <td>0.309647</td>\n",
              "      <td>-0.228630</td>\n",
              "      <td>-0.180971</td>\n",
              "      <td>1.000000</td>\n",
              "    </tr>\n",
              "  </tbody>\n",
              "</table>\n",
              "</div>\n",
              "      <button class=\"colab-df-convert\" onclick=\"convertToInteractive('df-27cb05b3-1f64-4637-ad5a-35bca5fb614a')\"\n",
              "              title=\"Convert this dataframe to an interactive table.\"\n",
              "              style=\"display:none;\">\n",
              "        \n",
              "  <svg xmlns=\"http://www.w3.org/2000/svg\" height=\"24px\"viewBox=\"0 0 24 24\"\n",
              "       width=\"24px\">\n",
              "    <path d=\"M0 0h24v24H0V0z\" fill=\"none\"/>\n",
              "    <path d=\"M18.56 5.44l.94 2.06.94-2.06 2.06-.94-2.06-.94-.94-2.06-.94 2.06-2.06.94zm-11 1L8.5 8.5l.94-2.06 2.06-.94-2.06-.94L8.5 2.5l-.94 2.06-2.06.94zm10 10l.94 2.06.94-2.06 2.06-.94-2.06-.94-.94-2.06-.94 2.06-2.06.94z\"/><path d=\"M17.41 7.96l-1.37-1.37c-.4-.4-.92-.59-1.43-.59-.52 0-1.04.2-1.43.59L10.3 9.45l-7.72 7.72c-.78.78-.78 2.05 0 2.83L4 21.41c.39.39.9.59 1.41.59.51 0 1.02-.2 1.41-.59l7.78-7.78 2.81-2.81c.8-.78.8-2.07 0-2.86zM5.41 20L4 18.59l7.72-7.72 1.47 1.35L5.41 20z\"/>\n",
              "  </svg>\n",
              "      </button>\n",
              "      \n",
              "  <style>\n",
              "    .colab-df-container {\n",
              "      display:flex;\n",
              "      flex-wrap:wrap;\n",
              "      gap: 12px;\n",
              "    }\n",
              "\n",
              "    .colab-df-convert {\n",
              "      background-color: #E8F0FE;\n",
              "      border: none;\n",
              "      border-radius: 50%;\n",
              "      cursor: pointer;\n",
              "      display: none;\n",
              "      fill: #1967D2;\n",
              "      height: 32px;\n",
              "      padding: 0 0 0 0;\n",
              "      width: 32px;\n",
              "    }\n",
              "\n",
              "    .colab-df-convert:hover {\n",
              "      background-color: #E2EBFA;\n",
              "      box-shadow: 0px 1px 2px rgba(60, 64, 67, 0.3), 0px 1px 3px 1px rgba(60, 64, 67, 0.15);\n",
              "      fill: #174EA6;\n",
              "    }\n",
              "\n",
              "    [theme=dark] .colab-df-convert {\n",
              "      background-color: #3B4455;\n",
              "      fill: #D2E3FC;\n",
              "    }\n",
              "\n",
              "    [theme=dark] .colab-df-convert:hover {\n",
              "      background-color: #434B5C;\n",
              "      box-shadow: 0px 1px 3px 1px rgba(0, 0, 0, 0.15);\n",
              "      filter: drop-shadow(0px 1px 2px rgba(0, 0, 0, 0.3));\n",
              "      fill: #FFFFFF;\n",
              "    }\n",
              "  </style>\n",
              "\n",
              "      <script>\n",
              "        const buttonEl =\n",
              "          document.querySelector('#df-27cb05b3-1f64-4637-ad5a-35bca5fb614a button.colab-df-convert');\n",
              "        buttonEl.style.display =\n",
              "          google.colab.kernel.accessAllowed ? 'block' : 'none';\n",
              "\n",
              "        async function convertToInteractive(key) {\n",
              "          const element = document.querySelector('#df-27cb05b3-1f64-4637-ad5a-35bca5fb614a');\n",
              "          const dataTable =\n",
              "            await google.colab.kernel.invokeFunction('convertToInteractive',\n",
              "                                                     [key], {});\n",
              "          if (!dataTable) return;\n",
              "\n",
              "          const docLinkHtml = 'Like what you see? Visit the ' +\n",
              "            '<a target=\"_blank\" href=https://colab.research.google.com/notebooks/data_table.ipynb>data table notebook</a>'\n",
              "            + ' to learn more about interactive tables.';\n",
              "          element.innerHTML = '';\n",
              "          dataTable['output_type'] = 'display_data';\n",
              "          await google.colab.output.renderOutput(dataTable, element);\n",
              "          const docLink = document.createElement('div');\n",
              "          docLink.innerHTML = docLinkHtml;\n",
              "          element.appendChild(docLink);\n",
              "        }\n",
              "      </script>\n",
              "    </div>\n",
              "  </div>\n",
              "  "
            ]
          },
          "metadata": {},
          "execution_count": 29
        }
      ],
      "source": [
        "cars_new1=cars_new_updated[['price','mileage','fuelType','tax','transmission']]\n",
        "cars_new1.corr(method='pearson', min_periods=0)"
      ]
    },
    {
      "cell_type": "code",
      "execution_count": 30,
      "metadata": {
        "id": "_bKeKKAVbFWP",
        "colab": {
          "base_uri": "https://localhost:8080/",
          "height": 300
        },
        "outputId": "2b8c6c39-0596-4d42-fff7-5f7aedbdf82d"
      },
      "outputs": [
        {
          "output_type": "execute_result",
          "data": {
            "text/plain": [
              "               price        mileage       fuelType            tax\n",
              "count  101468.000000  101468.000000  101468.000000  101468.000000\n",
              "mean    17058.038022   23284.808117       0.485434     119.663400\n",
              "std      9879.329750   21254.313240       0.567217      62.687901\n",
              "min       450.000000       1.000000       0.000000       0.000000\n",
              "25%     10299.000000    7669.000000       0.000000     125.000000\n",
              "50%     14800.000000   17506.000000       0.000000     145.000000\n",
              "75%     20998.000000   32523.250000       1.000000     145.000000\n",
              "max    159999.000000  323000.000000       4.000000     580.000000"
            ],
            "text/html": [
              "\n",
              "  <div id=\"df-fc14b67c-254b-4b26-a44e-6eb9e600e77e\">\n",
              "    <div class=\"colab-df-container\">\n",
              "      <div>\n",
              "<style scoped>\n",
              "    .dataframe tbody tr th:only-of-type {\n",
              "        vertical-align: middle;\n",
              "    }\n",
              "\n",
              "    .dataframe tbody tr th {\n",
              "        vertical-align: top;\n",
              "    }\n",
              "\n",
              "    .dataframe thead th {\n",
              "        text-align: right;\n",
              "    }\n",
              "</style>\n",
              "<table border=\"1\" class=\"dataframe\">\n",
              "  <thead>\n",
              "    <tr style=\"text-align: right;\">\n",
              "      <th></th>\n",
              "      <th>price</th>\n",
              "      <th>mileage</th>\n",
              "      <th>fuelType</th>\n",
              "      <th>tax</th>\n",
              "    </tr>\n",
              "  </thead>\n",
              "  <tbody>\n",
              "    <tr>\n",
              "      <th>count</th>\n",
              "      <td>101468.000000</td>\n",
              "      <td>101468.000000</td>\n",
              "      <td>101468.000000</td>\n",
              "      <td>101468.000000</td>\n",
              "    </tr>\n",
              "    <tr>\n",
              "      <th>mean</th>\n",
              "      <td>17058.038022</td>\n",
              "      <td>23284.808117</td>\n",
              "      <td>0.485434</td>\n",
              "      <td>119.663400</td>\n",
              "    </tr>\n",
              "    <tr>\n",
              "      <th>std</th>\n",
              "      <td>9879.329750</td>\n",
              "      <td>21254.313240</td>\n",
              "      <td>0.567217</td>\n",
              "      <td>62.687901</td>\n",
              "    </tr>\n",
              "    <tr>\n",
              "      <th>min</th>\n",
              "      <td>450.000000</td>\n",
              "      <td>1.000000</td>\n",
              "      <td>0.000000</td>\n",
              "      <td>0.000000</td>\n",
              "    </tr>\n",
              "    <tr>\n",
              "      <th>25%</th>\n",
              "      <td>10299.000000</td>\n",
              "      <td>7669.000000</td>\n",
              "      <td>0.000000</td>\n",
              "      <td>125.000000</td>\n",
              "    </tr>\n",
              "    <tr>\n",
              "      <th>50%</th>\n",
              "      <td>14800.000000</td>\n",
              "      <td>17506.000000</td>\n",
              "      <td>0.000000</td>\n",
              "      <td>145.000000</td>\n",
              "    </tr>\n",
              "    <tr>\n",
              "      <th>75%</th>\n",
              "      <td>20998.000000</td>\n",
              "      <td>32523.250000</td>\n",
              "      <td>1.000000</td>\n",
              "      <td>145.000000</td>\n",
              "    </tr>\n",
              "    <tr>\n",
              "      <th>max</th>\n",
              "      <td>159999.000000</td>\n",
              "      <td>323000.000000</td>\n",
              "      <td>4.000000</td>\n",
              "      <td>580.000000</td>\n",
              "    </tr>\n",
              "  </tbody>\n",
              "</table>\n",
              "</div>\n",
              "      <button class=\"colab-df-convert\" onclick=\"convertToInteractive('df-fc14b67c-254b-4b26-a44e-6eb9e600e77e')\"\n",
              "              title=\"Convert this dataframe to an interactive table.\"\n",
              "              style=\"display:none;\">\n",
              "        \n",
              "  <svg xmlns=\"http://www.w3.org/2000/svg\" height=\"24px\"viewBox=\"0 0 24 24\"\n",
              "       width=\"24px\">\n",
              "    <path d=\"M0 0h24v24H0V0z\" fill=\"none\"/>\n",
              "    <path d=\"M18.56 5.44l.94 2.06.94-2.06 2.06-.94-2.06-.94-.94-2.06-.94 2.06-2.06.94zm-11 1L8.5 8.5l.94-2.06 2.06-.94-2.06-.94L8.5 2.5l-.94 2.06-2.06.94zm10 10l.94 2.06.94-2.06 2.06-.94-2.06-.94-.94-2.06-.94 2.06-2.06.94z\"/><path d=\"M17.41 7.96l-1.37-1.37c-.4-.4-.92-.59-1.43-.59-.52 0-1.04.2-1.43.59L10.3 9.45l-7.72 7.72c-.78.78-.78 2.05 0 2.83L4 21.41c.39.39.9.59 1.41.59.51 0 1.02-.2 1.41-.59l7.78-7.78 2.81-2.81c.8-.78.8-2.07 0-2.86zM5.41 20L4 18.59l7.72-7.72 1.47 1.35L5.41 20z\"/>\n",
              "  </svg>\n",
              "      </button>\n",
              "      \n",
              "  <style>\n",
              "    .colab-df-container {\n",
              "      display:flex;\n",
              "      flex-wrap:wrap;\n",
              "      gap: 12px;\n",
              "    }\n",
              "\n",
              "    .colab-df-convert {\n",
              "      background-color: #E8F0FE;\n",
              "      border: none;\n",
              "      border-radius: 50%;\n",
              "      cursor: pointer;\n",
              "      display: none;\n",
              "      fill: #1967D2;\n",
              "      height: 32px;\n",
              "      padding: 0 0 0 0;\n",
              "      width: 32px;\n",
              "    }\n",
              "\n",
              "    .colab-df-convert:hover {\n",
              "      background-color: #E2EBFA;\n",
              "      box-shadow: 0px 1px 2px rgba(60, 64, 67, 0.3), 0px 1px 3px 1px rgba(60, 64, 67, 0.15);\n",
              "      fill: #174EA6;\n",
              "    }\n",
              "\n",
              "    [theme=dark] .colab-df-convert {\n",
              "      background-color: #3B4455;\n",
              "      fill: #D2E3FC;\n",
              "    }\n",
              "\n",
              "    [theme=dark] .colab-df-convert:hover {\n",
              "      background-color: #434B5C;\n",
              "      box-shadow: 0px 1px 3px 1px rgba(0, 0, 0, 0.15);\n",
              "      filter: drop-shadow(0px 1px 2px rgba(0, 0, 0, 0.3));\n",
              "      fill: #FFFFFF;\n",
              "    }\n",
              "  </style>\n",
              "\n",
              "      <script>\n",
              "        const buttonEl =\n",
              "          document.querySelector('#df-fc14b67c-254b-4b26-a44e-6eb9e600e77e button.colab-df-convert');\n",
              "        buttonEl.style.display =\n",
              "          google.colab.kernel.accessAllowed ? 'block' : 'none';\n",
              "\n",
              "        async function convertToInteractive(key) {\n",
              "          const element = document.querySelector('#df-fc14b67c-254b-4b26-a44e-6eb9e600e77e');\n",
              "          const dataTable =\n",
              "            await google.colab.kernel.invokeFunction('convertToInteractive',\n",
              "                                                     [key], {});\n",
              "          if (!dataTable) return;\n",
              "\n",
              "          const docLinkHtml = 'Like what you see? Visit the ' +\n",
              "            '<a target=\"_blank\" href=https://colab.research.google.com/notebooks/data_table.ipynb>data table notebook</a>'\n",
              "            + ' to learn more about interactive tables.';\n",
              "          element.innerHTML = '';\n",
              "          dataTable['output_type'] = 'display_data';\n",
              "          await google.colab.output.renderOutput(dataTable, element);\n",
              "          const docLink = document.createElement('div');\n",
              "          docLink.innerHTML = docLinkHtml;\n",
              "          element.appendChild(docLink);\n",
              "        }\n",
              "      </script>\n",
              "    </div>\n",
              "  </div>\n",
              "  "
            ]
          },
          "metadata": {},
          "execution_count": 30
        }
      ],
      "source": [
        "cars_new1.describe()"
      ]
    },
    {
      "cell_type": "code",
      "execution_count": 31,
      "metadata": {
        "id": "mCaTzFwY1sO3",
        "colab": {
          "base_uri": "https://localhost:8080/",
          "height": 568
        },
        "outputId": "c7049e9b-ce35-4707-fc28-c13891fdf626"
      },
      "outputs": [
        {
          "output_type": "execute_result",
          "data": {
            "text/plain": [
              "<matplotlib.axes._subplots.AxesSubplot at 0x7f134405d990>"
            ]
          },
          "metadata": {},
          "execution_count": 31
        },
        {
          "output_type": "display_data",
          "data": {
            "text/plain": [
              "<Figure size 864x648 with 1 Axes>"
            ],
            "image/png": "[encoded data removed]"
          },
          "metadata": {
            "needs_background": "light"
          }
        }
      ],
      "source": [
        "#sns.boxplot(x=cars_new1['mileage'])\n",
        "plt.figure(figsize=(12,9))\n",
        "sns.boxplot(data=cars_new_updated,x='transmission',y='price',hue='fuelType')"
      ]
    },
    {
      "cell_type": "code",
      "execution_count": 32,
      "metadata": {
        "id": "qEPKSLDZ2Pjc",
        "colab": {
          "base_uri": "https://localhost:8080/",
          "height": 296
        },
        "outputId": "e53b8da0-4083-4fa7-aa33-299f5ce8dcb5"
      },
      "outputs": [
        {
          "output_type": "execute_result",
          "data": {
            "text/plain": [
              "<matplotlib.axes._subplots.AxesSubplot at 0x7f1343953bd0>"
            ]
          },
          "metadata": {},
          "execution_count": 32
        },
        {
          "output_type": "display_data",
          "data": {
            "text/plain": [
              "<Figure size 432x288 with 1 Axes>"
            ],
            "image/png": "[encoded data removed]"
          },
          "metadata": {
            "needs_background": "light"
          }
        }
      ],
      "source": [
        "sns.boxplot(x=cars_new1['tax'])"
      ]
    },
    {
      "cell_type": "code",
      "execution_count": 33,
      "metadata": {
        "id": "PC3xypze-dbM"
      },
      "outputs": [],
      "source": [
        "percentile25 = cars_new1['tax'].quantile(0.25)\n",
        "percentile75 = cars_new1['tax'].quantile(0.75)"
      ]
    },
    {
      "cell_type": "code",
      "execution_count": 34,
      "metadata": {
        "id": "tgECSk6n_Acx"
      },
      "outputs": [],
      "source": [
        "iqr = percentile75 - percentile25"
      ]
    },
    {
      "cell_type": "code",
      "execution_count": 35,
      "metadata": {
        "id": "50axk-m3-5XI"
      },
      "outputs": [],
      "source": [
        "upper_limit = percentile75 + 1.5 * iqr\n",
        "lower_limit = percentile25 - 1.5 * iqr"
      ]
    },
    {
      "cell_type": "code",
      "execution_count": 36,
      "metadata": {
        "id": "wZLbutjc_J8q",
        "colab": {
          "base_uri": "https://localhost:8080/",
          "height": 423
        },
        "outputId": "93bc1bce-043a-4e68-d3d1-6bbf39824b1d"
      },
      "outputs": [
        {
          "output_type": "execute_result",
          "data": {
            "text/plain": [
              "       price  mileage  fuelType   tax transmission\n",
              "1      16500    36203         1  20.0            1\n",
              "2      11000    29946         0  30.0            0\n",
              "5      13900    32260         0  30.0            1\n",
              "6      13250    76788         1  30.0            1\n",
              "7      11750    75185         1  20.0            0\n",
              "...      ...      ...       ...   ...          ...\n",
              "15094   7995    58000         1  30.0            0\n",
              "15096   9301    61119         1  30.0            0\n",
              "15102   9450    56241         1  30.0            0\n",
              "15106  13000    19000         1  30.0            0\n",
              "15110   6695    98000         1  30.0            0\n",
              "\n",
              "[24454 rows x 5 columns]"
            ],
            "text/html": [
              "\n",
              "  <div id=\"df-2cf80081-a3bc-40ee-9847-b4426d3597fd\">\n",
              "    <div class=\"colab-df-container\">\n",
              "      <div>\n",
              "<style scoped>\n",
              "    .dataframe tbody tr th:only-of-type {\n",
              "        vertical-align: middle;\n",
              "    }\n",
              "\n",
              "    .dataframe tbody tr th {\n",
              "        vertical-align: top;\n",
              "    }\n",
              "\n",
              "    .dataframe thead th {\n",
              "        text-align: right;\n",
              "    }\n",
              "</style>\n",
              "<table border=\"1\" class=\"dataframe\">\n",
              "  <thead>\n",
              "    <tr style=\"text-align: right;\">\n",
              "      <th></th>\n",
              "      <th>price</th>\n",
              "      <th>mileage</th>\n",
              "      <th>fuelType</th>\n",
              "      <th>tax</th>\n",
              "      <th>transmission</th>\n",
              "    </tr>\n",
              "  </thead>\n",
              "  <tbody>\n",
              "    <tr>\n",
              "      <th>1</th>\n",
              "      <td>16500</td>\n",
              "      <td>36203</td>\n",
              "      <td>1</td>\n",
              "      <td>20.0</td>\n",
              "      <td>1</td>\n",
              "    </tr>\n",
              "    <tr>\n",
              "      <th>2</th>\n",
              "      <td>11000</td>\n",
              "      <td>29946</td>\n",
              "      <td>0</td>\n",
              "      <td>30.0</td>\n",
              "      <td>0</td>\n",
              "    </tr>\n",
              "    <tr>\n",
              "      <th>5</th>\n",
              "      <td>13900</td>\n",
              "      <td>32260</td>\n",
              "      <td>0</td>\n",
              "      <td>30.0</td>\n",
              "      <td>1</td>\n",
              "    </tr>\n",
              "    <tr>\n",
              "      <th>6</th>\n",
              "      <td>13250</td>\n",
              "      <td>76788</td>\n",
              "      <td>1</td>\n",
              "      <td>30.0</td>\n",
              "      <td>1</td>\n",
              "    </tr>\n",
              "    <tr>\n",
              "      <th>7</th>\n",
              "      <td>11750</td>\n",
              "      <td>75185</td>\n",
              "      <td>1</td>\n",
              "      <td>20.0</td>\n",
              "      <td>0</td>\n",
              "    </tr>\n",
              "    <tr>\n",
              "      <th>...</th>\n",
              "      <td>...</td>\n",
              "      <td>...</td>\n",
              "      <td>...</td>\n",
              "      <td>...</td>\n",
              "      <td>...</td>\n",
              "    </tr>\n",
              "    <tr>\n",
              "      <th>15094</th>\n",
              "      <td>7995</td>\n",
              "      <td>58000</td>\n",
              "      <td>1</td>\n",
              "      <td>30.0</td>\n",
              "      <td>0</td>\n",
              "    </tr>\n",
              "    <tr>\n",
              "      <th>15096</th>\n",
              "      <td>9301</td>\n",
              "      <td>61119</td>\n",
              "      <td>1</td>\n",
              "      <td>30.0</td>\n",
              "      <td>0</td>\n",
              "    </tr>\n",
              "    <tr>\n",
              "      <th>15102</th>\n",
              "      <td>9450</td>\n",
              "      <td>56241</td>\n",
              "      <td>1</td>\n",
              "      <td>30.0</td>\n",
              "      <td>0</td>\n",
              "    </tr>\n",
              "    <tr>\n",
              "      <th>15106</th>\n",
              "      <td>13000</td>\n",
              "      <td>19000</td>\n",
              "      <td>1</td>\n",
              "      <td>30.0</td>\n",
              "      <td>0</td>\n",
              "    </tr>\n",
              "    <tr>\n",
              "      <th>15110</th>\n",
              "      <td>6695</td>\n",
              "      <td>98000</td>\n",
              "      <td>1</td>\n",
              "      <td>30.0</td>\n",
              "      <td>0</td>\n",
              "    </tr>\n",
              "  </tbody>\n",
              "</table>\n",
              "<p>24454 rows × 5 columns</p>\n",
              "</div>\n",
              "      <button class=\"colab-df-convert\" onclick=\"convertToInteractive('df-2cf80081-a3bc-40ee-9847-b4426d3597fd')\"\n",
              "              title=\"Convert this dataframe to an interactive table.\"\n",
              "              style=\"display:none;\">\n",
              "        \n",
              "  <svg xmlns=\"http://www.w3.org/2000/svg\" height=\"24px\"viewBox=\"0 0 24 24\"\n",
              "       width=\"24px\">\n",
              "    <path d=\"M0 0h24v24H0V0z\" fill=\"none\"/>\n",
              "    <path d=\"M18.56 5.44l.94 2.06.94-2.06 2.06-.94-2.06-.94-.94-2.06-.94 2.06-2.06.94zm-11 1L8.5 8.5l.94-2.06 2.06-.94-2.06-.94L8.5 2.5l-.94 2.06-2.06.94zm10 10l.94 2.06.94-2.06 2.06-.94-2.06-.94-.94-2.06-.94 2.06-2.06.94z\"/><path d=\"M17.41 7.96l-1.37-1.37c-.4-.4-.92-.59-1.43-.59-.52 0-1.04.2-1.43.59L10.3 9.45l-7.72 7.72c-.78.78-.78 2.05 0 2.83L4 21.41c.39.39.9.59 1.41.59.51 0 1.02-.2 1.41-.59l7.78-7.78 2.81-2.81c.8-.78.8-2.07 0-2.86zM5.41 20L4 18.59l7.72-7.72 1.47 1.35L5.41 20z\"/>\n",
              "  </svg>\n",
              "      </button>\n",
              "      \n",
              "  <style>\n",
              "    .colab-df-container {\n",
              "      display:flex;\n",
              "      flex-wrap:wrap;\n",
              "      gap: 12px;\n",
              "    }\n",
              "\n",
              "    .colab-df-convert {\n",
              "      background-color: #E8F0FE;\n",
              "      border: none;\n",
              "      border-radius: 50%;\n",
              "      cursor: pointer;\n",
              "      display: none;\n",
              "      fill: #1967D2;\n",
              "      height: 32px;\n",
              "      padding: 0 0 0 0;\n",
              "      width: 32px;\n",
              "    }\n",
              "\n",
              "    .colab-df-convert:hover {\n",
              "      background-color: #E2EBFA;\n",
              "      box-shadow: 0px 1px 2px rgba(60, 64, 67, 0.3), 0px 1px 3px 1px rgba(60, 64, 67, 0.15);\n",
              "      fill: #174EA6;\n",
              "    }\n",
              "\n",
              "    [theme=dark] .colab-df-convert {\n",
              "      background-color: #3B4455;\n",
              "      fill: #D2E3FC;\n",
              "    }\n",
              "\n",
              "    [theme=dark] .colab-df-convert:hover {\n",
              "      background-color: #434B5C;\n",
              "      box-shadow: 0px 1px 3px 1px rgba(0, 0, 0, 0.15);\n",
              "      filter: drop-shadow(0px 1px 2px rgba(0, 0, 0, 0.3));\n",
              "      fill: #FFFFFF;\n",
              "    }\n",
              "  </style>\n",
              "\n",
              "      <script>\n",
              "        const buttonEl =\n",
              "          document.querySelector('#df-2cf80081-a3bc-40ee-9847-b4426d3597fd button.colab-df-convert');\n",
              "        buttonEl.style.display =\n",
              "          google.colab.kernel.accessAllowed ? 'block' : 'none';\n",
              "\n",
              "        async function convertToInteractive(key) {\n",
              "          const element = document.querySelector('#df-2cf80081-a3bc-40ee-9847-b4426d3597fd');\n",
              "          const dataTable =\n",
              "            await google.colab.kernel.invokeFunction('convertToInteractive',\n",
              "                                                     [key], {});\n",
              "          if (!dataTable) return;\n",
              "\n",
              "          const docLinkHtml = 'Like what you see? Visit the ' +\n",
              "            '<a target=\"_blank\" href=https://colab.research.google.com/notebooks/data_table.ipynb>data table notebook</a>'\n",
              "            + ' to learn more about interactive tables.';\n",
              "          element.innerHTML = '';\n",
              "          dataTable['output_type'] = 'display_data';\n",
              "          await google.colab.output.renderOutput(dataTable, element);\n",
              "          const docLink = document.createElement('div');\n",
              "          docLink.innerHTML = docLinkHtml;\n",
              "          element.appendChild(docLink);\n",
              "        }\n",
              "      </script>\n",
              "    </div>\n",
              "  </div>\n",
              "  "
            ]
          },
          "metadata": {},
          "execution_count": 36
        }
      ],
      "source": [
        "cars_new1[cars_new1['tax'] > upper_limit]\n",
        "cars_new1[cars_new1['tax'] < lower_limit]"
      ]
    },
    {
      "cell_type": "code",
      "execution_count": 37,
      "metadata": {
        "id": "lF0HOwFE_xeL",
        "colab": {
          "base_uri": "https://localhost:8080/"
        },
        "outputId": "ca5e8a9b-71b8-408a-afeb-dbf07f918c99"
      },
      "outputs": [
        {
          "output_type": "execute_result",
          "data": {
            "text/plain": [
              "(95810, 5)"
            ]
          },
          "metadata": {},
          "execution_count": 37
        }
      ],
      "source": [
        "box_cars = cars_new1[cars_new1['tax'] < upper_limit]\n",
        "box_cars.shape"
      ]
    },
    {
      "cell_type": "code",
      "execution_count": 38,
      "metadata": {
        "id": "rU6lj3lLA4Zk",
        "colab": {
          "base_uri": "https://localhost:8080/",
          "height": 656
        },
        "outputId": "baf4f65a-3062-4201-d09d-1b7a869951cc"
      },
      "outputs": [
        {
          "output_type": "stream",
          "name": "stderr",
          "text": [
            "/usr/local/lib/python3.7/dist-packages/seaborn/distributions.py:2619: FutureWarning: `distplot` is a deprecated function and will be removed in a future version. Please adapt your code to use either `displot` (a figure-level function with similar flexibility) or `histplot` (an axes-level function for histograms).\n",
            "  warnings.warn(msg, FutureWarning)\n",
            "/usr/local/lib/python3.7/dist-packages/seaborn/_decorators.py:43: FutureWarning: Pass the following variable as a keyword arg: x. From version 0.12, the only valid positional argument will be `data`, and passing other arguments without an explicit keyword will result in an error or misinterpretation.\n",
            "  FutureWarning\n",
            "/usr/local/lib/python3.7/dist-packages/seaborn/distributions.py:2619: FutureWarning: `distplot` is a deprecated function and will be removed in a future version. Please adapt your code to use either `displot` (a figure-level function with similar flexibility) or `histplot` (an axes-level function for histograms).\n",
            "  warnings.warn(msg, FutureWarning)\n",
            "/usr/local/lib/python3.7/dist-packages/seaborn/_decorators.py:43: FutureWarning: Pass the following variable as a keyword arg: x. From version 0.12, the only valid positional argument will be `data`, and passing other arguments without an explicit keyword will result in an error or misinterpretation.\n",
            "  FutureWarning\n"
          ]
        },
        {
          "output_type": "display_data",
          "data": {
            "text/plain": [
              "<Figure size 1152x576 with 4 Axes>"
            ],
            "image/png": "[encoded data removed]"
          },
          "metadata": {
            "needs_background": "light"
          }
        }
      ],
      "source": [
        "plt.figure(figsize=(16,8))\n",
        "plt.subplot(2,2,1)\n",
        "sns.distplot(cars_new1['tax'])\n",
        "plt.subplot(2,2,2)\n",
        "sns.boxplot(cars_new1['tax'])\n",
        "plt.subplot(2,2,3)\n",
        "sns.distplot(box_cars['tax'])\n",
        "plt.subplot(2,2,4)\n",
        "sns.boxplot(box_cars['tax'])\n",
        "plt.show()"
      ]
    },
    {
      "cell_type": "code",
      "execution_count": 39,
      "metadata": {
        "colab": {
          "base_uri": "https://localhost:8080/",
          "height": 903
        },
        "id": "H_GYrNJz0ZKz",
        "outputId": "d16bf4e4-dc2c-4316-b736-ac5c1e62f060"
      },
      "outputs": [
        {
          "output_type": "display_data",
          "data": {
            "text/plain": [
              "<Figure size 900x900 with 30 Axes>"
            ],
            "image/png": "[encoded data removed]"
          },
          "metadata": {
            "needs_background": "light"
          }
        }
      ],
      "source": [
        "# Pairplot to find out the relation between variables \n",
        "cars_new2=cars_new1[['price','transmission','mileage','fuelType','tax']]\n",
        "cars_new2.reset_index(level=0, inplace=True)\n",
        "sns.pairplot(cars_new2[['price','transmission','mileage','fuelType','tax']])\n",
        "plt.show()"
      ]
    },
    {
      "cell_type": "code",
      "execution_count": 40,
      "metadata": {
        "colab": {
          "base_uri": "https://localhost:8080/",
          "height": 537
        },
        "id": "kG0IGtQIpZYb",
        "outputId": "d5651f02-100f-4750-a227-3d97930625f3"
      },
      "outputs": [
        {
          "output_type": "execute_result",
          "data": {
            "text/plain": [
              "Text(0, 0.5, 'Count')"
            ]
          },
          "metadata": {},
          "execution_count": 40
        },
        {
          "output_type": "display_data",
          "data": {
            "text/plain": [
              "<Figure size 1080x576 with 1 Axes>"
            ],
            "image/png": "[encoded data removed]"
          },
          "metadata": {
            "needs_background": "light"
          }
        }
      ],
      "source": [
        "#To check the most popular car \n",
        "plt.figure(figsize=(15,8))\n",
        "count_of_model = cars_new_updated['Brands'].value_counts().sort_values(ascending=False)\n",
        "sns.countplot(data=cars_new_updated, x='Brands',order=count_of_model.index,palette=\"mako\")\n",
        "plt.title('Most Used Car Brand ',size=15)\n",
        "plt.xlabel('Brands',size=15)\n",
        "plt.ylabel('Count',size=15)"
      ]
    },
    {
      "cell_type": "code",
      "execution_count": 41,
      "metadata": {
        "colab": {
          "base_uri": "https://localhost:8080/",
          "height": 537
        },
        "id": "C-kVxdmBBzQi",
        "outputId": "6f0466f1-db23-4046-9aa0-b0f8311f5dc4"
      },
      "outputs": [
        {
          "output_type": "execute_result",
          "data": {
            "text/plain": [
              "Text(0, 0.5, 'Count')"
            ]
          },
          "metadata": {},
          "execution_count": 41
        },
        {
          "output_type": "display_data",
          "data": {
            "text/plain": [
              "<Figure size 1080x576 with 1 Axes>"
            ],
            "image/png": "[encoded data removed]"
          },
          "metadata": {
            "needs_background": "light"
          }
        }
      ],
      "source": [
        "plt.figure(figsize=(15,8))\n",
        "count_of_model = cars_new_updated['year'].value_counts().sort_values(ascending=False)\n",
        "sns.countplot(data=cars_new_updated, x='year',order=count_of_model.index,palette=\"mako\")\n",
        "plt.title('Most Used Car Brand ',size=15)\n",
        "plt.xlabel('year',size=15)\n",
        "plt.ylabel('Count',size=15)"
      ]
    },
    {
      "cell_type": "code",
      "execution_count": 42,
      "metadata": {
        "colab": {
          "base_uri": "https://localhost:8080/",
          "height": 951
        },
        "id": "NA1cgBrrgxsO",
        "outputId": "04bf6a0a-3d9c-4ef3-e85e-da6620628411"
      },
      "outputs": [
        {
          "output_type": "display_data",
          "data": {
            "text/plain": [
              "<Figure size 1440x1152 with 3 Axes>"
            ],
            "image/png": "[encoded data removed]"
          },
          "metadata": {
            "needs_background": "light"
          }
        }
      ],
      "source": [
        "plt.figure(figsize=(20,16))\n",
        "plt.subplot(2,2,1)\n",
        "cars_new_updated.groupby('transmission').price.sum().plot(kind='bar')\n",
        "plt.title('Highest Price of cars',size=15)\n",
        "plt.xlabel('transmission',size=15)\n",
        "plt.ylabel('Price',size=15)\n",
        "plt.subplot(2,2,2)\n",
        "cars_new_updated.groupby('Brands').price.sum().plot(kind='bar')\n",
        "plt.title('Highest Price of cars',size=15)\n",
        "plt.xlabel('Brands',size=15)\n",
        "plt.ylabel('Price',size=15)\n",
        "plt.subplot(2,2,3)\n",
        "cars_new_updated.groupby('fuelType').price.sum().plot(kind='bar')\n",
        "plt.title('Highest Price of cars',size=15)\n",
        "plt.xlabel('fuelType',size=15)\n",
        "plt.ylabel('Price',size=15)\n",
        "plt.show()"
      ]
    },
    {
      "cell_type": "code",
      "execution_count": 43,
      "metadata": {
        "colab": {
          "base_uri": "https://localhost:8080/",
          "height": 535
        },
        "id": "WLqc8ZII9heU",
        "outputId": "cc8eaf3d-fd7f-48b4-aa76-f6ad20ba7c7d"
      },
      "outputs": [
        {
          "output_type": "display_data",
          "data": {
            "text/plain": [
              "<Figure size 1152x576 with 2 Axes>"
            ],
            "image/png": "[encoded data removed]"
          },
          "metadata": {
            "needs_background": "light"
          }
        }
      ],
      "source": [
        "plt.figure(figsize=(16,8))\n",
        "plt.subplot(1,2,1)\n",
        "cars_new_updated.groupby('year').price.sum().plot(kind='bar')\n",
        "plt.title('Highest Price of cars',size=15)\n",
        "plt.xlabel('year',size=15)\n",
        "plt.ylabel('Price',size=15)\n",
        "plt.subplot(1,2,2)\n",
        "cars_new_updated.groupby('year').price.count().plot(kind='bar')\n",
        "plt.title('Highest count of cars',size=15)\n",
        "plt.xlabel('year',size=15)\n",
        "plt.ylabel('Price',size=15)\n",
        "plt.show()"
      ]
    },
    {
      "cell_type": "code",
      "execution_count": 44,
      "metadata": {
        "colab": {
          "base_uri": "https://localhost:8080/",
          "height": 537
        },
        "id": "nweGzMsBrpQv",
        "outputId": "8e9696c1-43af-4267-c770-7ab888f7b40c"
      },
      "outputs": [
        {
          "output_type": "execute_result",
          "data": {
            "text/plain": [
              "Text(0, 0.5, 'Count')"
            ]
          },
          "metadata": {},
          "execution_count": 44
        },
        {
          "output_type": "display_data",
          "data": {
            "text/plain": [
              "<Figure size 1080x576 with 1 Axes>"
            ],
            "image/png": "[encoded data removed]"
          },
          "metadata": {
            "needs_background": "light"
          }
        }
      ],
      "source": [
        "plt.figure(figsize=(15,8))\n",
        "count_of_model = cars_new_updated['fuelType'].value_counts().sort_values(ascending=False)\n",
        "sns.countplot(data=cars_new_updated, x='fuelType',order=count_of_model.index,palette=\"mako\")\n",
        "plt.title('Mostly used FuelType',size=15)\n",
        "plt.xlabel('fuelType',size=15)\n",
        "plt.ylabel('Count',size=15)"
      ]
    },
    {
      "cell_type": "code",
      "execution_count": 45,
      "metadata": {
        "colab": {
          "base_uri": "https://localhost:8080/",
          "height": 558
        },
        "id": "MyjbUKTPwH4-",
        "outputId": "038ca669-3fb7-4624-bd22-263d95172e4d"
      },
      "outputs": [
        {
          "output_type": "execute_result",
          "data": {
            "text/plain": [
              "<matplotlib.axes._subplots.AxesSubplot at 0x7f133ebef5d0>"
            ]
          },
          "metadata": {},
          "execution_count": 45
        },
        {
          "output_type": "display_data",
          "data": {
            "text/plain": [
              "<Figure size 648x648 with 2 Axes>"
            ],
            "image/png": "[encoded data removed]"
          },
          "metadata": {
            "needs_background": "light"
          }
        }
      ],
      "source": [
        "plt.figure(figsize=(9,9))\n",
        "sns.heatmap(cars_new1.corr(),annot = True, cmap=\"coolwarm\")"
      ]
    },
    {
      "cell_type": "code",
      "execution_count": 46,
      "metadata": {
        "colab": {
          "base_uri": "https://localhost:8080/",
          "height": 542
        },
        "id": "g4XdbEsu3ljA",
        "outputId": "bedae9b6-aaf5-445b-b0ed-3d565f99a571"
      },
      "outputs": [
        {
          "output_type": "display_data",
          "data": {
            "text/html": [
              "<html>\n",
              "<head><meta charset=\"utf-8\" /></head>\n",
              "<body>\n",
              "    <div>            <script src=\"https://cdnjs.cloudflare.com/ajax/libs/mathjax/2.7.5/MathJax.js?config=TeX-AMS-MML_SVG\"></script><script type=\"text/javascript\">if (window.MathJax) {MathJax.Hub.Config({SVG: {font: \"STIX-Web\"}});}</script>                <script type=\"text/javascript\">window.PlotlyConfig = {MathJaxConfig: 'local'};</script>\n",
              "        <script src=\"https://cdn.plot.ly/plotly-2.8.3.min.js\"></script>                <div id=\"db3ad58b-5e8b-4cdf-9c48-ca446460a3cb\" class=\"plotly-graph-div\" style=\"height:525px; width:100%;\"></div>            <script type=\"text/javascript\">                                    window.PLOTLYENV=window.PLOTLYENV || {};                                    if (document.getElementById(\"db3ad58b-5e8b-4cdf-9c48-ca446460a3cb\")) {                    Plotly.newPlot(                        \"db3ad58b-5e8b-4cdf-9c48-ca446460a3cb\",                        [{\"branchvalues\":\"total\",\"domain\":{\"x\":[0.0,1.0],\"y\":[0.0,1.0]},\"hovertemplate\":\"labels=%{label}<br>price=%{value}<br>parent=%{parent}<br>id=%{id}<extra></extra>\",\"ids\":[\"all/BMW/ 1 Series\",\"all/BMW/ 2 Series\",\"all/BMW/ 3 Series\",\"all/BMW/ 4 Series\",\"all/BMW/ 5 Series\",\"all/BMW/ 6 Series\",\"all/BMW/ 7 Series\",\"all/BMW/ 8 Series\",\"all/MERC/ A Class\",\"all/AUDI/ A1\",\"all/AUDI/ A2\",\"all/AUDI/ A3\",\"all/AUDI/ A4\",\"all/AUDI/ A5\",\"all/AUDI/ A6\",\"all/AUDI/ A7\",\"all/AUDI/ A8\",\"all/VAUXHALL/ Adam\",\"all/VAUXHALL/ Agila\",\"all/VW/ Amarok\",\"all/VAUXHALL/ Ampera\",\"all/VAUXHALL/ Antara\",\"all/VW/ Arteon\",\"all/VAUXHALL/ Astra\",\"all/TOYOTA/ Auris\",\"all/TOYOTA/ Avensis\",\"all/TOYOTA/ Aygo\",\"all/MERC/ B Class\",\"all/FORD/ B-MAX\",\"all/VW/ Beetle\",\"all/CCLASS/ C Class\",\"all/MERC/ C Class\",\"all/TOYOTA/ C-HR\",\"all/FORD/ C-MAX\",\"all/VW/ CC\",\"all/MERC/ CL Class\",\"all/MERC/ CLA Class\",\"all/MERC/ CLC Class\",\"all/MERC/ CLK\",\"all/MERC/ CLS Class\",\"all/VW/ Caddy\",\"all/VW/ Caddy Life\",\"all/VW/ Caddy Maxi\",\"all/VW/ Caddy Maxi Life\",\"all/VW/ California\",\"all/TOYOTA/ Camry\",\"all/VW/ Caravelle\",\"all/VAUXHALL/ Cascada\",\"all/SKODA/ Citigo\",\"all/VAUXHALL/ Combo Life\",\"all/TOYOTA/ Corolla\",\"all/VAUXHALL/ Corsa\",\"all/VAUXHALL/ Crossland X\",\"all/MERC/ E Class\",\"all/FORD/ EcoSport\",\"all/FORD/ Edge\",\"all/VW/ Eos\",\"all/FORD/ Escort\",\"all/SKODA/ Fabia\",\"all/FORD/ Fiesta\",\"all/FOCUS/ Focus\",\"all/FORD/ Focus\",\"all/VW/ Fox\",\"all/FORD/ Fusion\",\"all/MERC/ G Class\",\"all/MERC/ GL Class\",\"all/MERC/ GLA Class\",\"all/MERC/ GLB Class\",\"all/MERC/ GLC Class\",\"all/MERC/ GLE Class\",\"all/MERC/ GLS Class\",\"all/TOYOTA/ GT86\",\"all/VAUXHALL/ GTC\",\"all/FORD/ Galaxy\",\"all/VW/ Golf\",\"all/VW/ Golf SV\",\"all/FORD/ Grand C-MAX\",\"all/FORD/ Grand Tourneo Connect\",\"all/VAUXHALL/ Grandland X\",\"all/TOYOTA/ Hilux\",\"all/TOYOTA/ IQ\",\"all/VAUXHALL/ Insignia\",\"all/VW/ Jetta\",\"all/FORD/ KA\",\"all/FORD/ Ka+\",\"all/VAUXHALL/ Kadjar\",\"all/SKODA/ Kamiq\",\"all/SKODA/ Karoq\",\"all/SKODA/ Kodiaq\",\"all/FORD/ Kuga\",\"all/TOYOTA/ Land Cruiser\",\"all/MERC/ M Class\",\"all/BMW/ M2\",\"all/BMW/ M3\",\"all/BMW/ M4\",\"all/BMW/ M5\",\"all/BMW/ M6\",\"all/VAUXHALL/ Meriva\",\"all/VAUXHALL/ Mokka\",\"all/VAUXHALL/ Mokka X\",\"all/FORD/ Mondeo\",\"all/FORD/ Mustang\",\"all/SKODA/ Octavia\",\"all/TOYOTA/ PROACE VERSO\",\"all/VW/ Passat\",\"all/VW/ Polo\",\"all/TOYOTA/ Prius\",\"all/FORD/ Puma\",\"all/AUDI/ Q2\",\"all/AUDI/ Q3\",\"all/AUDI/ Q5\",\"all/AUDI/ Q7\",\"all/AUDI/ Q8\",\"all/MERC/ R Class\",\"all/AUDI/ R8\",\"all/TOYOTA/ RAV4\",\"all/AUDI/ RS3\",\"all/AUDI/ RS4\",\"all/AUDI/ RS5\",\"all/AUDI/ RS6\",\"all/AUDI/ RS7\",\"all/FORD/ Ranger\",\"all/SKODA/ Rapid\",\"all/SKODA/ Roomster\",\"all/MERC/ S Class\",\"all/FORD/ S-MAX\",\"all/AUDI/ S3\",\"all/AUDI/ S4\",\"all/AUDI/ S5\",\"all/AUDI/ S8\",\"all/MERC/ SL CLASS\",\"all/MERC/ SLK\",\"all/AUDI/ SQ5\",\"all/AUDI/ SQ7\",\"all/SKODA/ Scala\",\"all/VW/ Scirocco\",\"all/VW/ Sharan\",\"all/VW/ Shuttle\",\"all/FORD/ Streetka\",\"all/SKODA/ Superb\",\"all/TOYOTA/ Supra\",\"all/VW/ T-Cross\",\"all/VW/ T-Roc\",\"all/AUDI/ TT\",\"all/VAUXHALL/ Tigra\",\"all/VW/ Tiguan\",\"all/VW/ Tiguan Allspace\",\"all/VW/ Touareg\",\"all/VW/ Touran\",\"all/FORD/ Tourneo Connect\",\"all/FORD/ Tourneo Custom\",\"all/FORD/ Transit Tourneo\",\"all/VW/ Up\",\"all/TOYOTA/ Urban Cruiser\",\"all/MERC/ V Class\",\"all/VAUXHALL/ Vectra\",\"all/TOYOTA/ Verso\",\"all/TOYOTA/ Verso-S\",\"all/VAUXHALL/ Viva\",\"all/VAUXHALL/ Vivaro\",\"all/MERC/ X-CLASS\",\"all/BMW/ X1\",\"all/BMW/ X2\",\"all/BMW/ X3\",\"all/BMW/ X4\",\"all/BMW/ X5\",\"all/BMW/ X6\",\"all/BMW/ X7\",\"all/TOYOTA/ Yaris\",\"all/SKODA/ Yeti\",\"all/SKODA/ Yeti Outdoor\",\"all/BMW/ Z3\",\"all/BMW/ Z4\",\"all/VAUXHALL/ Zafira\",\"all/VAUXHALL/ Zafira Tourer\",\"all/BMW/ i3\",\"all/BMW/ i8\",\"all/MERC/180\",\"all/MERC/200\",\"all/MERC/220\",\"all/MERC/230\",\"all/AUDI\",\"all/BMW\",\"all/CCLASS\",\"all/FOCUS\",\"all/FORD\",\"all/MERC\",\"all/SKODA\",\"all/TOYOTA\",\"all/VAUXHALL\",\"all/VW\",\"all\"],\"labels\":[\" 1 Series\",\" 2 Series\",\" 3 Series\",\" 4 Series\",\" 5 Series\",\" 6 Series\",\" 7 Series\",\" 8 Series\",\" A Class\",\" A1\",\" A2\",\" A3\",\" A4\",\" A5\",\" A6\",\" A7\",\" A8\",\" Adam\",\" Agila\",\" Amarok\",\" Ampera\",\" Antara\",\" Arteon\",\" Astra\",\" Auris\",\" Avensis\",\" Aygo\",\" B Class\",\" B-MAX\",\" Beetle\",\" C Class\",\" C Class\",\" C-HR\",\" C-MAX\",\" CC\",\" CL Class\",\" CLA Class\",\" CLC Class\",\" CLK\",\" CLS Class\",\" Caddy\",\" Caddy Life\",\" Caddy Maxi\",\" Caddy Maxi Life\",\" California\",\" Camry\",\" Caravelle\",\" Cascada\",\" Citigo\",\" Combo Life\",\" Corolla\",\" Corsa\",\" Crossland X\",\" E Class\",\" EcoSport\",\" Edge\",\" Eos\",\" Escort\",\" Fabia\",\" Fiesta\",\" Focus\",\" Focus\",\" Fox\",\" Fusion\",\" G Class\",\" GL Class\",\" GLA Class\",\" GLB Class\",\" GLC Class\",\" GLE Class\",\" GLS Class\",\" GT86\",\" GTC\",\" Galaxy\",\" Golf\",\" Golf SV\",\" Grand C-MAX\",\" Grand Tourneo Connect\",\" Grandland X\",\" Hilux\",\" IQ\",\" Insignia\",\" Jetta\",\" KA\",\" Ka+\",\" Kadjar\",\" Kamiq\",\" Karoq\",\" Kodiaq\",\" Kuga\",\" Land Cruiser\",\" M Class\",\" M2\",\" M3\",\" M4\",\" M5\",\" M6\",\" Meriva\",\" Mokka\",\" Mokka X\",\" Mondeo\",\" Mustang\",\" Octavia\",\" PROACE VERSO\",\" Passat\",\" Polo\",\" Prius\",\" Puma\",\" Q2\",\" Q3\",\" Q5\",\" Q7\",\" Q8\",\" R Class\",\" R8\",\" RAV4\",\" RS3\",\" RS4\",\" RS5\",\" RS6\",\" RS7\",\" Ranger\",\" Rapid\",\" Roomster\",\" S Class\",\" S-MAX\",\" S3\",\" S4\",\" S5\",\" S8\",\" SL CLASS\",\" SLK\",\" SQ5\",\" SQ7\",\" Scala\",\" Scirocco\",\" Sharan\",\" Shuttle\",\" Streetka\",\" Superb\",\" Supra\",\" T-Cross\",\" T-Roc\",\" TT\",\" Tigra\",\" Tiguan\",\" Tiguan Allspace\",\" Touareg\",\" Touran\",\" Tourneo Connect\",\" Tourneo Custom\",\" Transit Tourneo\",\" Up\",\" Urban Cruiser\",\" V Class\",\" Vectra\",\" Verso\",\" Verso-S\",\" Viva\",\" Vivaro\",\" X-CLASS\",\" X1\",\" X2\",\" X3\",\" X4\",\" X5\",\" X6\",\" X7\",\" Yaris\",\" Yeti\",\" Yeti Outdoor\",\" Z3\",\" Z4\",\" Zafira\",\" Zafira Tourer\",\" i3\",\" i8\",\"180\",\"200\",\"220\",\"230\",\"AUDI\",\"BMW\",\"CCLASS\",\"FOCUS\",\"FORD\",\"MERC\",\"SKODA\",\"TOYOTA\",\"VAUXHALL\",\"VW\",\"all\"],\"name\":\"\",\"parents\":[\"all/BMW\",\"all/BMW\",\"all/BMW\",\"all/BMW\",\"all/BMW\",\"all/BMW\",\"all/BMW\",\"all/BMW\",\"all/MERC\",\"all/AUDI\",\"all/AUDI\",\"all/AUDI\",\"all/AUDI\",\"all/AUDI\",\"all/AUDI\",\"all/AUDI\",\"all/AUDI\",\"all/VAUXHALL\",\"all/VAUXHALL\",\"all/VW\",\"all/VAUXHALL\",\"all/VAUXHALL\",\"all/VW\",\"all/VAUXHALL\",\"all/TOYOTA\",\"all/TOYOTA\",\"all/TOYOTA\",\"all/MERC\",\"all/FORD\",\"all/VW\",\"all/CCLASS\",\"all/MERC\",\"all/TOYOTA\",\"all/FORD\",\"all/VW\",\"all/MERC\",\"all/MERC\",\"all/MERC\",\"all/MERC\",\"all/MERC\",\"all/VW\",\"all/VW\",\"all/VW\",\"all/VW\",\"all/VW\",\"all/TOYOTA\",\"all/VW\",\"all/VAUXHALL\",\"all/SKODA\",\"all/VAUXHALL\",\"all/TOYOTA\",\"all/VAUXHALL\",\"all/VAUXHALL\",\"all/MERC\",\"all/FORD\",\"all/FORD\",\"all/VW\",\"all/FORD\",\"all/SKODA\",\"all/FORD\",\"all/FOCUS\",\"all/FORD\",\"all/VW\",\"all/FORD\",\"all/MERC\",\"all/MERC\",\"all/MERC\",\"all/MERC\",\"all/MERC\",\"all/MERC\",\"all/MERC\",\"all/TOYOTA\",\"all/VAUXHALL\",\"all/FORD\",\"all/VW\",\"all/VW\",\"all/FORD\",\"all/FORD\",\"all/VAUXHALL\",\"all/TOYOTA\",\"all/TOYOTA\",\"all/VAUXHALL\",\"all/VW\",\"all/FORD\",\"all/FORD\",\"all/VAUXHALL\",\"all/SKODA\",\"all/SKODA\",\"all/SKODA\",\"all/FORD\",\"all/TOYOTA\",\"all/MERC\",\"all/BMW\",\"all/BMW\",\"all/BMW\",\"all/BMW\",\"all/BMW\",\"all/VAUXHALL\",\"all/VAUXHALL\",\"all/VAUXHALL\",\"all/FORD\",\"all/FORD\",\"all/SKODA\",\"all/TOYOTA\",\"all/VW\",\"all/VW\",\"all/TOYOTA\",\"all/FORD\",\"all/AUDI\",\"all/AUDI\",\"all/AUDI\",\"all/AUDI\",\"all/AUDI\",\"all/MERC\",\"all/AUDI\",\"all/TOYOTA\",\"all/AUDI\",\"all/AUDI\",\"all/AUDI\",\"all/AUDI\",\"all/AUDI\",\"all/FORD\",\"all/SKODA\",\"all/SKODA\",\"all/MERC\",\"all/FORD\",\"all/AUDI\",\"all/AUDI\",\"all/AUDI\",\"all/AUDI\",\"all/MERC\",\"all/MERC\",\"all/AUDI\",\"all/AUDI\",\"all/SKODA\",\"all/VW\",\"all/VW\",\"all/VW\",\"all/FORD\",\"all/SKODA\",\"all/TOYOTA\",\"all/VW\",\"all/VW\",\"all/AUDI\",\"all/VAUXHALL\",\"all/VW\",\"all/VW\",\"all/VW\",\"all/VW\",\"all/FORD\",\"all/FORD\",\"all/FORD\",\"all/VW\",\"all/TOYOTA\",\"all/MERC\",\"all/VAUXHALL\",\"all/TOYOTA\",\"all/TOYOTA\",\"all/VAUXHALL\",\"all/VAUXHALL\",\"all/MERC\",\"all/BMW\",\"all/BMW\",\"all/BMW\",\"all/BMW\",\"all/BMW\",\"all/BMW\",\"all/BMW\",\"all/TOYOTA\",\"all/SKODA\",\"all/SKODA\",\"all/BMW\",\"all/BMW\",\"all/VAUXHALL\",\"all/VAUXHALL\",\"all/BMW\",\"all/BMW\",\"all/MERC\",\"all/MERC\",\"all/MERC\",\"all/MERC\",\"all\",\"all\",\"all\",\"all\",\"all\",\"all\",\"all\",\"all\",\"all\",\"all\",\"\"],\"values\":[31021007,23101070,48319016,22127788,23643594,2630272,3915038,2495914,48682580,19085315,2490,33389504,27832708,20555833,16976148,3521593,4127858,3616440,89890,3107056,34894,165174,6390862,27098780,8880034,1126106,15301244,10685292,2895092,820176,89702012,87391114,9892088,5373119,1011336,10878022,1791901,16550,21545,6338136,77064,139463,45889,1127084,863908,296011,3871447,40976,3226879,2398390,5557759,26660391,8739987,49007730,14052864,4655584,46315,3000,15272786,66332283,63051018,60030224,6934,40893,1484013,2584525,16835287,680397,30598742,18176687,3494246,1453346,1002810,4051648,79811121,4159961,2687749,841631,9779180,1834400,33978,11787069,276004,1025744,4549602,43295,2713275,8050496,12016319,34928705,1860845,1371909,905947,799254,5279831,1675040,257520,1668219,7269880,26349715,6276581,1973982,20524781,430203,14698027,36717946,4407732,1692805,18216850,31555602,26235946,17614493,4147936,18949,2734262,8499597,1123667,1554700,1419701,2182591,33490,14495,1248652,91934,8814884,5190688,366830,374977,47940,135231,8068746,1011800,502653,394152,3175420,3245068,5680482,1487677,3849,14870769,608892,5865112,16366186,7319576,7289,37686385,2618097,11347469,6118864,443597,1460453,12450,6734093,18470,6603456,6435,1387284,17240,2990610,333991,2181448,15809263,7445497,15258389,5775641,18355595,4646893,3841352,22319100,1433833,5753216,40785,2880359,5999887,607158,802686,969214,10799,19495,19995,4500,241452046,241996965,89702012,63051018,218537038,316792748,88378360,83924329,136690460,250320026,1730845002],\"type\":\"treemap\",\"root\":{\"color\":\"lightgrey\"}}],                        {\"template\":{\"data\":{\"bar\":[{\"error_x\":{\"color\":\"#2a3f5f\"},\"error_y\":{\"color\":\"#2a3f5f\"},\"marker\":{\"line\":{\"color\":\"#E5ECF6\",\"width\":0.5},\"pattern\":{\"fillmode\":\"overlay\",\"size\":10,\"solidity\":0.2}},\"type\":\"bar\"}],\"barpolar\":[{\"marker\":{\"line\":{\"color\":\"#E5ECF6\",\"width\":0.5},\"pattern\":{\"fillmode\":\"overlay\",\"size\":10,\"solidity\":0.2}},\"type\":\"barpolar\"}],\"carpet\":[{\"aaxis\":{\"endlinecolor\":\"#2a3f5f\",\"gridcolor\":\"white\",\"linecolor\":\"white\",\"minorgridcolor\":\"white\",\"startlinecolor\":\"#2a3f5f\"},\"baxis\":{\"endlinecolor\":\"#2a3f5f\",\"gridcolor\":\"white\",\"linecolor\":\"white\",\"minorgridcolor\":\"white\",\"startlinecolor\":\"#2a3f5f\"},\"type\":\"carpet\"}],\"choropleth\":[{\"colorbar\":{\"outlinewidth\":0,\"ticks\":\"\"},\"type\":\"choropleth\"}],\"contour\":[{\"colorbar\":{\"outlinewidth\":0,\"ticks\":\"\"},\"colorscale\":[[0.0,\"#0d0887\"],[0.1111111111111111,\"#46039f\"],[0.2222222222222222,\"#7201a8\"],[0.3333333333333333,\"#9c179e\"],[0.4444444444444444,\"#bd3786\"],[0.5555555555555556,\"#d8576b\"],[0.6666666666666666,\"#ed7953\"],[0.7777777777777778,\"#fb9f3a\"],[0.8888888888888888,\"#fdca26\"],[1.0,\"#f0f921\"]],\"type\":\"contour\"}],\"contourcarpet\":[{\"colorbar\":{\"outlinewidth\":0,\"ticks\":\"\"},\"type\":\"contourcarpet\"}],\"heatmap\":[{\"colorbar\":{\"outlinewidth\":0,\"ticks\":\"\"},\"colorscale\":[[0.0,\"#0d0887\"],[0.1111111111111111,\"#46039f\"],[0.2222222222222222,\"#7201a8\"],[0.3333333333333333,\"#9c179e\"],[0.4444444444444444,\"#bd3786\"],[0.5555555555555556,\"#d8576b\"],[0.6666666666666666,\"#ed7953\"],[0.7777777777777778,\"#fb9f3a\"],[0.8888888888888888,\"#fdca26\"],[1.0,\"#f0f921\"]],\"type\":\"heatmap\"}],\"heatmapgl\":[{\"colorbar\":{\"outlinewidth\":0,\"ticks\":\"\"},\"colorscale\":[[0.0,\"#0d0887\"],[0.1111111111111111,\"#46039f\"],[0.2222222222222222,\"#7201a8\"],[0.3333333333333333,\"#9c179e\"],[0.4444444444444444,\"#bd3786\"],[0.5555555555555556,\"#d8576b\"],[0.6666666666666666,\"#ed7953\"],[0.7777777777777778,\"#fb9f3a\"],[0.8888888888888888,\"#fdca26\"],[1.0,\"#f0f921\"]],\"type\":\"heatmapgl\"}],\"histogram\":[{\"marker\":{\"pattern\":{\"fillmode\":\"overlay\",\"size\":10,\"solidity\":0.2}},\"type\":\"histogram\"}],\"histogram2d\":[{\"colorbar\":{\"outlinewidth\":0,\"ticks\":\"\"},\"colorscale\":[[0.0,\"#0d0887\"],[0.1111111111111111,\"#46039f\"],[0.2222222222222222,\"#7201a8\"],[0.3333333333333333,\"#9c179e\"],[0.4444444444444444,\"#bd3786\"],[0.5555555555555556,\"#d8576b\"],[0.6666666666666666,\"#ed7953\"],[0.7777777777777778,\"#fb9f3a\"],[0.8888888888888888,\"#fdca26\"],[1.0,\"#f0f921\"]],\"type\":\"histogram2d\"}],\"histogram2dcontour\":[{\"colorbar\":{\"outlinewidth\":0,\"ticks\":\"\"},\"colorscale\":[[0.0,\"#0d0887\"],[0.1111111111111111,\"#46039f\"],[0.2222222222222222,\"#7201a8\"],[0.3333333333333333,\"#9c179e\"],[0.4444444444444444,\"#bd3786\"],[0.5555555555555556,\"#d8576b\"],[0.6666666666666666,\"#ed7953\"],[0.7777777777777778,\"#fb9f3a\"],[0.8888888888888888,\"#fdca26\"],[1.0,\"#f0f921\"]],\"type\":\"histogram2dcontour\"}],\"mesh3d\":[{\"colorbar\":{\"outlinewidth\":0,\"ticks\":\"\"},\"type\":\"mesh3d\"}],\"parcoords\":[{\"line\":{\"colorbar\":{\"outlinewidth\":0,\"ticks\":\"\"}},\"type\":\"parcoords\"}],\"pie\":[{\"automargin\":true,\"type\":\"pie\"}],\"scatter\":[{\"marker\":{\"colorbar\":{\"outlinewidth\":0,\"ticks\":\"\"}},\"type\":\"scatter\"}],\"scatter3d\":[{\"line\":{\"colorbar\":{\"outlinewidth\":0,\"ticks\":\"\"}},\"marker\":{\"colorbar\":{\"outlinewidth\":0,\"ticks\":\"\"}},\"type\":\"scatter3d\"}],\"scattercarpet\":[{\"marker\":{\"colorbar\":{\"outlinewidth\":0,\"ticks\":\"\"}},\"type\":\"scattercarpet\"}],\"scattergeo\":[{\"marker\":{\"colorbar\":{\"outlinewidth\":0,\"ticks\":\"\"}},\"type\":\"scattergeo\"}],\"scattergl\":[{\"marker\":{\"colorbar\":{\"outlinewidth\":0,\"ticks\":\"\"}},\"type\":\"scattergl\"}],\"scattermapbox\":[{\"marker\":{\"colorbar\":{\"outlinewidth\":0,\"ticks\":\"\"}},\"type\":\"scattermapbox\"}],\"scatterpolar\":[{\"marker\":{\"colorbar\":{\"outlinewidth\":0,\"ticks\":\"\"}},\"type\":\"scatterpolar\"}],\"scatterpolargl\":[{\"marker\":{\"colorbar\":{\"outlinewidth\":0,\"ticks\":\"\"}},\"type\":\"scatterpolargl\"}],\"scatterternary\":[{\"marker\":{\"colorbar\":{\"outlinewidth\":0,\"ticks\":\"\"}},\"type\":\"scatterternary\"}],\"surface\":[{\"colorbar\":{\"outlinewidth\":0,\"ticks\":\"\"},\"colorscale\":[[0.0,\"#0d0887\"],[0.1111111111111111,\"#46039f\"],[0.2222222222222222,\"#7201a8\"],[0.3333333333333333,\"#9c179e\"],[0.4444444444444444,\"#bd3786\"],[0.5555555555555556,\"#d8576b\"],[0.6666666666666666,\"#ed7953\"],[0.7777777777777778,\"#fb9f3a\"],[0.8888888888888888,\"#fdca26\"],[1.0,\"#f0f921\"]],\"type\":\"surface\"}],\"table\":[{\"cells\":{\"fill\":{\"color\":\"#EBF0F8\"},\"line\":{\"color\":\"white\"}},\"header\":{\"fill\":{\"color\":\"#C8D4E3\"},\"line\":{\"color\":\"white\"}},\"type\":\"table\"}]},\"layout\":{\"annotationdefaults\":{\"arrowcolor\":\"#2a3f5f\",\"arrowhead\":0,\"arrowwidth\":1},\"autotypenumbers\":\"strict\",\"coloraxis\":{\"colorbar\":{\"outlinewidth\":0,\"ticks\":\"\"}},\"colorscale\":{\"diverging\":[[0,\"#8e0152\"],[0.1,\"#c51b7d\"],[0.2,\"#de77ae\"],[0.3,\"#f1b6da\"],[0.4,\"#fde0ef\"],[0.5,\"#f7f7f7\"],[0.6,\"#e6f5d0\"],[0.7,\"#b8e186\"],[0.8,\"#7fbc41\"],[0.9,\"#4d9221\"],[1,\"#276419\"]],\"sequential\":[[0.0,\"#0d0887\"],[0.1111111111111111,\"#46039f\"],[0.2222222222222222,\"#7201a8\"],[0.3333333333333333,\"#9c179e\"],[0.4444444444444444,\"#bd3786\"],[0.5555555555555556,\"#d8576b\"],[0.6666666666666666,\"#ed7953\"],[0.7777777777777778,\"#fb9f3a\"],[0.8888888888888888,\"#fdca26\"],[1.0,\"#f0f921\"]],\"sequentialminus\":[[0.0,\"#0d0887\"],[0.1111111111111111,\"#46039f\"],[0.2222222222222222,\"#7201a8\"],[0.3333333333333333,\"#9c179e\"],[0.4444444444444444,\"#bd3786\"],[0.5555555555555556,\"#d8576b\"],[0.6666666666666666,\"#ed7953\"],[0.7777777777777778,\"#fb9f3a\"],[0.8888888888888888,\"#fdca26\"],[1.0,\"#f0f921\"]]},\"colorway\":[\"#636efa\",\"#EF553B\",\"#00cc96\",\"#ab63fa\",\"#FFA15A\",\"#19d3f3\",\"#FF6692\",\"#B6E880\",\"#FF97FF\",\"#FECB52\"],\"font\":{\"color\":\"#2a3f5f\"},\"geo\":{\"bgcolor\":\"white\",\"lakecolor\":\"white\",\"landcolor\":\"#E5ECF6\",\"showlakes\":true,\"showland\":true,\"subunitcolor\":\"white\"},\"hoverlabel\":{\"align\":\"left\"},\"hovermode\":\"closest\",\"mapbox\":{\"style\":\"light\"},\"paper_bgcolor\":\"white\",\"plot_bgcolor\":\"#E5ECF6\",\"polar\":{\"angularaxis\":{\"gridcolor\":\"white\",\"linecolor\":\"white\",\"ticks\":\"\"},\"bgcolor\":\"#E5ECF6\",\"radialaxis\":{\"gridcolor\":\"white\",\"linecolor\":\"white\",\"ticks\":\"\"}},\"scene\":{\"xaxis\":{\"backgroundcolor\":\"#E5ECF6\",\"gridcolor\":\"white\",\"gridwidth\":2,\"linecolor\":\"white\",\"showbackground\":true,\"ticks\":\"\",\"zerolinecolor\":\"white\"},\"yaxis\":{\"backgroundcolor\":\"#E5ECF6\",\"gridcolor\":\"white\",\"gridwidth\":2,\"linecolor\":\"white\",\"showbackground\":true,\"ticks\":\"\",\"zerolinecolor\":\"white\"},\"zaxis\":{\"backgroundcolor\":\"#E5ECF6\",\"gridcolor\":\"white\",\"gridwidth\":2,\"linecolor\":\"white\",\"showbackground\":true,\"ticks\":\"\",\"zerolinecolor\":\"white\"}},\"shapedefaults\":{\"line\":{\"color\":\"#2a3f5f\"}},\"ternary\":{\"aaxis\":{\"gridcolor\":\"white\",\"linecolor\":\"white\",\"ticks\":\"\"},\"baxis\":{\"gridcolor\":\"white\",\"linecolor\":\"white\",\"ticks\":\"\"},\"bgcolor\":\"#E5ECF6\",\"caxis\":{\"gridcolor\":\"white\",\"linecolor\":\"white\",\"ticks\":\"\"}},\"title\":{\"x\":0.05},\"xaxis\":{\"automargin\":true,\"gridcolor\":\"white\",\"linecolor\":\"white\",\"ticks\":\"\",\"title\":{\"standoff\":15},\"zerolinecolor\":\"white\",\"zerolinewidth\":2},\"yaxis\":{\"automargin\":true,\"gridcolor\":\"white\",\"linecolor\":\"white\",\"ticks\":\"\",\"title\":{\"standoff\":15},\"zerolinecolor\":\"white\",\"zerolinewidth\":2}}},\"legend\":{\"tracegroupgap\":0},\"margin\":{\"t\":50,\"l\":25,\"r\":25,\"b\":25}},                        {\"responsive\": true}                    ).then(function(){\n",
              "                            \n",
              "var gd = document.getElementById('db3ad58b-5e8b-4cdf-9c48-ca446460a3cb');\n",
              "var x = new MutationObserver(function (mutations, observer) {{\n",
              "        var display = window.getComputedStyle(gd).display;\n",
              "        if (!display || display === 'none') {{\n",
              "            console.log([gd, 'removed!']);\n",
              "            Plotly.purge(gd);\n",
              "            observer.disconnect();\n",
              "        }}\n",
              "}});\n",
              "\n",
              "// Listen for the removal of the full notebook cells\n",
              "var notebookContainer = gd.closest('#notebook-container');\n",
              "if (notebookContainer) {{\n",
              "    x.observe(notebookContainer, {childList: true});\n",
              "}}\n",
              "\n",
              "// Listen for the clearing of the current output cell\n",
              "var outputEl = gd.closest('.output');\n",
              "if (outputEl) {{\n",
              "    x.observe(outputEl, {childList: true});\n",
              "}}\n",
              "\n",
              "                        })                };                            </script>        </div>\n",
              "</body>\n",
              "</html>"
            ]
          },
          "metadata": {}
        }
      ],
      "source": [
        "import plotly.express as px\n",
        "fig = px.treemap(cars_new_updated, path=[px.Constant(\"all\"), 'Brands', 'model'], values='price')\n",
        "fig.update_traces(root_color=\"lightgrey\")\n",
        "fig.update_layout(margin = dict(t=50, l=25, r=25, b=25))\n",
        "fig.show()"
      ]
    },
    {
      "cell_type": "code",
      "execution_count": 47,
      "metadata": {
        "colab": {
          "base_uri": "https://localhost:8080/",
          "height": 206
        },
        "id": "MTz9PZO84oGz",
        "outputId": "7284c675-b672-4a27-99c3-dec23a0e2ac2"
      },
      "outputs": [
        {
          "output_type": "execute_result",
          "data": {
            "text/plain": [
              "  Brands-model Brands model  year  price transmission  mileage  fuelType  \\\n",
              "0    AUDI - A1   AUDI    A1  2017  12500            0    15735         0   \n",
              "1    AUDI - A6   AUDI    A6  2016  16500            1    36203         1   \n",
              "2    AUDI - A1   AUDI    A1  2016  11000            0    29946         0   \n",
              "3    AUDI - A4   AUDI    A4  2017  16800            1    25952         1   \n",
              "4    AUDI - A3   AUDI    A3  2019  17300            0     1998         0   \n",
              "\n",
              "     tax   mpg  engineSize  \n",
              "0  150.0  55.4         1.4  \n",
              "1   20.0  64.2         2.0  \n",
              "2   30.0  55.4         1.4  \n",
              "3  145.0  67.3         2.0  \n",
              "4  145.0  49.6         1.0  "
            ],
            "text/html": [
              "\n",
              "  <div id=\"df-6909e238-d494-4821-94ce-8e206c621e4b\">\n",
              "    <div class=\"colab-df-container\">\n",
              "      <div>\n",
              "<style scoped>\n",
              "    .dataframe tbody tr th:only-of-type {\n",
              "        vertical-align: middle;\n",
              "    }\n",
              "\n",
              "    .dataframe tbody tr th {\n",
              "        vertical-align: top;\n",
              "    }\n",
              "\n",
              "    .dataframe thead th {\n",
              "        text-align: right;\n",
              "    }\n",
              "</style>\n",
              "<table border=\"1\" class=\"dataframe\">\n",
              "  <thead>\n",
              "    <tr style=\"text-align: right;\">\n",
              "      <th></th>\n",
              "      <th>Brands-model</th>\n",
              "      <th>Brands</th>\n",
              "      <th>model</th>\n",
              "      <th>year</th>\n",
              "      <th>price</th>\n",
              "      <th>transmission</th>\n",
              "      <th>mileage</th>\n",
              "      <th>fuelType</th>\n",
              "      <th>tax</th>\n",
              "      <th>mpg</th>\n",
              "      <th>engineSize</th>\n",
              "    </tr>\n",
              "  </thead>\n",
              "  <tbody>\n",
              "    <tr>\n",
              "      <th>0</th>\n",
              "      <td>AUDI - A1</td>\n",
              "      <td>AUDI</td>\n",
              "      <td>A1</td>\n",
              "      <td>2017</td>\n",
              "      <td>12500</td>\n",
              "      <td>0</td>\n",
              "      <td>15735</td>\n",
              "      <td>0</td>\n",
              "      <td>150.0</td>\n",
              "      <td>55.4</td>\n",
              "      <td>1.4</td>\n",
              "    </tr>\n",
              "    <tr>\n",
              "      <th>1</th>\n",
              "      <td>AUDI - A6</td>\n",
              "      <td>AUDI</td>\n",
              "      <td>A6</td>\n",
              "      <td>2016</td>\n",
              "      <td>16500</td>\n",
              "      <td>1</td>\n",
              "      <td>36203</td>\n",
              "      <td>1</td>\n",
              "      <td>20.0</td>\n",
              "      <td>64.2</td>\n",
              "      <td>2.0</td>\n",
              "    </tr>\n",
              "    <tr>\n",
              "      <th>2</th>\n",
              "      <td>AUDI - A1</td>\n",
              "      <td>AUDI</td>\n",
              "      <td>A1</td>\n",
              "      <td>2016</td>\n",
              "      <td>11000</td>\n",
              "      <td>0</td>\n",
              "      <td>29946</td>\n",
              "      <td>0</td>\n",
              "      <td>30.0</td>\n",
              "      <td>55.4</td>\n",
              "      <td>1.4</td>\n",
              "    </tr>\n",
              "    <tr>\n",
              "      <th>3</th>\n",
              "      <td>AUDI - A4</td>\n",
              "      <td>AUDI</td>\n",
              "      <td>A4</td>\n",
              "      <td>2017</td>\n",
              "      <td>16800</td>\n",
              "      <td>1</td>\n",
              "      <td>25952</td>\n",
              "      <td>1</td>\n",
              "      <td>145.0</td>\n",
              "      <td>67.3</td>\n",
              "      <td>2.0</td>\n",
              "    </tr>\n",
              "    <tr>\n",
              "      <th>4</th>\n",
              "      <td>AUDI - A3</td>\n",
              "      <td>AUDI</td>\n",
              "      <td>A3</td>\n",
              "      <td>2019</td>\n",
              "      <td>17300</td>\n",
              "      <td>0</td>\n",
              "      <td>1998</td>\n",
              "      <td>0</td>\n",
              "      <td>145.0</td>\n",
              "      <td>49.6</td>\n",
              "      <td>1.0</td>\n",
              "    </tr>\n",
              "  </tbody>\n",
              "</table>\n",
              "</div>\n",
              "      <button class=\"colab-df-convert\" onclick=\"convertToInteractive('df-6909e238-d494-4821-94ce-8e206c621e4b')\"\n",
              "              title=\"Convert this dataframe to an interactive table.\"\n",
              "              style=\"display:none;\">\n",
              "        \n",
              "  <svg xmlns=\"http://www.w3.org/2000/svg\" height=\"24px\"viewBox=\"0 0 24 24\"\n",
              "       width=\"24px\">\n",
              "    <path d=\"M0 0h24v24H0V0z\" fill=\"none\"/>\n",
              "    <path d=\"M18.56 5.44l.94 2.06.94-2.06 2.06-.94-2.06-.94-.94-2.06-.94 2.06-2.06.94zm-11 1L8.5 8.5l.94-2.06 2.06-.94-2.06-.94L8.5 2.5l-.94 2.06-2.06.94zm10 10l.94 2.06.94-2.06 2.06-.94-2.06-.94-.94-2.06-.94 2.06-2.06.94z\"/><path d=\"M17.41 7.96l-1.37-1.37c-.4-.4-.92-.59-1.43-.59-.52 0-1.04.2-1.43.59L10.3 9.45l-7.72 7.72c-.78.78-.78 2.05 0 2.83L4 21.41c.39.39.9.59 1.41.59.51 0 1.02-.2 1.41-.59l7.78-7.78 2.81-2.81c.8-.78.8-2.07 0-2.86zM5.41 20L4 18.59l7.72-7.72 1.47 1.35L5.41 20z\"/>\n",
              "  </svg>\n",
              "      </button>\n",
              "      \n",
              "  <style>\n",
              "    .colab-df-container {\n",
              "      display:flex;\n",
              "      flex-wrap:wrap;\n",
              "      gap: 12px;\n",
              "    }\n",
              "\n",
              "    .colab-df-convert {\n",
              "      background-color: #E8F0FE;\n",
              "      border: none;\n",
              "      border-radius: 50%;\n",
              "      cursor: pointer;\n",
              "      display: none;\n",
              "      fill: #1967D2;\n",
              "      height: 32px;\n",
              "      padding: 0 0 0 0;\n",
              "      width: 32px;\n",
              "    }\n",
              "\n",
              "    .colab-df-convert:hover {\n",
              "      background-color: #E2EBFA;\n",
              "      box-shadow: 0px 1px 2px rgba(60, 64, 67, 0.3), 0px 1px 3px 1px rgba(60, 64, 67, 0.15);\n",
              "      fill: #174EA6;\n",
              "    }\n",
              "\n",
              "    [theme=dark] .colab-df-convert {\n",
              "      background-color: #3B4455;\n",
              "      fill: #D2E3FC;\n",
              "    }\n",
              "\n",
              "    [theme=dark] .colab-df-convert:hover {\n",
              "      background-color: #434B5C;\n",
              "      box-shadow: 0px 1px 3px 1px rgba(0, 0, 0, 0.15);\n",
              "      filter: drop-shadow(0px 1px 2px rgba(0, 0, 0, 0.3));\n",
              "      fill: #FFFFFF;\n",
              "    }\n",
              "  </style>\n",
              "\n",
              "      <script>\n",
              "        const buttonEl =\n",
              "          document.querySelector('#df-6909e238-d494-4821-94ce-8e206c621e4b button.colab-df-convert');\n",
              "        buttonEl.style.display =\n",
              "          google.colab.kernel.accessAllowed ? 'block' : 'none';\n",
              "\n",
              "        async function convertToInteractive(key) {\n",
              "          const element = document.querySelector('#df-6909e238-d494-4821-94ce-8e206c621e4b');\n",
              "          const dataTable =\n",
              "            await google.colab.kernel.invokeFunction('convertToInteractive',\n",
              "                                                     [key], {});\n",
              "          if (!dataTable) return;\n",
              "\n",
              "          const docLinkHtml = 'Like what you see? Visit the ' +\n",
              "            '<a target=\"_blank\" href=https://colab.research.google.com/notebooks/data_table.ipynb>data table notebook</a>'\n",
              "            + ' to learn more about interactive tables.';\n",
              "          element.innerHTML = '';\n",
              "          dataTable['output_type'] = 'display_data';\n",
              "          await google.colab.output.renderOutput(dataTable, element);\n",
              "          const docLink = document.createElement('div');\n",
              "          docLink.innerHTML = docLinkHtml;\n",
              "          element.appendChild(docLink);\n",
              "        }\n",
              "      </script>\n",
              "    </div>\n",
              "  </div>\n",
              "  "
            ]
          },
          "metadata": {},
          "execution_count": 47
        }
      ],
      "source": [
        " cars_new_updated.head()"
      ]
    },
    {
      "cell_type": "code",
      "execution_count": 48,
      "metadata": {
        "id": "5MSbjRU60xWJ"
      },
      "outputs": [],
      "source": [
        "Model_dataset = cars_new_updated[['Brands-model','year','transmission','mileage','fuelType','mpg','engineSize']]\n"
      ]
    },
    {
      "cell_type": "code",
      "execution_count": 49,
      "metadata": {
        "colab": {
          "base_uri": "https://localhost:8080/",
          "height": 206
        },
        "id": "7jXMeFqBgKdJ",
        "outputId": "25547bad-6e95-49b1-ce09-7ae310e2423b"
      },
      "outputs": [
        {
          "output_type": "execute_result",
          "data": {
            "text/plain": [
              "  Brands-model  year transmission  mileage  fuelType   mpg  engineSize\n",
              "0    AUDI - A1  2017            0    15735         0  55.4         1.4\n",
              "1    AUDI - A6  2016            1    36203         1  64.2         2.0\n",
              "2    AUDI - A1  2016            0    29946         0  55.4         1.4\n",
              "3    AUDI - A4  2017            1    25952         1  67.3         2.0\n",
              "4    AUDI - A3  2019            0     1998         0  49.6         1.0"
            ],
            "text/html": [
              "\n",
              "  <div id=\"df-e705ca49-1ebb-423a-bfe1-c556a17573b3\">\n",
              "    <div class=\"colab-df-container\">\n",
              "      <div>\n",
              "<style scoped>\n",
              "    .dataframe tbody tr th:only-of-type {\n",
              "        vertical-align: middle;\n",
              "    }\n",
              "\n",
              "    .dataframe tbody tr th {\n",
              "        vertical-align: top;\n",
              "    }\n",
              "\n",
              "    .dataframe thead th {\n",
              "        text-align: right;\n",
              "    }\n",
              "</style>\n",
              "<table border=\"1\" class=\"dataframe\">\n",
              "  <thead>\n",
              "    <tr style=\"text-align: right;\">\n",
              "      <th></th>\n",
              "      <th>Brands-model</th>\n",
              "      <th>year</th>\n",
              "      <th>transmission</th>\n",
              "      <th>mileage</th>\n",
              "      <th>fuelType</th>\n",
              "      <th>mpg</th>\n",
              "      <th>engineSize</th>\n",
              "    </tr>\n",
              "  </thead>\n",
              "  <tbody>\n",
              "    <tr>\n",
              "      <th>0</th>\n",
              "      <td>AUDI - A1</td>\n",
              "      <td>2017</td>\n",
              "      <td>0</td>\n",
              "      <td>15735</td>\n",
              "      <td>0</td>\n",
              "      <td>55.4</td>\n",
              "      <td>1.4</td>\n",
              "    </tr>\n",
              "    <tr>\n",
              "      <th>1</th>\n",
              "      <td>AUDI - A6</td>\n",
              "      <td>2016</td>\n",
              "      <td>1</td>\n",
              "      <td>36203</td>\n",
              "      <td>1</td>\n",
              "      <td>64.2</td>\n",
              "      <td>2.0</td>\n",
              "    </tr>\n",
              "    <tr>\n",
              "      <th>2</th>\n",
              "      <td>AUDI - A1</td>\n",
              "      <td>2016</td>\n",
              "      <td>0</td>\n",
              "      <td>29946</td>\n",
              "      <td>0</td>\n",
              "      <td>55.4</td>\n",
              "      <td>1.4</td>\n",
              "    </tr>\n",
              "    <tr>\n",
              "      <th>3</th>\n",
              "      <td>AUDI - A4</td>\n",
              "      <td>2017</td>\n",
              "      <td>1</td>\n",
              "      <td>25952</td>\n",
              "      <td>1</td>\n",
              "      <td>67.3</td>\n",
              "      <td>2.0</td>\n",
              "    </tr>\n",
              "    <tr>\n",
              "      <th>4</th>\n",
              "      <td>AUDI - A3</td>\n",
              "      <td>2019</td>\n",
              "      <td>0</td>\n",
              "      <td>1998</td>\n",
              "      <td>0</td>\n",
              "      <td>49.6</td>\n",
              "      <td>1.0</td>\n",
              "    </tr>\n",
              "  </tbody>\n",
              "</table>\n",
              "</div>\n",
              "      <button class=\"colab-df-convert\" onclick=\"convertToInteractive('df-e705ca49-1ebb-423a-bfe1-c556a17573b3')\"\n",
              "              title=\"Convert this dataframe to an interactive table.\"\n",
              "              style=\"display:none;\">\n",
              "        \n",
              "  <svg xmlns=\"http://www.w3.org/2000/svg\" height=\"24px\"viewBox=\"0 0 24 24\"\n",
              "       width=\"24px\">\n",
              "    <path d=\"M0 0h24v24H0V0z\" fill=\"none\"/>\n",
              "    <path d=\"M18.56 5.44l.94 2.06.94-2.06 2.06-.94-2.06-.94-.94-2.06-.94 2.06-2.06.94zm-11 1L8.5 8.5l.94-2.06 2.06-.94-2.06-.94L8.5 2.5l-.94 2.06-2.06.94zm10 10l.94 2.06.94-2.06 2.06-.94-2.06-.94-.94-2.06-.94 2.06-2.06.94z\"/><path d=\"M17.41 7.96l-1.37-1.37c-.4-.4-.92-.59-1.43-.59-.52 0-1.04.2-1.43.59L10.3 9.45l-7.72 7.72c-.78.78-.78 2.05 0 2.83L4 21.41c.39.39.9.59 1.41.59.51 0 1.02-.2 1.41-.59l7.78-7.78 2.81-2.81c.8-.78.8-2.07 0-2.86zM5.41 20L4 18.59l7.72-7.72 1.47 1.35L5.41 20z\"/>\n",
              "  </svg>\n",
              "      </button>\n",
              "      \n",
              "  <style>\n",
              "    .colab-df-container {\n",
              "      display:flex;\n",
              "      flex-wrap:wrap;\n",
              "      gap: 12px;\n",
              "    }\n",
              "\n",
              "    .colab-df-convert {\n",
              "      background-color: #E8F0FE;\n",
              "      border: none;\n",
              "      border-radius: 50%;\n",
              "      cursor: pointer;\n",
              "      display: none;\n",
              "      fill: #1967D2;\n",
              "      height: 32px;\n",
              "      padding: 0 0 0 0;\n",
              "      width: 32px;\n",
              "    }\n",
              "\n",
              "    .colab-df-convert:hover {\n",
              "      background-color: #E2EBFA;\n",
              "      box-shadow: 0px 1px 2px rgba(60, 64, 67, 0.3), 0px 1px 3px 1px rgba(60, 64, 67, 0.15);\n",
              "      fill: #174EA6;\n",
              "    }\n",
              "\n",
              "    [theme=dark] .colab-df-convert {\n",
              "      background-color: #3B4455;\n",
              "      fill: #D2E3FC;\n",
              "    }\n",
              "\n",
              "    [theme=dark] .colab-df-convert:hover {\n",
              "      background-color: #434B5C;\n",
              "      box-shadow: 0px 1px 3px 1px rgba(0, 0, 0, 0.15);\n",
              "      filter: drop-shadow(0px 1px 2px rgba(0, 0, 0, 0.3));\n",
              "      fill: #FFFFFF;\n",
              "    }\n",
              "  </style>\n",
              "\n",
              "      <script>\n",
              "        const buttonEl =\n",
              "          document.querySelector('#df-e705ca49-1ebb-423a-bfe1-c556a17573b3 button.colab-df-convert');\n",
              "        buttonEl.style.display =\n",
              "          google.colab.kernel.accessAllowed ? 'block' : 'none';\n",
              "\n",
              "        async function convertToInteractive(key) {\n",
              "          const element = document.querySelector('#df-e705ca49-1ebb-423a-bfe1-c556a17573b3');\n",
              "          const dataTable =\n",
              "            await google.colab.kernel.invokeFunction('convertToInteractive',\n",
              "                                                     [key], {});\n",
              "          if (!dataTable) return;\n",
              "\n",
              "          const docLinkHtml = 'Like what you see? Visit the ' +\n",
              "            '<a target=\"_blank\" href=https://colab.research.google.com/notebooks/data_table.ipynb>data table notebook</a>'\n",
              "            + ' to learn more about interactive tables.';\n",
              "          element.innerHTML = '';\n",
              "          dataTable['output_type'] = 'display_data';\n",
              "          await google.colab.output.renderOutput(dataTable, element);\n",
              "          const docLink = document.createElement('div');\n",
              "          docLink.innerHTML = docLinkHtml;\n",
              "          element.appendChild(docLink);\n",
              "        }\n",
              "      </script>\n",
              "    </div>\n",
              "  </div>\n",
              "  "
            ]
          },
          "metadata": {},
          "execution_count": 49
        }
      ],
      "source": [
        "Model_dataset.head()"
      ]
    },
    {
      "cell_type": "code",
      "execution_count": 50,
      "metadata": {
        "id": "eai8EI5-gOCW"
      },
      "outputs": [],
      "source": [
        "from sklearn.preprocessing import LabelEncoder"
      ]
    },
    {
      "cell_type": "code",
      "execution_count": 51,
      "metadata": {
        "id": "LZd41wVSg7Bw"
      },
      "outputs": [],
      "source": [
        "l3 = LabelEncoder()\n",
        "label = l3.fit_transform(Model_dataset['Brands-model'])"
      ]
    },
    {
      "cell_type": "code",
      "execution_count": 52,
      "metadata": {
        "colab": {
          "base_uri": "https://localhost:8080/"
        },
        "id": "243nun6tdbQE",
        "outputId": "512c8fc9-cb7d-4b42-c3dc-e82e59f06dcf"
      },
      "outputs": [
        {
          "output_type": "execute_result",
          "data": {
            "text/plain": [
              "array([  0,   5,   0, ..., 165, 165, 165])"
            ]
          },
          "metadata": {},
          "execution_count": 52
        }
      ],
      "source": [
        "label"
      ]
    },
    {
      "cell_type": "code",
      "execution_count": 53,
      "metadata": {
        "id": "shlPg_aQdpyC"
      },
      "outputs": [],
      "source": [
        " New_Model = Model_dataset.drop('Brands-model', axis = 'columns')"
      ]
    },
    {
      "cell_type": "code",
      "execution_count": 54,
      "metadata": {
        "colab": {
          "base_uri": "https://localhost:8080/",
          "height": 423
        },
        "id": "-7H0yqNieRaA",
        "outputId": "2273970a-36b2-4555-8934-633d4bb114ce"
      },
      "outputs": [
        {
          "output_type": "execute_result",
          "data": {
            "text/plain": [
              "       year transmission  mileage  fuelType   mpg  engineSize\n",
              "0      2017            0    15735         0  55.4         1.4\n",
              "1      2016            1    36203         1  64.2         2.0\n",
              "2      2016            0    29946         0  55.4         1.4\n",
              "3      2017            1    25952         1  67.3         2.0\n",
              "4      2019            0     1998         0  49.6         1.0\n",
              "...     ...          ...      ...       ...   ...         ...\n",
              "15152  2012            0    74000         1  58.9         2.0\n",
              "15153  2008            0    88102         0  46.3         1.2\n",
              "15154  2009            0    70000         0  42.0         1.4\n",
              "15155  2006            0    82704         0  46.3         1.2\n",
              "15156  2007            0    74000         0  46.3         1.2\n",
              "\n",
              "[101468 rows x 6 columns]"
            ],
            "text/html": [
              "\n",
              "  <div id=\"df-3bae5748-2e68-4c4f-9592-0971d04138f7\">\n",
              "    <div class=\"colab-df-container\">\n",
              "      <div>\n",
              "<style scoped>\n",
              "    .dataframe tbody tr th:only-of-type {\n",
              "        vertical-align: middle;\n",
              "    }\n",
              "\n",
              "    .dataframe tbody tr th {\n",
              "        vertical-align: top;\n",
              "    }\n",
              "\n",
              "    .dataframe thead th {\n",
              "        text-align: right;\n",
              "    }\n",
              "</style>\n",
              "<table border=\"1\" class=\"dataframe\">\n",
              "  <thead>\n",
              "    <tr style=\"text-align: right;\">\n",
              "      <th></th>\n",
              "      <th>year</th>\n",
              "      <th>transmission</th>\n",
              "      <th>mileage</th>\n",
              "      <th>fuelType</th>\n",
              "      <th>mpg</th>\n",
              "      <th>engineSize</th>\n",
              "    </tr>\n",
              "  </thead>\n",
              "  <tbody>\n",
              "    <tr>\n",
              "      <th>0</th>\n",
              "      <td>2017</td>\n",
              "      <td>0</td>\n",
              "      <td>15735</td>\n",
              "      <td>0</td>\n",
              "      <td>55.4</td>\n",
              "      <td>1.4</td>\n",
              "    </tr>\n",
              "    <tr>\n",
              "      <th>1</th>\n",
              "      <td>2016</td>\n",
              "      <td>1</td>\n",
              "      <td>36203</td>\n",
              "      <td>1</td>\n",
              "      <td>64.2</td>\n",
              "      <td>2.0</td>\n",
              "    </tr>\n",
              "    <tr>\n",
              "      <th>2</th>\n",
              "      <td>2016</td>\n",
              "      <td>0</td>\n",
              "      <td>29946</td>\n",
              "      <td>0</td>\n",
              "      <td>55.4</td>\n",
              "      <td>1.4</td>\n",
              "    </tr>\n",
              "    <tr>\n",
              "      <th>3</th>\n",
              "      <td>2017</td>\n",
              "      <td>1</td>\n",
              "      <td>25952</td>\n",
              "      <td>1</td>\n",
              "      <td>67.3</td>\n",
              "      <td>2.0</td>\n",
              "    </tr>\n",
              "    <tr>\n",
              "      <th>4</th>\n",
              "      <td>2019</td>\n",
              "      <td>0</td>\n",
              "      <td>1998</td>\n",
              "      <td>0</td>\n",
              "      <td>49.6</td>\n",
              "      <td>1.0</td>\n",
              "    </tr>\n",
              "    <tr>\n",
              "      <th>...</th>\n",
              "      <td>...</td>\n",
              "      <td>...</td>\n",
              "      <td>...</td>\n",
              "      <td>...</td>\n",
              "      <td>...</td>\n",
              "      <td>...</td>\n",
              "    </tr>\n",
              "    <tr>\n",
              "      <th>15152</th>\n",
              "      <td>2012</td>\n",
              "      <td>0</td>\n",
              "      <td>74000</td>\n",
              "      <td>1</td>\n",
              "      <td>58.9</td>\n",
              "      <td>2.0</td>\n",
              "    </tr>\n",
              "    <tr>\n",
              "      <th>15153</th>\n",
              "      <td>2008</td>\n",
              "      <td>0</td>\n",
              "      <td>88102</td>\n",
              "      <td>0</td>\n",
              "      <td>46.3</td>\n",
              "      <td>1.2</td>\n",
              "    </tr>\n",
              "    <tr>\n",
              "      <th>15154</th>\n",
              "      <td>2009</td>\n",
              "      <td>0</td>\n",
              "      <td>70000</td>\n",
              "      <td>0</td>\n",
              "      <td>42.0</td>\n",
              "      <td>1.4</td>\n",
              "    </tr>\n",
              "    <tr>\n",
              "      <th>15155</th>\n",
              "      <td>2006</td>\n",
              "      <td>0</td>\n",
              "      <td>82704</td>\n",
              "      <td>0</td>\n",
              "      <td>46.3</td>\n",
              "      <td>1.2</td>\n",
              "    </tr>\n",
              "    <tr>\n",
              "      <th>15156</th>\n",
              "      <td>2007</td>\n",
              "      <td>0</td>\n",
              "      <td>74000</td>\n",
              "      <td>0</td>\n",
              "      <td>46.3</td>\n",
              "      <td>1.2</td>\n",
              "    </tr>\n",
              "  </tbody>\n",
              "</table>\n",
              "<p>101468 rows × 6 columns</p>\n",
              "</div>\n",
              "      <button class=\"colab-df-convert\" onclick=\"convertToInteractive('df-3bae5748-2e68-4c4f-9592-0971d04138f7')\"\n",
              "              title=\"Convert this dataframe to an interactive table.\"\n",
              "              style=\"display:none;\">\n",
              "        \n",
              "  <svg xmlns=\"http://www.w3.org/2000/svg\" height=\"24px\"viewBox=\"0 0 24 24\"\n",
              "       width=\"24px\">\n",
              "    <path d=\"M0 0h24v24H0V0z\" fill=\"none\"/>\n",
              "    <path d=\"M18.56 5.44l.94 2.06.94-2.06 2.06-.94-2.06-.94-.94-2.06-.94 2.06-2.06.94zm-11 1L8.5 8.5l.94-2.06 2.06-.94-2.06-.94L8.5 2.5l-.94 2.06-2.06.94zm10 10l.94 2.06.94-2.06 2.06-.94-2.06-.94-.94-2.06-.94 2.06-2.06.94z\"/><path d=\"M17.41 7.96l-1.37-1.37c-.4-.4-.92-.59-1.43-.59-.52 0-1.04.2-1.43.59L10.3 9.45l-7.72 7.72c-.78.78-.78 2.05 0 2.83L4 21.41c.39.39.9.59 1.41.59.51 0 1.02-.2 1.41-.59l7.78-7.78 2.81-2.81c.8-.78.8-2.07 0-2.86zM5.41 20L4 18.59l7.72-7.72 1.47 1.35L5.41 20z\"/>\n",
              "  </svg>\n",
              "      </button>\n",
              "      \n",
              "  <style>\n",
              "    .colab-df-container {\n",
              "      display:flex;\n",
              "      flex-wrap:wrap;\n",
              "      gap: 12px;\n",
              "    }\n",
              "\n",
              "    .colab-df-convert {\n",
              "      background-color: #E8F0FE;\n",
              "      border: none;\n",
              "      border-radius: 50%;\n",
              "      cursor: pointer;\n",
              "      display: none;\n",
              "      fill: #1967D2;\n",
              "      height: 32px;\n",
              "      padding: 0 0 0 0;\n",
              "      width: 32px;\n",
              "    }\n",
              "\n",
              "    .colab-df-convert:hover {\n",
              "      background-color: #E2EBFA;\n",
              "      box-shadow: 0px 1px 2px rgba(60, 64, 67, 0.3), 0px 1px 3px 1px rgba(60, 64, 67, 0.15);\n",
              "      fill: #174EA6;\n",
              "    }\n",
              "\n",
              "    [theme=dark] .colab-df-convert {\n",
              "      background-color: #3B4455;\n",
              "      fill: #D2E3FC;\n",
              "    }\n",
              "\n",
              "    [theme=dark] .colab-df-convert:hover {\n",
              "      background-color: #434B5C;\n",
              "      box-shadow: 0px 1px 3px 1px rgba(0, 0, 0, 0.15);\n",
              "      filter: drop-shadow(0px 1px 2px rgba(0, 0, 0, 0.3));\n",
              "      fill: #FFFFFF;\n",
              "    }\n",
              "  </style>\n",
              "\n",
              "      <script>\n",
              "        const buttonEl =\n",
              "          document.querySelector('#df-3bae5748-2e68-4c4f-9592-0971d04138f7 button.colab-df-convert');\n",
              "        buttonEl.style.display =\n",
              "          google.colab.kernel.accessAllowed ? 'block' : 'none';\n",
              "\n",
              "        async function convertToInteractive(key) {\n",
              "          const element = document.querySelector('#df-3bae5748-2e68-4c4f-9592-0971d04138f7');\n",
              "          const dataTable =\n",
              "            await google.colab.kernel.invokeFunction('convertToInteractive',\n",
              "                                                     [key], {});\n",
              "          if (!dataTable) return;\n",
              "\n",
              "          const docLinkHtml = 'Like what you see? Visit the ' +\n",
              "            '<a target=\"_blank\" href=https://colab.research.google.com/notebooks/data_table.ipynb>data table notebook</a>'\n",
              "            + ' to learn more about interactive tables.';\n",
              "          element.innerHTML = '';\n",
              "          dataTable['output_type'] = 'display_data';\n",
              "          await google.colab.output.renderOutput(dataTable, element);\n",
              "          const docLink = document.createElement('div');\n",
              "          docLink.innerHTML = docLinkHtml;\n",
              "          element.appendChild(docLink);\n",
              "        }\n",
              "      </script>\n",
              "    </div>\n",
              "  </div>\n",
              "  "
            ]
          },
          "metadata": {},
          "execution_count": 54
        }
      ],
      "source": [
        "New_Model"
      ]
    },
    {
      "cell_type": "code",
      "execution_count": 55,
      "metadata": {
        "id": "jTsOSPr8ebC7"
      },
      "outputs": [],
      "source": [
        " New_Model['Brands-model'] = label "
      ]
    },
    {
      "cell_type": "code",
      "execution_count": 56,
      "metadata": {
        "colab": {
          "base_uri": "https://localhost:8080/",
          "height": 423
        },
        "id": "M7nbUN_xfX9f",
        "outputId": "0eed198b-1e57-4e43-8852-88bb801eacb8"
      },
      "outputs": [
        {
          "output_type": "execute_result",
          "data": {
            "text/plain": [
              "       year transmission  mileage  fuelType   mpg  engineSize  Brands-model\n",
              "0      2017            0    15735         0  55.4         1.4             0\n",
              "1      2016            1    36203         1  64.2         2.0             5\n",
              "2      2016            0    29946         0  55.4         1.4             0\n",
              "3      2017            1    25952         1  67.3         2.0             3\n",
              "4      2019            0     1998         0  49.6         1.0             2\n",
              "...     ...          ...      ...       ...   ...         ...           ...\n",
              "15152  2012            0    74000         1  58.9         2.0           164\n",
              "15153  2008            0    88102         0  46.3         1.2           165\n",
              "15154  2009            0    70000         0  42.0         1.4           165\n",
              "15155  2006            0    82704         0  46.3         1.2           165\n",
              "15156  2007            0    74000         0  46.3         1.2           165\n",
              "\n",
              "[101468 rows x 7 columns]"
            ],
            "text/html": [
              "\n",
              "  <div id=\"df-cddb6ef5-5c04-4292-b559-5b005f2e211b\">\n",
              "    <div class=\"colab-df-container\">\n",
              "      <div>\n",
              "<style scoped>\n",
              "    .dataframe tbody tr th:only-of-type {\n",
              "        vertical-align: middle;\n",
              "    }\n",
              "\n",
              "    .dataframe tbody tr th {\n",
              "        vertical-align: top;\n",
              "    }\n",
              "\n",
              "    .dataframe thead th {\n",
              "        text-align: right;\n",
              "    }\n",
              "</style>\n",
              "<table border=\"1\" class=\"dataframe\">\n",
              "  <thead>\n",
              "    <tr style=\"text-align: right;\">\n",
              "      <th></th>\n",
              "      <th>year</th>\n",
              "      <th>transmission</th>\n",
              "      <th>mileage</th>\n",
              "      <th>fuelType</th>\n",
              "      <th>mpg</th>\n",
              "      <th>engineSize</th>\n",
              "      <th>Brands-model</th>\n",
              "    </tr>\n",
              "  </thead>\n",
              "  <tbody>\n",
              "    <tr>\n",
              "      <th>0</th>\n",
              "      <td>2017</td>\n",
              "      <td>0</td>\n",
              "      <td>15735</td>\n",
              "      <td>0</td>\n",
              "      <td>55.4</td>\n",
              "      <td>1.4</td>\n",
              "      <td>0</td>\n",
              "    </tr>\n",
              "    <tr>\n",
              "      <th>1</th>\n",
              "      <td>2016</td>\n",
              "      <td>1</td>\n",
              "      <td>36203</td>\n",
              "      <td>1</td>\n",
              "      <td>64.2</td>\n",
              "      <td>2.0</td>\n",
              "      <td>5</td>\n",
              "    </tr>\n",
              "    <tr>\n",
              "      <th>2</th>\n",
              "      <td>2016</td>\n",
              "      <td>0</td>\n",
              "      <td>29946</td>\n",
              "      <td>0</td>\n",
              "      <td>55.4</td>\n",
              "      <td>1.4</td>\n",
              "      <td>0</td>\n",
              "    </tr>\n",
              "    <tr>\n",
              "      <th>3</th>\n",
              "      <td>2017</td>\n",
              "      <td>1</td>\n",
              "      <td>25952</td>\n",
              "      <td>1</td>\n",
              "      <td>67.3</td>\n",
              "      <td>2.0</td>\n",
              "      <td>3</td>\n",
              "    </tr>\n",
              "    <tr>\n",
              "      <th>4</th>\n",
              "      <td>2019</td>\n",
              "      <td>0</td>\n",
              "      <td>1998</td>\n",
              "      <td>0</td>\n",
              "      <td>49.6</td>\n",
              "      <td>1.0</td>\n",
              "      <td>2</td>\n",
              "    </tr>\n",
              "    <tr>\n",
              "      <th>...</th>\n",
              "      <td>...</td>\n",
              "      <td>...</td>\n",
              "      <td>...</td>\n",
              "      <td>...</td>\n",
              "      <td>...</td>\n",
              "      <td>...</td>\n",
              "      <td>...</td>\n",
              "    </tr>\n",
              "    <tr>\n",
              "      <th>15152</th>\n",
              "      <td>2012</td>\n",
              "      <td>0</td>\n",
              "      <td>74000</td>\n",
              "      <td>1</td>\n",
              "      <td>58.9</td>\n",
              "      <td>2.0</td>\n",
              "      <td>164</td>\n",
              "    </tr>\n",
              "    <tr>\n",
              "      <th>15153</th>\n",
              "      <td>2008</td>\n",
              "      <td>0</td>\n",
              "      <td>88102</td>\n",
              "      <td>0</td>\n",
              "      <td>46.3</td>\n",
              "      <td>1.2</td>\n",
              "      <td>165</td>\n",
              "    </tr>\n",
              "    <tr>\n",
              "      <th>15154</th>\n",
              "      <td>2009</td>\n",
              "      <td>0</td>\n",
              "      <td>70000</td>\n",
              "      <td>0</td>\n",
              "      <td>42.0</td>\n",
              "      <td>1.4</td>\n",
              "      <td>165</td>\n",
              "    </tr>\n",
              "    <tr>\n",
              "      <th>15155</th>\n",
              "      <td>2006</td>\n",
              "      <td>0</td>\n",
              "      <td>82704</td>\n",
              "      <td>0</td>\n",
              "      <td>46.3</td>\n",
              "      <td>1.2</td>\n",
              "      <td>165</td>\n",
              "    </tr>\n",
              "    <tr>\n",
              "      <th>15156</th>\n",
              "      <td>2007</td>\n",
              "      <td>0</td>\n",
              "      <td>74000</td>\n",
              "      <td>0</td>\n",
              "      <td>46.3</td>\n",
              "      <td>1.2</td>\n",
              "      <td>165</td>\n",
              "    </tr>\n",
              "  </tbody>\n",
              "</table>\n",
              "<p>101468 rows × 7 columns</p>\n",
              "</div>\n",
              "      <button class=\"colab-df-convert\" onclick=\"convertToInteractive('df-cddb6ef5-5c04-4292-b559-5b005f2e211b')\"\n",
              "              title=\"Convert this dataframe to an interactive table.\"\n",
              "              style=\"display:none;\">\n",
              "        \n",
              "  <svg xmlns=\"http://www.w3.org/2000/svg\" height=\"24px\"viewBox=\"0 0 24 24\"\n",
              "       width=\"24px\">\n",
              "    <path d=\"M0 0h24v24H0V0z\" fill=\"none\"/>\n",
              "    <path d=\"M18.56 5.44l.94 2.06.94-2.06 2.06-.94-2.06-.94-.94-2.06-.94 2.06-2.06.94zm-11 1L8.5 8.5l.94-2.06 2.06-.94-2.06-.94L8.5 2.5l-.94 2.06-2.06.94zm10 10l.94 2.06.94-2.06 2.06-.94-2.06-.94-.94-2.06-.94 2.06-2.06.94z\"/><path d=\"M17.41 7.96l-1.37-1.37c-.4-.4-.92-.59-1.43-.59-.52 0-1.04.2-1.43.59L10.3 9.45l-7.72 7.72c-.78.78-.78 2.05 0 2.83L4 21.41c.39.39.9.59 1.41.59.51 0 1.02-.2 1.41-.59l7.78-7.78 2.81-2.81c.8-.78.8-2.07 0-2.86zM5.41 20L4 18.59l7.72-7.72 1.47 1.35L5.41 20z\"/>\n",
              "  </svg>\n",
              "      </button>\n",
              "      \n",
              "  <style>\n",
              "    .colab-df-container {\n",
              "      display:flex;\n",
              "      flex-wrap:wrap;\n",
              "      gap: 12px;\n",
              "    }\n",
              "\n",
              "    .colab-df-convert {\n",
              "      background-color: #E8F0FE;\n",
              "      border: none;\n",
              "      border-radius: 50%;\n",
              "      cursor: pointer;\n",
              "      display: none;\n",
              "      fill: #1967D2;\n",
              "      height: 32px;\n",
              "      padding: 0 0 0 0;\n",
              "      width: 32px;\n",
              "    }\n",
              "\n",
              "    .colab-df-convert:hover {\n",
              "      background-color: #E2EBFA;\n",
              "      box-shadow: 0px 1px 2px rgba(60, 64, 67, 0.3), 0px 1px 3px 1px rgba(60, 64, 67, 0.15);\n",
              "      fill: #174EA6;\n",
              "    }\n",
              "\n",
              "    [theme=dark] .colab-df-convert {\n",
              "      background-color: #3B4455;\n",
              "      fill: #D2E3FC;\n",
              "    }\n",
              "\n",
              "    [theme=dark] .colab-df-convert:hover {\n",
              "      background-color: #434B5C;\n",
              "      box-shadow: 0px 1px 3px 1px rgba(0, 0, 0, 0.15);\n",
              "      filter: drop-shadow(0px 1px 2px rgba(0, 0, 0, 0.3));\n",
              "      fill: #FFFFFF;\n",
              "    }\n",
              "  </style>\n",
              "\n",
              "      <script>\n",
              "        const buttonEl =\n",
              "          document.querySelector('#df-cddb6ef5-5c04-4292-b559-5b005f2e211b button.colab-df-convert');\n",
              "        buttonEl.style.display =\n",
              "          google.colab.kernel.accessAllowed ? 'block' : 'none';\n",
              "\n",
              "        async function convertToInteractive(key) {\n",
              "          const element = document.querySelector('#df-cddb6ef5-5c04-4292-b559-5b005f2e211b');\n",
              "          const dataTable =\n",
              "            await google.colab.kernel.invokeFunction('convertToInteractive',\n",
              "                                                     [key], {});\n",
              "          if (!dataTable) return;\n",
              "\n",
              "          const docLinkHtml = 'Like what you see? Visit the ' +\n",
              "            '<a target=\"_blank\" href=https://colab.research.google.com/notebooks/data_table.ipynb>data table notebook</a>'\n",
              "            + ' to learn more about interactive tables.';\n",
              "          element.innerHTML = '';\n",
              "          dataTable['output_type'] = 'display_data';\n",
              "          await google.colab.output.renderOutput(dataTable, element);\n",
              "          const docLink = document.createElement('div');\n",
              "          docLink.innerHTML = docLinkHtml;\n",
              "          element.appendChild(docLink);\n",
              "        }\n",
              "      </script>\n",
              "    </div>\n",
              "  </div>\n",
              "  "
            ]
          },
          "metadata": {},
          "execution_count": 56
        }
      ],
      "source": [
        "New_Model"
      ]
    },
    {
      "cell_type": "code",
      "execution_count": 57,
      "metadata": {
        "colab": {
          "base_uri": "https://localhost:8080/",
          "height": 423
        },
        "id": "QCJS-o7Hfa2C",
        "outputId": "fc61afdd-a5ce-4006-83b3-4e48d3fb26c5"
      },
      "outputs": [
        {
          "output_type": "execute_result",
          "data": {
            "text/plain": [
              "       Brands-model  year transmission  mileage  fuelType   mpg  engineSize\n",
              "0                 0  2017            0    15735         0  55.4         1.4\n",
              "1                 5  2016            1    36203         1  64.2         2.0\n",
              "2                 0  2016            0    29946         0  55.4         1.4\n",
              "3                 3  2017            1    25952         1  67.3         2.0\n",
              "4                 2  2019            0     1998         0  49.6         1.0\n",
              "...             ...   ...          ...      ...       ...   ...         ...\n",
              "15152           164  2012            0    74000         1  58.9         2.0\n",
              "15153           165  2008            0    88102         0  46.3         1.2\n",
              "15154           165  2009            0    70000         0  42.0         1.4\n",
              "15155           165  2006            0    82704         0  46.3         1.2\n",
              "15156           165  2007            0    74000         0  46.3         1.2\n",
              "\n",
              "[101468 rows x 7 columns]"
            ],
            "text/html": [
              "\n",
              "  <div id=\"df-4ed69f6a-48a1-4397-b3dc-a33b31a0b2c7\">\n",
              "    <div class=\"colab-df-container\">\n",
              "      <div>\n",
              "<style scoped>\n",
              "    .dataframe tbody tr th:only-of-type {\n",
              "        vertical-align: middle;\n",
              "    }\n",
              "\n",
              "    .dataframe tbody tr th {\n",
              "        vertical-align: top;\n",
              "    }\n",
              "\n",
              "    .dataframe thead th {\n",
              "        text-align: right;\n",
              "    }\n",
              "</style>\n",
              "<table border=\"1\" class=\"dataframe\">\n",
              "  <thead>\n",
              "    <tr style=\"text-align: right;\">\n",
              "      <th></th>\n",
              "      <th>Brands-model</th>\n",
              "      <th>year</th>\n",
              "      <th>transmission</th>\n",
              "      <th>mileage</th>\n",
              "      <th>fuelType</th>\n",
              "      <th>mpg</th>\n",
              "      <th>engineSize</th>\n",
              "    </tr>\n",
              "  </thead>\n",
              "  <tbody>\n",
              "    <tr>\n",
              "      <th>0</th>\n",
              "      <td>0</td>\n",
              "      <td>2017</td>\n",
              "      <td>0</td>\n",
              "      <td>15735</td>\n",
              "      <td>0</td>\n",
              "      <td>55.4</td>\n",
              "      <td>1.4</td>\n",
              "    </tr>\n",
              "    <tr>\n",
              "      <th>1</th>\n",
              "      <td>5</td>\n",
              "      <td>2016</td>\n",
              "      <td>1</td>\n",
              "      <td>36203</td>\n",
              "      <td>1</td>\n",
              "      <td>64.2</td>\n",
              "      <td>2.0</td>\n",
              "    </tr>\n",
              "    <tr>\n",
              "      <th>2</th>\n",
              "      <td>0</td>\n",
              "      <td>2016</td>\n",
              "      <td>0</td>\n",
              "      <td>29946</td>\n",
              "      <td>0</td>\n",
              "      <td>55.4</td>\n",
              "      <td>1.4</td>\n",
              "    </tr>\n",
              "    <tr>\n",
              "      <th>3</th>\n",
              "      <td>3</td>\n",
              "      <td>2017</td>\n",
              "      <td>1</td>\n",
              "      <td>25952</td>\n",
              "      <td>1</td>\n",
              "      <td>67.3</td>\n",
              "      <td>2.0</td>\n",
              "    </tr>\n",
              "    <tr>\n",
              "      <th>4</th>\n",
              "      <td>2</td>\n",
              "      <td>2019</td>\n",
              "      <td>0</td>\n",
              "      <td>1998</td>\n",
              "      <td>0</td>\n",
              "      <td>49.6</td>\n",
              "      <td>1.0</td>\n",
              "    </tr>\n",
              "    <tr>\n",
              "      <th>...</th>\n",
              "      <td>...</td>\n",
              "      <td>...</td>\n",
              "      <td>...</td>\n",
              "      <td>...</td>\n",
              "      <td>...</td>\n",
              "      <td>...</td>\n",
              "      <td>...</td>\n",
              "    </tr>\n",
              "    <tr>\n",
              "      <th>15152</th>\n",
              "      <td>164</td>\n",
              "      <td>2012</td>\n",
              "      <td>0</td>\n",
              "      <td>74000</td>\n",
              "      <td>1</td>\n",
              "      <td>58.9</td>\n",
              "      <td>2.0</td>\n",
              "    </tr>\n",
              "    <tr>\n",
              "      <th>15153</th>\n",
              "      <td>165</td>\n",
              "      <td>2008</td>\n",
              "      <td>0</td>\n",
              "      <td>88102</td>\n",
              "      <td>0</td>\n",
              "      <td>46.3</td>\n",
              "      <td>1.2</td>\n",
              "    </tr>\n",
              "    <tr>\n",
              "      <th>15154</th>\n",
              "      <td>165</td>\n",
              "      <td>2009</td>\n",
              "      <td>0</td>\n",
              "      <td>70000</td>\n",
              "      <td>0</td>\n",
              "      <td>42.0</td>\n",
              "      <td>1.4</td>\n",
              "    </tr>\n",
              "    <tr>\n",
              "      <th>15155</th>\n",
              "      <td>165</td>\n",
              "      <td>2006</td>\n",
              "      <td>0</td>\n",
              "      <td>82704</td>\n",
              "      <td>0</td>\n",
              "      <td>46.3</td>\n",
              "      <td>1.2</td>\n",
              "    </tr>\n",
              "    <tr>\n",
              "      <th>15156</th>\n",
              "      <td>165</td>\n",
              "      <td>2007</td>\n",
              "      <td>0</td>\n",
              "      <td>74000</td>\n",
              "      <td>0</td>\n",
              "      <td>46.3</td>\n",
              "      <td>1.2</td>\n",
              "    </tr>\n",
              "  </tbody>\n",
              "</table>\n",
              "<p>101468 rows × 7 columns</p>\n",
              "</div>\n",
              "      <button class=\"colab-df-convert\" onclick=\"convertToInteractive('df-4ed69f6a-48a1-4397-b3dc-a33b31a0b2c7')\"\n",
              "              title=\"Convert this dataframe to an interactive table.\"\n",
              "              style=\"display:none;\">\n",
              "        \n",
              "  <svg xmlns=\"http://www.w3.org/2000/svg\" height=\"24px\"viewBox=\"0 0 24 24\"\n",
              "       width=\"24px\">\n",
              "    <path d=\"M0 0h24v24H0V0z\" fill=\"none\"/>\n",
              "    <path d=\"M18.56 5.44l.94 2.06.94-2.06 2.06-.94-2.06-.94-.94-2.06-.94 2.06-2.06.94zm-11 1L8.5 8.5l.94-2.06 2.06-.94-2.06-.94L8.5 2.5l-.94 2.06-2.06.94zm10 10l.94 2.06.94-2.06 2.06-.94-2.06-.94-.94-2.06-.94 2.06-2.06.94z\"/><path d=\"M17.41 7.96l-1.37-1.37c-.4-.4-.92-.59-1.43-.59-.52 0-1.04.2-1.43.59L10.3 9.45l-7.72 7.72c-.78.78-.78 2.05 0 2.83L4 21.41c.39.39.9.59 1.41.59.51 0 1.02-.2 1.41-.59l7.78-7.78 2.81-2.81c.8-.78.8-2.07 0-2.86zM5.41 20L4 18.59l7.72-7.72 1.47 1.35L5.41 20z\"/>\n",
              "  </svg>\n",
              "      </button>\n",
              "      \n",
              "  <style>\n",
              "    .colab-df-container {\n",
              "      display:flex;\n",
              "      flex-wrap:wrap;\n",
              "      gap: 12px;\n",
              "    }\n",
              "\n",
              "    .colab-df-convert {\n",
              "      background-color: #E8F0FE;\n",
              "      border: none;\n",
              "      border-radius: 50%;\n",
              "      cursor: pointer;\n",
              "      display: none;\n",
              "      fill: #1967D2;\n",
              "      height: 32px;\n",
              "      padding: 0 0 0 0;\n",
              "      width: 32px;\n",
              "    }\n",
              "\n",
              "    .colab-df-convert:hover {\n",
              "      background-color: #E2EBFA;\n",
              "      box-shadow: 0px 1px 2px rgba(60, 64, 67, 0.3), 0px 1px 3px 1px rgba(60, 64, 67, 0.15);\n",
              "      fill: #174EA6;\n",
              "    }\n",
              "\n",
              "    [theme=dark] .colab-df-convert {\n",
              "      background-color: #3B4455;\n",
              "      fill: #D2E3FC;\n",
              "    }\n",
              "\n",
              "    [theme=dark] .colab-df-convert:hover {\n",
              "      background-color: #434B5C;\n",
              "      box-shadow: 0px 1px 3px 1px rgba(0, 0, 0, 0.15);\n",
              "      filter: drop-shadow(0px 1px 2px rgba(0, 0, 0, 0.3));\n",
              "      fill: #FFFFFF;\n",
              "    }\n",
              "  </style>\n",
              "\n",
              "      <script>\n",
              "        const buttonEl =\n",
              "          document.querySelector('#df-4ed69f6a-48a1-4397-b3dc-a33b31a0b2c7 button.colab-df-convert');\n",
              "        buttonEl.style.display =\n",
              "          google.colab.kernel.accessAllowed ? 'block' : 'none';\n",
              "\n",
              "        async function convertToInteractive(key) {\n",
              "          const element = document.querySelector('#df-4ed69f6a-48a1-4397-b3dc-a33b31a0b2c7');\n",
              "          const dataTable =\n",
              "            await google.colab.kernel.invokeFunction('convertToInteractive',\n",
              "                                                     [key], {});\n",
              "          if (!dataTable) return;\n",
              "\n",
              "          const docLinkHtml = 'Like what you see? Visit the ' +\n",
              "            '<a target=\"_blank\" href=https://colab.research.google.com/notebooks/data_table.ipynb>data table notebook</a>'\n",
              "            + ' to learn more about interactive tables.';\n",
              "          element.innerHTML = '';\n",
              "          dataTable['output_type'] = 'display_data';\n",
              "          await google.colab.output.renderOutput(dataTable, element);\n",
              "          const docLink = document.createElement('div');\n",
              "          docLink.innerHTML = docLinkHtml;\n",
              "          element.appendChild(docLink);\n",
              "        }\n",
              "      </script>\n",
              "    </div>\n",
              "  </div>\n",
              "  "
            ]
          },
          "metadata": {},
          "execution_count": 57
        }
      ],
      "source": [
        "one_column=New_Model.pop('Brands-model')\n",
        "New_Model.insert(0,'Brands-model',one_column)\n",
        "New_Model"
      ]
    },
    {
      "cell_type": "code",
      "execution_count": 58,
      "metadata": {
        "colab": {
          "base_uri": "https://localhost:8080/",
          "height": 206
        },
        "id": "2Zbh0T4XgBXE",
        "outputId": "9e95de9d-9bb9-4af9-a4c1-b2c870778a95"
      },
      "outputs": [
        {
          "output_type": "execute_result",
          "data": {
            "text/plain": [
              "   Brands-model  year transmission  mileage  fuelType   mpg  engineSize\n",
              "0             0  2017            0    15735         0  55.4         1.4\n",
              "1             5  2016            1    36203         1  64.2         2.0\n",
              "2             0  2016            0    29946         0  55.4         1.4\n",
              "3             3  2017            1    25952         1  67.3         2.0\n",
              "4             2  2019            0     1998         0  49.6         1.0"
            ],
            "text/html": [
              "\n",
              "  <div id=\"df-99109661-3d8a-47f2-878e-5f9224e99d54\">\n",
              "    <div class=\"colab-df-container\">\n",
              "      <div>\n",
              "<style scoped>\n",
              "    .dataframe tbody tr th:only-of-type {\n",
              "        vertical-align: middle;\n",
              "    }\n",
              "\n",
              "    .dataframe tbody tr th {\n",
              "        vertical-align: top;\n",
              "    }\n",
              "\n",
              "    .dataframe thead th {\n",
              "        text-align: right;\n",
              "    }\n",
              "</style>\n",
              "<table border=\"1\" class=\"dataframe\">\n",
              "  <thead>\n",
              "    <tr style=\"text-align: right;\">\n",
              "      <th></th>\n",
              "      <th>Brands-model</th>\n",
              "      <th>year</th>\n",
              "      <th>transmission</th>\n",
              "      <th>mileage</th>\n",
              "      <th>fuelType</th>\n",
              "      <th>mpg</th>\n",
              "      <th>engineSize</th>\n",
              "    </tr>\n",
              "  </thead>\n",
              "  <tbody>\n",
              "    <tr>\n",
              "      <th>0</th>\n",
              "      <td>0</td>\n",
              "      <td>2017</td>\n",
              "      <td>0</td>\n",
              "      <td>15735</td>\n",
              "      <td>0</td>\n",
              "      <td>55.4</td>\n",
              "      <td>1.4</td>\n",
              "    </tr>\n",
              "    <tr>\n",
              "      <th>1</th>\n",
              "      <td>5</td>\n",
              "      <td>2016</td>\n",
              "      <td>1</td>\n",
              "      <td>36203</td>\n",
              "      <td>1</td>\n",
              "      <td>64.2</td>\n",
              "      <td>2.0</td>\n",
              "    </tr>\n",
              "    <tr>\n",
              "      <th>2</th>\n",
              "      <td>0</td>\n",
              "      <td>2016</td>\n",
              "      <td>0</td>\n",
              "      <td>29946</td>\n",
              "      <td>0</td>\n",
              "      <td>55.4</td>\n",
              "      <td>1.4</td>\n",
              "    </tr>\n",
              "    <tr>\n",
              "      <th>3</th>\n",
              "      <td>3</td>\n",
              "      <td>2017</td>\n",
              "      <td>1</td>\n",
              "      <td>25952</td>\n",
              "      <td>1</td>\n",
              "      <td>67.3</td>\n",
              "      <td>2.0</td>\n",
              "    </tr>\n",
              "    <tr>\n",
              "      <th>4</th>\n",
              "      <td>2</td>\n",
              "      <td>2019</td>\n",
              "      <td>0</td>\n",
              "      <td>1998</td>\n",
              "      <td>0</td>\n",
              "      <td>49.6</td>\n",
              "      <td>1.0</td>\n",
              "    </tr>\n",
              "  </tbody>\n",
              "</table>\n",
              "</div>\n",
              "      <button class=\"colab-df-convert\" onclick=\"convertToInteractive('df-99109661-3d8a-47f2-878e-5f9224e99d54')\"\n",
              "              title=\"Convert this dataframe to an interactive table.\"\n",
              "              style=\"display:none;\">\n",
              "        \n",
              "  <svg xmlns=\"http://www.w3.org/2000/svg\" height=\"24px\"viewBox=\"0 0 24 24\"\n",
              "       width=\"24px\">\n",
              "    <path d=\"M0 0h24v24H0V0z\" fill=\"none\"/>\n",
              "    <path d=\"M18.56 5.44l.94 2.06.94-2.06 2.06-.94-2.06-.94-.94-2.06-.94 2.06-2.06.94zm-11 1L8.5 8.5l.94-2.06 2.06-.94-2.06-.94L8.5 2.5l-.94 2.06-2.06.94zm10 10l.94 2.06.94-2.06 2.06-.94-2.06-.94-.94-2.06-.94 2.06-2.06.94z\"/><path d=\"M17.41 7.96l-1.37-1.37c-.4-.4-.92-.59-1.43-.59-.52 0-1.04.2-1.43.59L10.3 9.45l-7.72 7.72c-.78.78-.78 2.05 0 2.83L4 21.41c.39.39.9.59 1.41.59.51 0 1.02-.2 1.41-.59l7.78-7.78 2.81-2.81c.8-.78.8-2.07 0-2.86zM5.41 20L4 18.59l7.72-7.72 1.47 1.35L5.41 20z\"/>\n",
              "  </svg>\n",
              "      </button>\n",
              "      \n",
              "  <style>\n",
              "    .colab-df-container {\n",
              "      display:flex;\n",
              "      flex-wrap:wrap;\n",
              "      gap: 12px;\n",
              "    }\n",
              "\n",
              "    .colab-df-convert {\n",
              "      background-color: #E8F0FE;\n",
              "      border: none;\n",
              "      border-radius: 50%;\n",
              "      cursor: pointer;\n",
              "      display: none;\n",
              "      fill: #1967D2;\n",
              "      height: 32px;\n",
              "      padding: 0 0 0 0;\n",
              "      width: 32px;\n",
              "    }\n",
              "\n",
              "    .colab-df-convert:hover {\n",
              "      background-color: #E2EBFA;\n",
              "      box-shadow: 0px 1px 2px rgba(60, 64, 67, 0.3), 0px 1px 3px 1px rgba(60, 64, 67, 0.15);\n",
              "      fill: #174EA6;\n",
              "    }\n",
              "\n",
              "    [theme=dark] .colab-df-convert {\n",
              "      background-color: #3B4455;\n",
              "      fill: #D2E3FC;\n",
              "    }\n",
              "\n",
              "    [theme=dark] .colab-df-convert:hover {\n",
              "      background-color: #434B5C;\n",
              "      box-shadow: 0px 1px 3px 1px rgba(0, 0, 0, 0.15);\n",
              "      filter: drop-shadow(0px 1px 2px rgba(0, 0, 0, 0.3));\n",
              "      fill: #FFFFFF;\n",
              "    }\n",
              "  </style>\n",
              "\n",
              "      <script>\n",
              "        const buttonEl =\n",
              "          document.querySelector('#df-99109661-3d8a-47f2-878e-5f9224e99d54 button.colab-df-convert');\n",
              "        buttonEl.style.display =\n",
              "          google.colab.kernel.accessAllowed ? 'block' : 'none';\n",
              "\n",
              "        async function convertToInteractive(key) {\n",
              "          const element = document.querySelector('#df-99109661-3d8a-47f2-878e-5f9224e99d54');\n",
              "          const dataTable =\n",
              "            await google.colab.kernel.invokeFunction('convertToInteractive',\n",
              "                                                     [key], {});\n",
              "          if (!dataTable) return;\n",
              "\n",
              "          const docLinkHtml = 'Like what you see? Visit the ' +\n",
              "            '<a target=\"_blank\" href=https://colab.research.google.com/notebooks/data_table.ipynb>data table notebook</a>'\n",
              "            + ' to learn more about interactive tables.';\n",
              "          element.innerHTML = '';\n",
              "          dataTable['output_type'] = 'display_data';\n",
              "          await google.colab.output.renderOutput(dataTable, element);\n",
              "          const docLink = document.createElement('div');\n",
              "          docLink.innerHTML = docLinkHtml;\n",
              "          element.appendChild(docLink);\n",
              "        }\n",
              "      </script>\n",
              "    </div>\n",
              "  </div>\n",
              "  "
            ]
          },
          "metadata": {},
          "execution_count": 58
        }
      ],
      "source": [
        "New_Model.head()"
      ]
    },
    {
      "cell_type": "code",
      "execution_count": 59,
      "metadata": {
        "colab": {
          "base_uri": "https://localhost:8080/"
        },
        "id": "HcMIk42Jkidv",
        "outputId": "0d771cef-0c79-4a45-986f-f5105e34a1c7"
      },
      "outputs": [
        {
          "output_type": "stream",
          "name": "stdout",
          "text": [
            "<class 'pandas.core.frame.DataFrame'>\n",
            "Int64Index: 101468 entries, 0 to 15156\n",
            "Data columns (total 7 columns):\n",
            " #   Column        Non-Null Count   Dtype  \n",
            "---  ------        --------------   -----  \n",
            " 0   Brands-model  101468 non-null  int64  \n",
            " 1   year          101468 non-null  int64  \n",
            " 2   transmission  101468 non-null  object \n",
            " 3   mileage       101468 non-null  int64  \n",
            " 4   fuelType      101468 non-null  int64  \n",
            " 5   mpg           101468 non-null  float64\n",
            " 6   engineSize    101468 non-null  float64\n",
            "dtypes: float64(2), int64(4), object(1)\n",
            "memory usage: 10.2+ MB\n"
          ]
        }
      ],
      "source": [
        "New_Model.info()"
      ]
    },
    {
      "cell_type": "code",
      "execution_count": 60,
      "metadata": {
        "id": "rM-EOD3Ck8ux"
      },
      "outputs": [],
      "source": [
        "New_Model['transmission'] = New_Model['transmission'].astype(float, errors = 'raise')"
      ]
    },
    {
      "cell_type": "code",
      "execution_count": 61,
      "metadata": {
        "colab": {
          "base_uri": "https://localhost:8080/"
        },
        "id": "zlSf8I_3lggn",
        "outputId": "f226d0fe-f183-46ec-92b6-776f00bb7005"
      },
      "outputs": [
        {
          "output_type": "execute_result",
          "data": {
            "text/plain": [
              "array([0., 1., 2.])"
            ]
          },
          "metadata": {},
          "execution_count": 61
        }
      ],
      "source": [
        "New_Model['transmission'].unique()"
      ]
    },
    {
      "cell_type": "code",
      "execution_count": 62,
      "metadata": {
        "colab": {
          "base_uri": "https://localhost:8080/"
        },
        "id": "nJ6KQUPRlsw7",
        "outputId": "f61fff82-351f-4f56-918a-66e0a6cf17a6"
      },
      "outputs": [
        {
          "output_type": "execute_result",
          "data": {
            "text/plain": [
              "Brands-model    0\n",
              "year            0\n",
              "transmission    0\n",
              "mileage         0\n",
              "fuelType        0\n",
              "mpg             0\n",
              "engineSize      0\n",
              "dtype: int64"
            ]
          },
          "metadata": {},
          "execution_count": 62
        }
      ],
      "source": [
        "New_Model.loc[New_Model['transmission']=='Other'].count()"
      ]
    },
    {
      "cell_type": "code",
      "execution_count": 63,
      "metadata": {
        "id": "2M0T6j1uZ7wP"
      },
      "outputs": [],
      "source": [
        "New_Model_10=New_Model.sample(frac=0.1)"
      ]
    },
    {
      "cell_type": "code",
      "execution_count": 64,
      "metadata": {
        "colab": {
          "base_uri": "https://localhost:8080/"
        },
        "id": "0mNRHkmgapX-",
        "outputId": "394df23e-353b-4a0a-ab25-9798da970b44"
      },
      "outputs": [
        {
          "output_type": "execute_result",
          "data": {
            "text/plain": [
              "(10147, 7)"
            ]
          },
          "metadata": {},
          "execution_count": 64
        }
      ],
      "source": [
        "New_Model_10.shape"
      ]
    },
    {
      "cell_type": "markdown",
      "metadata": {
        "id": "4ui72Uk3L6oV"
      },
      "source": [
        "# Different Regression Model's #"
      ]
    },
    {
      "cell_type": "code",
      "execution_count": 65,
      "metadata": {
        "id": "eW-BoTWOoyk3"
      },
      "outputs": [],
      "source": [
        "from sklearn.model_selection import train_test_split #ready to train the model"
      ]
    },
    {
      "cell_type": "code",
      "execution_count": 66,
      "metadata": {
        "id": "5rqTUmHCoYKj"
      },
      "outputs": [],
      "source": [
        "#random state for reproducability "
      ]
    },
    {
      "cell_type": "code",
      "execution_count": 67,
      "metadata": {
        "id": "KMtSGrHzn-Tw"
      },
      "outputs": [],
      "source": [
        "from sklearn.linear_model import LogisticRegression "
      ]
    },
    {
      "cell_type": "code",
      "execution_count": 68,
      "metadata": {
        "colab": {
          "base_uri": "https://localhost:8080/"
        },
        "id": "njrAPAJ1iEK1",
        "outputId": "c964e4a4-e1a1-4ea8-e231-ab57cbd399c1"
      },
      "outputs": [
        {
          "output_type": "stream",
          "name": "stderr",
          "text": [
            "/usr/local/lib/python3.7/dist-packages/statsmodels/tools/_testing.py:19: FutureWarning:\n",
            "\n",
            "pandas.util.testing is deprecated. Use the functions in the public API at pandas.testing instead.\n",
            "\n"
          ]
        }
      ],
      "source": [
        "from sklearn.model_selection import train_test_split\n",
        "from sklearn.linear_model import LinearRegression, Lasso, Ridge, LassoCV,BayesianRidge\n",
        "import statsmodels.formula.api as sm \n",
        "import matplotlib.pylab as plt"
      ]
    },
    {
      "cell_type": "code",
      "execution_count": 69,
      "metadata": {
        "colab": {
          "base_uri": "https://localhost:8080/"
        },
        "id": "WGrCCGfAiM5v",
        "outputId": "659b21b5-f314-42c4-f7c0-46bf59db7251"
      },
      "outputs": [
        {
          "output_type": "stream",
          "name": "stdout",
          "text": [
            "Collecting dmba\n",
            "  Downloading dmba-0.1.0-py3-none-any.whl (11.8 MB)\n",
            "\u001b[K     |████████████████████████████████| 11.8 MB 5.2 MB/s \n",
            "\u001b[?25hInstalling collected packages: dmba\n",
            "Successfully installed dmba-0.1.0\n"
          ]
        }
      ],
      "source": [
        "pip install dmba"
      ]
    },
    {
      "cell_type": "code",
      "execution_count": 70,
      "metadata": {
        "colab": {
          "base_uri": "https://localhost:8080/"
        },
        "id": "I23bqrtfiTO6",
        "outputId": "70086002-3708-4ec4-a63b-56d0c89f7b0d"
      },
      "outputs": [
        {
          "output_type": "stream",
          "name": "stdout",
          "text": [
            "no display found. Using non-interactive Agg backend\n"
          ]
        }
      ],
      "source": [
        "import dmba"
      ]
    },
    {
      "cell_type": "code",
      "execution_count": 71,
      "metadata": {
        "id": "kcgRsXPCiVnf"
      },
      "outputs": [],
      "source": [
        "from dmba import regressionSummary, exhaustive_search\n",
        "from dmba import backward_elimination, forward_selection, stepwise_selection \n",
        "from dmba import adjusted_r2_score, AIC_score, BIC_score"
      ]
    },
    {
      "cell_type": "code",
      "execution_count": 72,
      "metadata": {
        "id": "lQ0geSUvrn3V"
      },
      "outputs": [],
      "source": [
        "from sklearn.preprocessing import StandardScaler"
      ]
    },
    {
      "cell_type": "code",
      "execution_count": 73,
      "metadata": {
        "id": "nPP9RqfGiA00"
      },
      "outputs": [],
      "source": [
        "scaler = StandardScaler()\n",
        "\n",
        "New_Model[['Brands-model','year',\t'transmission',\t'mileage',\t'fuelType',\t'mpg',\t'engineSize']] = scaler.fit_transform(New_Model[['Brands-model','year',\t'transmission',\t'mileage',\t'fuelType',\t'mpg',\t'engineSize']]) \n",
        "New_Model[['Brands-model','year',\t'transmission',\t'mileage',\t'fuelType',\t'mpg',\t'engineSize']] = scaler.fit_transform(New_Model[['Brands-model','year',\t'transmission',\t'mileage',\t'fuelType',\t'mpg',\t'engineSize']]) "
      ]
    },
    {
      "cell_type": "code",
      "execution_count": 74,
      "metadata": {
        "colab": {
          "base_uri": "https://localhost:8080/"
        },
        "id": "uNJz3GdMsTvF",
        "outputId": "7ce80602-6ec2-488c-e9b2-cc86e94ec26c"
      },
      "outputs": [
        {
          "output_type": "stream",
          "name": "stderr",
          "text": [
            "/usr/local/lib/python3.7/dist-packages/pandas/core/frame.py:3678: SettingWithCopyWarning:\n",
            "\n",
            "\n",
            "A value is trying to be set on a copy of a slice from a DataFrame.\n",
            "Try using .loc[row_indexer,col_indexer] = value instead\n",
            "\n",
            "See the caveats in the documentation: https://pandas.pydata.org/pandas-docs/stable/user_guide/indexing.html#returning-a-view-versus-a-copy\n",
            "\n",
            "/usr/local/lib/python3.7/dist-packages/pandas/core/frame.py:3678: SettingWithCopyWarning:\n",
            "\n",
            "\n",
            "A value is trying to be set on a copy of a slice from a DataFrame.\n",
            "Try using .loc[row_indexer,col_indexer] = value instead\n",
            "\n",
            "See the caveats in the documentation: https://pandas.pydata.org/pandas-docs/stable/user_guide/indexing.html#returning-a-view-versus-a-copy\n",
            "\n"
          ]
        }
      ],
      "source": [
        "scaler = StandardScaler()\n",
        "cars_new_updated[['price']] = scaler.fit_transform(cars_new_updated[['price']]) \n",
        "cars_new_updated[['price']] = scaler.fit_transform(cars_new_updated[['price']]) "
      ]
    },
    {
      "cell_type": "code",
      "execution_count": 75,
      "metadata": {
        "id": "qBqkGdYwr4tH"
      },
      "outputs": [],
      "source": [
        "X = New_Model.copy()\n",
        "y =cars_new_updated['price']\n",
        "#cars_new_updated_10= cars_new_updated.sample(frac=0.1)"
      ]
    },
    {
      "cell_type": "code",
      "execution_count": 76,
      "metadata": {
        "id": "Q34r3ewsr4SL"
      },
      "outputs": [],
      "source": [
        "X_train,X_test,y_train,y_test=train_test_split(X,y,test_size=0.25,random_state=9) "
      ]
    },
    {
      "cell_type": "markdown",
      "metadata": {
        "id": "ZqYCZInkL6oZ"
      },
      "source": [
        "# Linear regression model#"
      ]
    },
    {
      "cell_type": "code",
      "execution_count": 77,
      "metadata": {
        "colab": {
          "base_uri": "https://localhost:8080/"
        },
        "id": "ya3Jd5VKuiM-",
        "outputId": "b8862057-7c3f-4986-dbf4-c82618606609"
      },
      "outputs": [
        {
          "output_type": "stream",
          "name": "stdout",
          "text": [
            "      Predictor  coefficient\n",
            "0  Brands-model    -0.090622\n",
            "1          year     0.323148\n",
            "2  transmission     0.166803\n",
            "3       mileage    -0.213877\n",
            "4      fuelType    -0.007154\n",
            "5           mpg    -0.057723\n",
            "6    engineSize     0.556149\n",
            "\n",
            "Regression statistics\n",
            "\n",
            "                      Mean Error (ME) : 0.0000\n",
            "       Root Mean Squared Error (RMSE) : 0.5106\n",
            "            Mean Absolute Error (MAE) : 0.3334\n",
            "          Mean Percentage Error (MPE) : 26.6553\n",
            "Mean Absolute Percentage Error (MAPE) : 188.4087\n"
          ]
        }
      ],
      "source": [
        "model = LinearRegression() \n",
        "model.fit(X_train, y_train)\n",
        "# print coefficients\n",
        "print(pd.DataFrame({'Predictor': X.columns, 'coefficient': model.coef_}))\n",
        "# print performance measures (training data) \n",
        "regressionSummary(y_train, model.predict(X_train))"
      ]
    },
    {
      "cell_type": "code",
      "execution_count": 78,
      "metadata": {
        "colab": {
          "base_uri": "https://localhost:8080/"
        },
        "id": "MHirFuh9bi_9",
        "outputId": "5c74726f-6d41-42fa-9565-8732330d9942"
      },
      "outputs": [
        {
          "output_type": "stream",
          "name": "stdout",
          "text": [
            "       Predicted    Actual  Residual\n",
            "3012    0.164989  0.095246 -0.069743\n",
            "3227    0.837995  0.879615  0.041620\n",
            "104     0.277510  0.545785  0.268275\n",
            "3154    0.401836  0.238273 -0.163563\n",
            "1607   -0.564404 -0.847029 -0.282625\n",
            "2227    1.384726  1.005332 -0.379393\n",
            "7252   -1.034300 -0.987728  0.046572\n",
            "7118    0.961913  0.343240 -0.618673\n",
            "16717  -0.738551 -0.684568  0.053983\n",
            "11228  -0.693390 -0.775263 -0.081873\n",
            "2758    0.952011  0.349009 -0.603002\n",
            "4169    0.522964 -0.260954 -0.783918\n",
            "1884    0.100053  0.043724 -0.056329\n",
            "3344   -0.724675 -0.582941  0.141734\n",
            "8136   -0.322070 -0.416836 -0.094766\n",
            "3608    0.936747  1.511847  0.575100\n",
            "3116   -0.294934 -0.070454  0.224479\n",
            "1593   -1.357913 -1.119417  0.238495\n",
            "7186   -0.981261 -0.756031  0.225230\n",
            "9903    0.190796  0.226835  0.036039\n",
            "\n",
            "Regression statistics\n",
            "\n",
            "                      Mean Error (ME) : 0.0053\n",
            "       Root Mean Squared Error (RMSE) : 0.5214\n",
            "            Mean Absolute Error (MAE) : 0.3375\n",
            "          Mean Percentage Error (MPE) : 24.7412\n",
            "Mean Absolute Percentage Error (MAPE) : 173.1875\n"
          ]
        }
      ],
      "source": [
        "# Use predict() to make predictions on a new set \n",
        "model_pred = model.predict(X_test)\n",
        "result = pd.DataFrame({'Predicted': model_pred, 'Actual': y_test,'Residual': y_test - model_pred})\n",
        "print(result.head(20))\n",
        "# print performance measures (validation data) \n",
        "regressionSummary(y_test, model_pred)"
      ]
    },
    {
      "cell_type": "code",
      "execution_count": 79,
      "metadata": {
        "id": "kgR5gRybMm5u"
      },
      "outputs": [],
      "source": [
        "import sklearn.metrics as metrics"
      ]
    },
    {
      "cell_type": "code",
      "execution_count": 80,
      "metadata": {
        "colab": {
          "base_uri": "https://localhost:8080/"
        },
        "id": "wONtwD2qL6oZ",
        "outputId": "e2805373-9e66-4ec0-bdc1-195eba91cdba"
      },
      "outputs": [
        {
          "output_type": "stream",
          "name": "stdout",
          "text": [
            "R-Square Error associated with linear regression is 0.738715043065808\n"
          ]
        }
      ],
      "source": [
        "r_square = metrics.r2_score(y_test,model_pred)\n",
        "print(\"R-Square Error associated with linear regression is\", r_square)"
      ]
    },
    {
      "cell_type": "code",
      "execution_count": 81,
      "metadata": {
        "colab": {
          "base_uri": "https://localhost:8080/",
          "height": 298
        },
        "id": "Ty2f7hO03pOq",
        "outputId": "82d3b6b7-994c-4408-866e-8312efca8f6d"
      },
      "outputs": [
        {
          "output_type": "stream",
          "name": "stdout",
          "text": [
            "0.9991327315015571\n"
          ]
        },
        {
          "output_type": "display_data",
          "data": {
            "text/plain": [
              "<Figure size 432x288 with 1 Axes>"
            ],
            "image/png": "[encoded data removed]"
          },
          "metadata": {
            "needs_background": "light"
          }
        }
      ],
      "source": [
        "model_pred = model.predict(X_test)\n",
        "all_residuals = y_test - model_pred\n",
        "# Determine the percentage of datapoints with a residual in [-1406, 1406] = approx.\n",
        "# 75%\n",
        "print(len(all_residuals[(all_residuals > -4) & (all_residuals < 4)]) / len(all_residuals))\n",
        "pd.DataFrame({'Residuals':all_residuals}).hist(bins=5) \n",
        "plt.show()"
      ]
    },
    {
      "cell_type": "code",
      "execution_count": 82,
      "metadata": {
        "id": "rc3KOiYQL6oa",
        "scrolled": true
      },
      "outputs": [],
      "source": [
        "#pip install yellowbrick"
      ]
    },
    {
      "cell_type": "code",
      "execution_count": 83,
      "metadata": {
        "id": "WGymTxM2L6oa"
      },
      "outputs": [],
      "source": [
        "from yellowbrick.regressor import PredictionError, ResidualsPlot"
      ]
    },
    {
      "cell_type": "code",
      "execution_count": 84,
      "metadata": {
        "colab": {
          "base_uri": "https://localhost:8080/",
          "height": 395
        },
        "id": "6WOofBXLM1yB",
        "outputId": "6e18721c-b4f0-455c-a451-07dd4e0db4d0"
      },
      "outputs": [
        {
          "output_type": "execute_result",
          "data": {
            "text/plain": [
              "<matplotlib.axes._subplots.AxesSubplot at 0x7f133f479850>"
            ]
          },
          "metadata": {},
          "execution_count": 84
        },
        {
          "output_type": "display_data",
          "data": {
            "text/plain": [
              "<Figure size 576x396 with 1 Axes>"
            ],
            "image/png": "[encoded data removed]"
          },
          "metadata": {}
        }
      ],
      "source": [
        "model1 = LinearRegression()\n",
        "visualizer = PredictionError(model1)\n",
        "visualizer.fit(X_train, y_train)  \n",
        "visualizer.score(X_test, y_test)  \n",
        "visualizer.poof()"
      ]
    },
    {
      "cell_type": "code",
      "execution_count": 85,
      "metadata": {
        "colab": {
          "base_uri": "https://localhost:8080/",
          "height": 463
        },
        "id": "wh1feThhNsiF",
        "outputId": "6eaac9d4-0ff7-45ad-d053-1297cbb4ae3f"
      },
      "outputs": [
        {
          "output_type": "stream",
          "name": "stderr",
          "text": [
            "/usr/local/lib/python3.7/dist-packages/sklearn/base.py:451: UserWarning:\n",
            "\n",
            "X does not have valid feature names, but LinearRegression was fitted with feature names\n",
            "\n"
          ]
        },
        {
          "output_type": "execute_result",
          "data": {
            "text/plain": [
              "<matplotlib.axes._subplots.AxesSubplot at 0x7f133f90c210>"
            ]
          },
          "metadata": {},
          "execution_count": 85
        },
        {
          "output_type": "display_data",
          "data": {
            "text/plain": [
              "<Figure size 576x396 with 2 Axes>"
            ],
            "image/png": "[encoded data removed]"
          },
          "metadata": {}
        }
      ],
      "source": [
        "visualizer = ResidualsPlot(model1)\n",
        "visualizer.fit(X_train, y_train)  \n",
        "visualizer.score(X_test, y_test)  \n",
        "visualizer.poof()"
      ]
    },
    {
      "cell_type": "markdown",
      "metadata": {
        "id": "K9NRoGlLL6oa"
      },
      "source": [
        "# Lasso Model #"
      ]
    },
    {
      "cell_type": "code",
      "source": [
        "lasso = Lasso(normalize=True, alpha=1) \n",
        "lasso.fit(X_train, y_train) \n",
        "regressionSummary(y_test, lasso.predict(X_test)) "
      ],
      "metadata": {
        "colab": {
          "base_uri": "https://localhost:8080/"
        },
        "id": "6hsKLDiFJvwl",
        "outputId": "57016cbc-e897-4a6e-f3d7-f0da5e01b4e4"
      },
      "execution_count": 88,
      "outputs": [
        {
          "output_type": "stream",
          "name": "stdout",
          "text": [
            "\n",
            "Regression statistics\n",
            "\n",
            "                      Mean Error (ME) : 0.0106\n",
            "       Root Mean Squared Error (RMSE) : 1.0201\n",
            "            Mean Absolute Error (MAE) : 0.7276\n",
            "          Mean Percentage Error (MPE) : 99.4549\n",
            "Mean Absolute Percentage Error (MAPE) : 99.4657\n"
          ]
        },
        {
          "output_type": "stream",
          "name": "stderr",
          "text": [
            "/usr/local/lib/python3.7/dist-packages/sklearn/linear_model/_base.py:145: FutureWarning:\n",
            "\n",
            "'normalize' was deprecated in version 1.0 and will be removed in 1.2.\n",
            "If you wish to scale the data, use Pipeline with a StandardScaler in a preprocessing stage. To reproduce the previous behavior:\n",
            "\n",
            "from sklearn.pipeline import make_pipeline\n",
            "\n",
            "model = make_pipeline(StandardScaler(with_mean=False), Lasso())\n",
            "\n",
            "If you wish to pass a sample_weight parameter, you need to pass it as a fit parameter to each step of the pipeline as follows:\n",
            "\n",
            "kwargs = {s[0] + '__sample_weight': sample_weight for s in model.steps}\n",
            "model.fit(X, y, **kwargs)\n",
            "\n",
            "Set parameter alpha to: original_alpha * np.sqrt(n_samples). \n",
            "\n"
          ]
        }
      ]
    },
    {
      "cell_type": "code",
      "execution_count": 89,
      "metadata": {
        "colab": {
          "base_uri": "https://localhost:8080/"
        },
        "id": "qC3mnVbSL6oa",
        "scrolled": true,
        "outputId": "ca3f372c-0f21-4afc-9831-08bfe2d6632e"
      },
      "outputs": [
        {
          "output_type": "stream",
          "name": "stdout",
          "text": [
            "R-Square Error associated with lasso model is -0.00010754762869558121\n"
          ]
        }
      ],
      "source": [
        "r_square = metrics.r2_score(y_test,lasso.predict(X_test))\n",
        "print(\"R-Square Error associated with lasso model is\", r_square)"
      ]
    },
    {
      "cell_type": "code",
      "execution_count": null,
      "metadata": {
        "id": "dbmM-aEISExF"
      },
      "outputs": [],
      "source": [
        "visualizer = PredictionError(lasso)\n",
        "visualizer.fit(X_train, y_train)  \n",
        "visualizer.score(X_test, y_test)  \n",
        "visualizer.poof()"
      ]
    },
    {
      "cell_type": "markdown",
      "metadata": {
        "id": "rMBdqaCiL6oa"
      },
      "source": [
        "# Bayesian Ridge #"
      ]
    },
    {
      "cell_type": "code",
      "execution_count": null,
      "metadata": {
        "id": "pkQQ5mIfz7OD"
      },
      "outputs": [],
      "source": [
        "bayesianRidge = BayesianRidge(normalize=True) \n",
        "bayesianRidge.fit(X_train, y_train) \n",
        "regressionSummary(y_test, bayesianRidge.predict(X_test)) \n",
        "alpha = bayesianRidge.lambda_ / bayesianRidge.alpha_ \n",
        "print('Bayesian ridge chosen regularization: ', alpha)"
      ]
    },
    {
      "cell_type": "code",
      "execution_count": null,
      "metadata": {
        "id": "CK3JenAQL6ob"
      },
      "outputs": [],
      "source": [
        "r_square = metrics.r2_score(y_test,bayesianRidge.predict(X_test))\n",
        "print(\"R-Square Error associated with bayesian ridge is\", r_square)"
      ]
    },
    {
      "cell_type": "code",
      "execution_count": null,
      "metadata": {
        "id": "TsDAo9YpRpdR"
      },
      "outputs": [],
      "source": [
        "visualizer = PredictionError(bayesianRidge)\n",
        "visualizer.fit(X_train, y_train)  \n",
        "visualizer.score(X_test, y_test)  \n",
        "visualizer.poof()"
      ]
    },
    {
      "cell_type": "code",
      "execution_count": null,
      "metadata": {
        "id": "bcKTIzbXR7EA"
      },
      "outputs": [],
      "source": [
        "visualizer = ResidualsPlot(bayesianRidge)\n",
        "visualizer.fit(X_train, y_train)  \n",
        "visualizer.score(X_test, y_test)  \n",
        "visualizer.poof()"
      ]
    },
    {
      "cell_type": "markdown",
      "metadata": {
        "id": "pJYfrY0wL6ob"
      },
      "source": [
        "# KNN Model #"
      ]
    },
    {
      "cell_type": "code",
      "execution_count": null,
      "metadata": {
        "id": "m7eEJrixwsqO"
      },
      "outputs": [],
      "source": [
        "from sklearn.neighbors import KNeighborsRegressor\n",
        "from sklearn.metrics import mean_squared_error"
      ]
    },
    {
      "cell_type": "code",
      "execution_count": null,
      "metadata": {
        "id": "cm-hsiXZyMug"
      },
      "outputs": [],
      "source": [
        "results = [] \n",
        "for k in range(100, 110): \n",
        "    knn = KNeighborsRegressor(n_neighbors=k).fit(X_train, y_train) \n",
        "    mse=mean_squared_error(y_test,knn.predict(X_test))\n",
        "    results.append(mse) \n",
        "    print('For k value:',k,'MSE value is',mse)"
      ]
    },
    {
      "cell_type": "markdown",
      "metadata": {
        "id": "JbhyDKDCyhtF"
      },
      "source": [
        "k=109 has the best accuracy"
      ]
    },
    {
      "cell_type": "code",
      "execution_count": null,
      "metadata": {
        "id": "Q3D3FMdbyVVc"
      },
      "outputs": [],
      "source": [
        "knn = KNeighborsRegressor(n_neighbors=109).fit(X_train, y_train) \n",
        "mse=mean_squared_error(y_test,knn.predict(X_test))\n",
        "results.append(mse) \n",
        "print('For k value:',k,'MSE value is',mse)"
      ]
    },
    {
      "cell_type": "code",
      "execution_count": null,
      "metadata": {
        "id": "yyq1VPPGL6ob"
      },
      "outputs": [],
      "source": [
        "print(\"Knn test dataset\")\n",
        "regressionSummary(y_test , knn.predict(X_test))"
      ]
    },
    {
      "cell_type": "code",
      "execution_count": null,
      "metadata": {
        "id": "ksF3rwv0L6ob"
      },
      "outputs": [],
      "source": [
        "from sklearn import metrics"
      ]
    },
    {
      "cell_type": "code",
      "execution_count": null,
      "metadata": {
        "id": "V08ei1VUL6oc"
      },
      "outputs": [],
      "source": [
        "r_square = metrics.r2_score(y_test,knn.predict(X_test))\n",
        "print(\"R-Square Error associated with Knn is\", r_square)"
      ]
    },
    {
      "cell_type": "code",
      "execution_count": null,
      "metadata": {
        "id": "eE1H5F4hXa1j"
      },
      "outputs": [],
      "source": [
        "cars_new_updated.shape"
      ]
    },
    {
      "cell_type": "code",
      "execution_count": null,
      "metadata": {
        "id": "C_psX6feRE5U"
      },
      "outputs": [],
      "source": [
        "visualizer = PredictionError(knn)\n",
        "visualizer.fit(X_train, y_train)  \n",
        "visualizer.score(X_test, y_test)  \n",
        "visualizer.poof()"
      ]
    },
    {
      "cell_type": "code",
      "execution_count": null,
      "metadata": {
        "id": "UkJ4qxDARO70"
      },
      "outputs": [],
      "source": [
        "visualizer = ResidualsPlot(knn)\n",
        "visualizer.fit(X_train, y_train)  \n",
        "visualizer.score(X_test, y_test)  \n",
        "visualizer.poof()"
      ]
    },
    {
      "cell_type": "markdown",
      "metadata": {
        "id": "QebeO7FaL6oc"
      },
      "source": [
        "# Decision Tree Regression Model #"
      ]
    },
    {
      "cell_type": "code",
      "execution_count": null,
      "metadata": {
        "id": "g8DlT-nTL6oc"
      },
      "outputs": [],
      "source": [
        "from sklearn.tree import DecisionTreeRegressor"
      ]
    },
    {
      "cell_type": "code",
      "execution_count": null,
      "metadata": {
        "id": "6Al6rU2DL6oc"
      },
      "outputs": [],
      "source": [
        "from sklearn.model_selection import cross_val_score, GridSearchCV "
      ]
    },
    {
      "cell_type": "code",
      "execution_count": null,
      "metadata": {
        "id": "BKn5jJdVL6oc"
      },
      "outputs": [],
      "source": [
        "param_grid = { \n",
        "'max_depth': [5, 10, 15, 20, 25], \n",
        "'min_impurity_decrease': [0, 0.001, 0.005, 0.01],  'min_samples_split': [10, 20, 30, 40, 50]} \n",
        "gridSearch = GridSearchCV(DecisionTreeRegressor(), param_grid, cv=5, n_jobs=-1) \n",
        "gridSearch.fit(X_train, y_train)\n",
        "print('Initial parameters: ', gridSearch.best_params_) \n",
        "param_grid = {\n",
        "    'max_depth': [30, 60, 90],\n",
        "    'min_impurity_decrease': [0, 0.01, 0.02, 0.03, 0.05, 0.06, 0.07, 0.08], \n",
        "    'min_samples_split': [140, 150, 160, 180, 200 ] }\n",
        "gridSearch = GridSearchCV(DecisionTreeRegressor(), param_grid, cv=5, n_jobs=-1) \n",
        "gridSearch.fit(X_train, y_train)\n",
        "print('Improved parameters: ', gridSearch.best_params_) \n",
        "regTree = gridSearch.best_estimator_ \n",
        "regressionSummary(y_train, regTree.predict(X_train)) \n",
        "regressionSummary(y_test, regTree.predict(X_test)) "
      ]
    },
    {
      "cell_type": "code",
      "execution_count": null,
      "metadata": {
        "id": "IYscwK3AL6oc"
      },
      "outputs": [],
      "source": [
        "r_square = metrics.r2_score(y_test,regTree.predict(X_test))\n",
        "print(\"R-Square Error associated with Decision tree regressor is\", r_square)"
      ]
    },
    {
      "cell_type": "code",
      "execution_count": null,
      "metadata": {
        "id": "gE-1vG36QdSs"
      },
      "outputs": [],
      "source": [
        "visualizer = PredictionError(gridSearch)\n",
        "visualizer.fit(X_train, y_train)  \n",
        "visualizer.score(X_test, y_test)  \n",
        "visualizer.poof()"
      ]
    },
    {
      "cell_type": "code",
      "execution_count": null,
      "metadata": {
        "id": "cm295dURQ6GQ"
      },
      "outputs": [],
      "source": [
        "visualizer = ResidualsPlot(gridSearch)\n",
        "visualizer.fit(X_train, y_train)  \n",
        "visualizer.score(X_test, y_test)  \n",
        "visualizer.poof()"
      ]
    },
    {
      "cell_type": "markdown",
      "metadata": {
        "id": "a26nfB-aL6od"
      },
      "source": [
        "# Random Forest Model #"
      ]
    },
    {
      "cell_type": "code",
      "execution_count": null,
      "metadata": {
        "id": "Yg1SdauBL6od"
      },
      "outputs": [],
      "source": [
        "from sklearn.ensemble import RandomForestRegressor"
      ]
    },
    {
      "cell_type": "code",
      "execution_count": null,
      "metadata": {
        "id": "gtOKmd-pL6od"
      },
      "outputs": [],
      "source": [
        "RFR = RandomForestRegressor(random_state=0,max_depth=32)\n",
        "model_RFR=RFR.fit(X_train,y_train)"
      ]
    },
    {
      "cell_type": "code",
      "execution_count": null,
      "metadata": {
        "id": "dd7Adl9vL6od"
      },
      "outputs": [],
      "source": [
        "y_predict =  RFR.predict(X_test)"
      ]
    },
    {
      "cell_type": "code",
      "execution_count": null,
      "metadata": {
        "id": "AbCZsMPDPQeH"
      },
      "outputs": [],
      "source": [
        "#model1 = LinearRegression()\n",
        "visualizer = PredictionError(RFR)\n",
        "visualizer.fit(X_train, y_train)  \n",
        "visualizer.score(X_test, y_test)  \n",
        "visualizer.poof()"
      ]
    },
    {
      "cell_type": "code",
      "execution_count": null,
      "metadata": {
        "id": "AL0-os09PhGK"
      },
      "outputs": [],
      "source": [
        "visualizer = ResidualsPlot(RFR)\n",
        "visualizer.fit(X_train, y_train)  \n",
        "visualizer.score(X_test, y_test)  \n",
        "visualizer.poof()"
      ]
    },
    {
      "cell_type": "code",
      "execution_count": null,
      "metadata": {
        "id": "GJnWLdXhL6od"
      },
      "outputs": [],
      "source": [
        "regressionSummary(y_test, RFR.predict(X_test)) "
      ]
    },
    {
      "cell_type": "code",
      "execution_count": null,
      "metadata": {
        "id": "QAa4NX-7L6od"
      },
      "outputs": [],
      "source": [
        "r_square = metrics.r2_score(y_test,RFR.predict(X_test))\n",
        "print(\"R-Square Error associated with Random Forest regressor is\", r_square)"
      ]
    },
    {
      "cell_type": "code",
      "execution_count": null,
      "metadata": {
        "id": "Q3NHhyKKL6od"
      },
      "outputs": [],
      "source": [
        "r1_square = metrics.r2_score(y_test,model_pred)\n",
        "print(\"R-Square Error associated with linear regression is\", r1_square)\n",
        "\n",
        "r2_square = metrics.r2_score(y_test,lasso.predict(X_test))\n",
        "print(\"R-Square Error associated with lasso model is\", r2_square)\n",
        "\n",
        "r3_square = metrics.r2_score(y_test,bayesianRidge.predict(X_test))\n",
        "print(\"R-Square Error associated with bayesian ridge is\", r3_square)\n",
        "\n",
        "r4_square = metrics.r2_score(y_test,knn.predict(X_test))\n",
        "print(\"R-Square Error associated with Knn is\", r4_square)\n",
        "\n",
        "\n",
        "r5_square = metrics.r2_score(y_test,regTree.predict(X_test))\n",
        "print(\"R-Square Error associated with Decision tree regressor is\", r5_square)\n",
        "\n",
        "\n",
        "r6_square = metrics.r2_score(y_test,RFR.predict(X_test))\n",
        "print(\"R-Square Error associated with Random Forest regressor is\", r6_square)\n"
      ]
    },
    {
      "cell_type": "code",
      "execution_count": null,
      "metadata": {
        "id": "yF5n8XeOL6oe"
      },
      "outputs": [],
      "source": [
        "print(\" Linear regression summary\")\n",
        "regressionSummary(y_test, model_pred)\n",
        "\n",
        "print(\"\\n\")\n",
        "print(\" Lasso Regression summary\")\n",
        "regressionSummary(y_test,lasso.predict(X_test))\n",
        "\n",
        "print(\"\\n\")\n",
        "print(\" Bayesian Regression summary\")\n",
        "regressionSummary(y_test, bayesianRidge.predict(X_test)) \n",
        "\n",
        "print(\"\\n\")\n",
        "print(\" KNN regression summary\")\n",
        "regressionSummary(y_test , knn.predict(X_test))\n",
        "\n",
        "print(\"\\n\")\n",
        "print(\" Decision tree regression summary\")\n",
        "regressionSummary(y_test, regTree.predict(X_test)) \n",
        "\n",
        "print(\"\\n\")\n",
        "print(\"Randomforest regression summary\")\n",
        "regressionSummary(y_test, RFR.predict(X_test))     "
      ]
    },
    {
      "cell_type": "code",
      "execution_count": null,
      "metadata": {
        "id": "exC44dHXL6oe"
      },
      "outputs": [],
      "source": [
        "plt.figure(figsize=(24,16))\n",
        "plt.subplot(3,2,1)\n",
        "visualizer = PredictionError(RFR)\n",
        "visualizer.fit(X_train, y_train)  \n",
        "visualizer.score(X_test, y_test)  \n",
        "visualizer.poof()\n",
        "plt.subplot(3,2,2)\n",
        "visualizer = PredictionError(gridSearch)\n",
        "visualizer.fit(X_train, y_train)  \n",
        "visualizer.score(X_test, y_test)  \n",
        "visualizer.poof()\n",
        "plt.subplot(3,2,3)\n",
        "visualizer = PredictionError(knn)\n",
        "visualizer.fit(X_train, y_train)  \n",
        "visualizer.score(X_test, y_test)  \n",
        "visualizer.poof()\n",
        "plt.subplot(3,2,4)\n",
        "visualizer = PredictionError(bayesianRidge)\n",
        "visualizer.fit(X_train, y_train)  \n",
        "visualizer.score(X_test, y_test)  \n",
        "visualizer.poof()\n",
        "plt.subplot(3,2,5)\n",
        "visualizer = PredictionError(lasso)\n",
        "visualizer.fit(X_train, y_train)  \n",
        "visualizer.score(X_test, y_test)  \n",
        "visualizer.poof()\n",
        "plt.subplot(3,2,6)\n",
        "visualizer = PredictionError(model1)\n",
        "visualizer.fit(X_train, y_train)  \n",
        "visualizer.score(X_test, y_test)  \n",
        "visualizer.poof()\n",
        "plt.show()"
      ]
    },
    {
      "cell_type": "code",
      "execution_count": null,
      "metadata": {
        "id": "E0lmAUkBTtFG"
      },
      "outputs": [],
      "source": [
        "plt.figure(figsize=(24,16))\n",
        "plt.subplot(3,2,1)\n",
        "visualizer = ResidualsPlot(RFR)\n",
        "visualizer.fit(X_train, y_train)  \n",
        "visualizer.score(X_test, y_test)  \n",
        "visualizer.poof()\n",
        "plt.subplot(3,2,2)\n",
        "visualizer = ResidualsPlot(gridSearch)\n",
        "visualizer.fit(X_train, y_train)  \n",
        "visualizer.score(X_test, y_test)  \n",
        "visualizer.poof()\n",
        "plt.subplot(3,2,3)\n",
        "visualizer = ResidualsPlot(knn)\n",
        "visualizer.fit(X_train, y_train)  \n",
        "visualizer.score(X_test, y_test)  \n",
        "visualizer.poof()\n",
        "plt.subplot(3,2,4)\n",
        "visualizer = ResidualsPlot(bayesianRidge)\n",
        "visualizer.fit(X_train, y_train)  \n",
        "visualizer.score(X_test, y_test)  \n",
        "visualizer.poof()\n",
        "plt.subplot(3,2,5)\n",
        "visualizer = ResidualsPlot(lasso)\n",
        "visualizer.fit(X_train, y_train)  \n",
        "visualizer.score(X_test, y_test)  \n",
        "visualizer.poof()\n",
        "plt.subplot(3,2,6)\n",
        "visualizer = ResidualsPlot(model1)\n",
        "visualizer.fit(X_train, y_train)  \n",
        "visualizer.score(X_test, y_test)  \n",
        "visualizer.poof()\n",
        "plt.show()"
      ]
    },
    {
      "cell_type": "code",
      "execution_count": null,
      "metadata": {
        "id": "VgX3CqQNVCe-"
      },
      "outputs": [],
      "source": [
        "d={'Linear Regression':[0.0053,0.5214,0.3375,24.7412,173.1875],'lasso':[0.0106,1.0201,0.7276,99.4549,99.4657],'Bayesian':[0.0053,0.5214,0.3375,24.7412,173.1875],'knn':[0.0000,0.3482,0.2039,2.3292,107.9830],'Decision_Tree':[0.0012,0.2860,0.1685,-1.2035,93.8687],'Random_Forest':[-0.0008,0.2038,0.1249,-3.5241,68.4430]}\n",
        "result_table = pd.DataFrame(d,index=['ME','RMSE','MAE','MPE','MAPE'])\n",
        "result_table"
      ]
    },
    {
      "cell_type": "code",
      "source": [
        "bar_rmse = pd.DataFrame({'model':['Linear Regression','lasso','Bayesian','knn','Decision_Tree','Random_Forest'],'Rmse':[0.5214,1.0201,0.5214,0.3482,0.2860,0.2038]})\n",
        "ax = bar_rmse.plot.bar(x='model',y='Rmse')"
      ],
      "metadata": {
        "id": "DABcxV_2m2Wp"
      },
      "execution_count": null,
      "outputs": []
    },
    {
      "cell_type": "code",
      "source": [
        "l"
      ],
      "metadata": {
        "id": "3TTU3J5ioYcV"
      },
      "execution_count": null,
      "outputs": []
    }
  ],
  "metadata": {
    "colab": {
      "collapsed_sections": [],
      "name": "Price_Prediction_Project (5).ipynb",
      "provenance": []
    },
    "kernelspec": {
      "display_name": "Python 3 (ipykernel)",
      "language": "python",
      "name": "python3"
    },
    "language_info": {
      "codemirror_mode": {
        "name": "ipython",
        "version": 3
      },
      "file_extension": ".py",
      "mimetype": "text/x-python",
      "name": "python",
      "nbconvert_exporter": "python",
      "pygments_lexer": "ipython3",
      "version": "3.9.7"
    }
  },
  "nbformat": 4,
  "nbformat_minor": 0
}